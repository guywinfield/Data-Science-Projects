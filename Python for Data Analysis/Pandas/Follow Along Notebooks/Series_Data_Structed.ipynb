{
 "cells": [
  {
   "cell_type": "code",
   "id": "initial_id",
   "metadata": {
    "collapsed": true,
    "ExecuteTime": {
     "end_time": "2025-08-04T09:45:30.228521Z",
     "start_time": "2025-08-04T09:45:30.025625Z"
    }
   },
   "source": "import pandas as pd",
   "outputs": [],
   "execution_count": 1
  },
  {
   "metadata": {
    "ExecuteTime": {
     "end_time": "2025-08-04T09:46:14.044442Z",
     "start_time": "2025-08-04T09:46:14.036084Z"
    }
   },
   "cell_type": "code",
   "source": [
    "students = [\"Alice\",\"Jack\",\"Molly\"]\n",
    "pd.Series(students)"
   ],
   "id": "b2031ec6ba6f39c1",
   "outputs": [
    {
     "data": {
      "text/plain": [
       "0    Alice\n",
       "1     Jack\n",
       "2    Molly\n",
       "dtype: object"
      ]
     },
     "execution_count": 5,
     "metadata": {},
     "output_type": "execute_result"
    }
   ],
   "execution_count": 5
  },
  {
   "metadata": {
    "ExecuteTime": {
     "end_time": "2025-08-04T09:48:34.679604Z",
     "start_time": "2025-08-04T09:48:34.676501Z"
    }
   },
   "cell_type": "code",
   "source": [
    "numbers = [1,2,3]\n",
    "\n",
    "pd.Series(numbers)"
   ],
   "id": "54fa5f257feb535e",
   "outputs": [
    {
     "data": {
      "text/plain": [
       "0    1\n",
       "1    2\n",
       "2    3\n",
       "dtype: int64"
      ]
     },
     "execution_count": 7,
     "metadata": {},
     "output_type": "execute_result"
    }
   ],
   "execution_count": 7
  },
  {
   "metadata": {
    "ExecuteTime": {
     "end_time": "2025-08-04T09:49:26.013152Z",
     "start_time": "2025-08-04T09:49:26.011098Z"
    }
   },
   "cell_type": "code",
   "source": "students = [\"Alice\",\"Jack\",None]",
   "id": "52c6c62e9e27ba81",
   "outputs": [],
   "execution_count": 8
  },
  {
   "metadata": {
    "ExecuteTime": {
     "end_time": "2025-08-04T09:49:30.851335Z",
     "start_time": "2025-08-04T09:49:30.848357Z"
    }
   },
   "cell_type": "code",
   "source": "pd.Series(students)",
   "id": "a7d6603751712ff",
   "outputs": [
    {
     "data": {
      "text/plain": [
       "0    Alice\n",
       "1     Jack\n",
       "2     None\n",
       "dtype: object"
      ]
     },
     "execution_count": 9,
     "metadata": {},
     "output_type": "execute_result"
    }
   ],
   "execution_count": 9
  },
  {
   "metadata": {
    "ExecuteTime": {
     "end_time": "2025-08-04T09:49:55.883086Z",
     "start_time": "2025-08-04T09:49:55.875489Z"
    }
   },
   "cell_type": "code",
   "source": [
    "numbers = [1,2,None]\n",
    "\n",
    "pd.Series(numbers)"
   ],
   "id": "725edd31748b1b07",
   "outputs": [
    {
     "data": {
      "text/plain": [
       "0    1.0\n",
       "1    2.0\n",
       "2    NaN\n",
       "dtype: float64"
      ]
     },
     "execution_count": 11,
     "metadata": {},
     "output_type": "execute_result"
    }
   ],
   "execution_count": 11
  },
  {
   "metadata": {
    "ExecuteTime": {
     "end_time": "2025-08-04T09:51:24.317942Z",
     "start_time": "2025-08-04T09:51:24.313327Z"
    }
   },
   "cell_type": "code",
   "source": [
    "import numpy as np\n",
    "\n",
    "np.nan == None"
   ],
   "id": "af9b1f695178d66b",
   "outputs": [
    {
     "data": {
      "text/plain": [
       "False"
      ]
     },
     "execution_count": 14,
     "metadata": {},
     "output_type": "execute_result"
    }
   ],
   "execution_count": 14
  },
  {
   "metadata": {
    "ExecuteTime": {
     "end_time": "2025-08-04T09:51:32.027506Z",
     "start_time": "2025-08-04T09:51:32.023456Z"
    }
   },
   "cell_type": "code",
   "source": "np.nan == np.nan",
   "id": "29730f626fd95339",
   "outputs": [
    {
     "data": {
      "text/plain": [
       "False"
      ]
     },
     "execution_count": 15,
     "metadata": {},
     "output_type": "execute_result"
    }
   ],
   "execution_count": 15
  },
  {
   "metadata": {
    "ExecuteTime": {
     "end_time": "2025-08-04T09:51:47.304704Z",
     "start_time": "2025-08-04T09:51:47.301136Z"
    }
   },
   "cell_type": "code",
   "source": "np.isnan(np.nan)",
   "id": "8c52b1b2ec482803",
   "outputs": [
    {
     "data": {
      "text/plain": [
       "np.True_"
      ]
     },
     "execution_count": 16,
     "metadata": {},
     "output_type": "execute_result"
    }
   ],
   "execution_count": 16
  },
  {
   "metadata": {
    "ExecuteTime": {
     "end_time": "2025-08-04T09:53:39.256108Z",
     "start_time": "2025-08-04T09:53:39.249570Z"
    }
   },
   "cell_type": "code",
   "source": [
    "student_scores = {\"Alice\": \"Physics\",\"Jack\": \"Chemistry\",\"Molly\": \"English\"}\n",
    "\n",
    "s = pd.Series(student_scores)\n",
    "s"
   ],
   "id": "1b5f9af90ab73ec4",
   "outputs": [
    {
     "data": {
      "text/plain": [
       "Alice      Physics\n",
       "Jack     Chemistry\n",
       "Molly      English\n",
       "dtype: object"
      ]
     },
     "execution_count": 18,
     "metadata": {},
     "output_type": "execute_result"
    }
   ],
   "execution_count": 18
  },
  {
   "metadata": {
    "ExecuteTime": {
     "end_time": "2025-08-04T09:54:05.766659Z",
     "start_time": "2025-08-04T09:54:05.762144Z"
    }
   },
   "cell_type": "code",
   "source": "s.index",
   "id": "4aca777674e5ca7e",
   "outputs": [
    {
     "data": {
      "text/plain": [
       "Index(['Alice', 'Jack', 'Molly'], dtype='object')"
      ]
     },
     "execution_count": 19,
     "metadata": {},
     "output_type": "execute_result"
    }
   ],
   "execution_count": 19
  },
  {
   "metadata": {
    "ExecuteTime": {
     "end_time": "2025-08-04T09:55:19.198825Z",
     "start_time": "2025-08-04T09:55:19.194836Z"
    }
   },
   "cell_type": "code",
   "source": [
    "students= [(\"Alice\", \"Brown\"),(\"Jack\", \"White\"), (\"Molly\", \"Green\")]\n",
    "\n",
    "pd.Series(students)"
   ],
   "id": "81e1017c50623e03",
   "outputs": [
    {
     "data": {
      "text/plain": [
       "0    (Alice, Brown)\n",
       "1     (Jack, White)\n",
       "2    (Molly, Green)\n",
       "dtype: object"
      ]
     },
     "execution_count": 20,
     "metadata": {},
     "output_type": "execute_result"
    }
   ],
   "execution_count": 20
  },
  {
   "metadata": {
    "ExecuteTime": {
     "end_time": "2025-08-04T09:56:04.590004Z",
     "start_time": "2025-08-04T09:56:04.584299Z"
    }
   },
   "cell_type": "code",
   "source": [
    "s = pd.Series([\"Physics\",\"Chemistry\",\"English\"], index=['Alice','Jack','Molly'])\n",
    "s"
   ],
   "id": "65a107ac93a24faa",
   "outputs": [
    {
     "data": {
      "text/plain": [
       "Alice      Physics\n",
       "Jack     Chemistry\n",
       "Molly      English\n",
       "dtype: object"
      ]
     },
     "execution_count": 22,
     "metadata": {},
     "output_type": "execute_result"
    }
   ],
   "execution_count": 22
  },
  {
   "metadata": {
    "ExecuteTime": {
     "end_time": "2025-08-04T09:57:22.677319Z",
     "start_time": "2025-08-04T09:57:22.670540Z"
    }
   },
   "cell_type": "code",
   "source": [
    "student_scores = {\"Alice\": \"Physics\",\"Jack\": \"Chemistry\",\"Molly\": \"English\"}\n",
    "\n",
    "s = pd.Series(student_scores, index=['Alice','Molly','Sam'])"
   ],
   "id": "3652230d422e9fad",
   "outputs": [],
   "execution_count": 23
  },
  {
   "metadata": {
    "ExecuteTime": {
     "end_time": "2025-08-04T09:57:23.831912Z",
     "start_time": "2025-08-04T09:57:23.827442Z"
    }
   },
   "cell_type": "code",
   "source": "s",
   "id": "5d802a41d72bf7c7",
   "outputs": [
    {
     "data": {
      "text/plain": [
       "Alice    Physics\n",
       "Molly    English\n",
       "Sam          NaN\n",
       "dtype: object"
      ]
     },
     "execution_count": 24,
     "metadata": {},
     "output_type": "execute_result"
    }
   ],
   "execution_count": 24
  },
  {
   "metadata": {},
   "cell_type": "code",
   "outputs": [],
   "execution_count": null,
   "source": "",
   "id": "19251acfec013d24"
  }
 ],
 "metadata": {
  "kernelspec": {
   "display_name": "Python 3",
   "language": "python",
   "name": "python3"
  },
  "language_info": {
   "codemirror_mode": {
    "name": "ipython",
    "version": 2
   },
   "file_extension": ".py",
   "mimetype": "text/x-python",
   "name": "python",
   "nbconvert_exporter": "python",
   "pygments_lexer": "ipython2",
   "version": "2.7.6"
  }
 },
 "nbformat": 4,
 "nbformat_minor": 5
}
