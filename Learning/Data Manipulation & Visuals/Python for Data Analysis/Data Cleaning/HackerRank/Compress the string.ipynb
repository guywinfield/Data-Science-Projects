{
 "cells": [
  {
   "cell_type": "code",
   "id": "initial_id",
   "metadata": {
    "collapsed": true,
    "ExecuteTime": {
     "end_time": "2025-08-18T09:41:33.607483Z",
     "start_time": "2025-08-18T09:41:28.833634Z"
    }
   },
   "source": "s = input()",
   "outputs": [],
   "execution_count": 1
  },
  {
   "metadata": {
    "ExecuteTime": {
     "end_time": "2025-08-18T09:41:34.669654Z",
     "start_time": "2025-08-18T09:41:34.664484Z"
    }
   },
   "cell_type": "code",
   "source": "s",
   "id": "3a4cfa03448e7e71",
   "outputs": [
    {
     "data": {
      "text/plain": [
       "'1222311'"
      ]
     },
     "execution_count": 2,
     "metadata": {},
     "output_type": "execute_result"
    }
   ],
   "execution_count": 2
  },
  {
   "metadata": {
    "ExecuteTime": {
     "end_time": "2025-08-18T09:52:14.537511Z",
     "start_time": "2025-08-18T09:52:14.535542Z"
    }
   },
   "cell_type": "code",
   "source": "x = list(s)\n",
   "id": "9bbe98e7d10a20a9",
   "outputs": [],
   "execution_count": 4
  },
  {
   "metadata": {
    "ExecuteTime": {
     "end_time": "2025-08-18T09:56:04.020958Z",
     "start_time": "2025-08-18T09:55:56.241817Z"
    }
   },
   "cell_type": "code",
   "source": [
    "from itertools import groupby\n",
    "\n",
    "input_value = input()\n",
    "\n",
    "group_result = groupby(input_value)\n",
    "\n",
    "for key,value in group_result:\n",
    "    value = sorted(list(value))\n",
    "    print(f\"({int(len(value))}, {int(key)})\", end=\" \")"
   ],
   "id": "39116343fff5286a",
   "outputs": [
    {
     "name": "stdout",
     "output_type": "stream",
     "text": [
      "(1, 1) (2, 2) (1, 1) (3, 3) (1, 4) "
     ]
    }
   ],
   "execution_count": 20
  },
  {
   "metadata": {
    "ExecuteTime": {
     "end_time": "2025-08-18T09:55:38.125001Z",
     "start_time": "2025-08-18T09:55:38.121901Z"
    }
   },
   "cell_type": "code",
   "source": "",
   "id": "509460390cee4fec",
   "outputs": [
    {
     "name": "stdout",
     "output_type": "stream",
     "text": [
      "<itertools.groupby object at 0x105120680>\n"
     ]
    }
   ],
   "execution_count": 18
  },
  {
   "metadata": {},
   "cell_type": "code",
   "outputs": [],
   "execution_count": null,
   "source": "",
   "id": "c9b969a102d6b06c"
  }
 ],
 "metadata": {
  "kernelspec": {
   "display_name": "Python 3",
   "language": "python",
   "name": "python3"
  },
  "language_info": {
   "codemirror_mode": {
    "name": "ipython",
    "version": 2
   },
   "file_extension": ".py",
   "mimetype": "text/x-python",
   "name": "python",
   "nbconvert_exporter": "python",
   "pygments_lexer": "ipython2",
   "version": "2.7.6"
  }
 },
 "nbformat": 4,
 "nbformat_minor": 5
}
