{
 "cells": [
  {
   "metadata": {},
   "cell_type": "code",
   "source": [
    "import pandas as pd\n",
    "import numpy as np\n",
    "import chart_studio.plotly as py\n",
    "import seaborn as sns\n",
    "import plotly.express as px\n",
    "import cufflinks as cf\n",
    "import random\n",
    "\n",
    "%matplotlib inline\n",
    "\n",
    "from plotly.offline import download_plotlyjs, init_notebook_mode, plot, iplot\n",
    "init_notebook_mode(connected=True)\n",
    "\n",
    "cf.go_offline()\n",
    "\n"
   ],
   "id": "641616b9703c3acb",
   "outputs": [],
   "execution_count": null
  },
  {
   "metadata": {},
   "cell_type": "code",
   "source": [
    "arr_1 = np.random.randn(50,4)\n",
    "df_1 = pd.DataFrame(arr_1, columns=['A','B','C','D'])\n",
    "df_1.head()"
   ],
   "id": "764cd144cf4eabef",
   "outputs": [],
   "execution_count": null
  },
  {
   "metadata": {},
   "cell_type": "markdown",
   "source": "# Linecharts\n",
   "id": "4d95b366d1671223"
  },
  {
   "metadata": {},
   "cell_type": "code",
   "source": [
    "import plotly.express as px\n",
    "fig = px.line(df_1)   # A–D plotted automatically\n",
    "fig.show()\n"
   ],
   "id": "6bdc9700b9c7b5c4",
   "outputs": [],
   "execution_count": null
  },
  {
   "metadata": {},
   "cell_type": "code",
   "source": [
    "import plotly.graph_objects as go\n",
    "\n",
    "df_stock = px.data.stocks()\n",
    "df_stock.head()"
   ],
   "id": "9951ccef75f77956",
   "outputs": [],
   "execution_count": null
  },
  {
   "metadata": {},
   "cell_type": "code",
   "source": [
    "px.line(df_stock,x='date',y='GOOG',labels={'x':'Date','y':'Price'})\n",
    "\n",
    "px.line(df_stock, x='date',y=['GOOG','AAPL'], labels={'x':'Date','y':'Price'},title='Apple vs Google')\n",
    "\n"
   ],
   "id": "1b5ef596d1ee8e90",
   "outputs": [],
   "execution_count": null
  },
  {
   "metadata": {},
   "cell_type": "code",
   "source": [
    "fig = go.Figure()\n",
    "\n",
    "fig.add_trace(go.Scatter(x=df_stock.date,y=df_stock.AAPL, mode='lines',name='Apple'))\n",
    "fig.add_trace(go.Scatter(x=df_stock.date,y=df_stock.AMZN, mode='lines+markers',name='Amazon'))\n",
    "fig.add_trace(go.Scatter(x=df_stock.date,y=df_stock.GOOG, mode='lines+markers',name='Google', line=dict(color='firebrick', width=2,dash='dashdot')))\n",
    "\n",
    "#fig.update_layout(title='Stock Price Data 2018 - 2020', xaxis_title='Date', yaxis_title='Price')\n",
    "\n",
    "fig.update_layout(\n",
    "    xaxis=dict(\n",
    "        showline=True, showgrid=False, showticklabels=True, linecolor='rgb(204,204,204)',\n",
    "        linewidth=2, ticks='outside', tickfont=dict(family='Arial',size=12,color='rgb(82,82,82)'),\n",
    "    ),\n",
    "    yaxis=dict(showgrid=False, zeroline=False, showline=False,\n",
    "               showticklabels=False),\n",
    "    autosize=False,\n",
    "    margin=dict(autoexpand=False, l=100, r=20,t=110,),\n",
    "    showlegend=False, plot_bgcolor='rgb(255,255,255)',\n",
    "\n",
    ")"
   ],
   "id": "d6c9e0447284f2f3",
   "outputs": [],
   "execution_count": null
  },
  {
   "metadata": {},
   "cell_type": "markdown",
   "source": "# Barcharts",
   "id": "5b4fe0d04c02dec8"
  },
  {
   "metadata": {},
   "cell_type": "code",
   "source": [
    "df_us = px.data.gapminder().query(\"country == 'United States'\")\n",
    "px.bar(df_us, x='year',y='pop')"
   ],
   "id": "95d3a2695e01a7f0",
   "outputs": [],
   "execution_count": null
  },
  {
   "metadata": {},
   "cell_type": "code",
   "source": [
    "df_tips = px.data.tips()\n",
    "px.bar(df_tips, x='day',y='tip',color='sex',title='Tips by Sex on Each Day', labels={'tip':'Tip Amount','day':'Day of the Week'})"
   ],
   "id": "b067c133925c86ac",
   "outputs": [],
   "execution_count": null
  },
  {
   "metadata": {},
   "cell_type": "code",
   "source": "px.bar(df_tips, x='sex',y='total_bill',color='smoker',barmode='group')",
   "id": "c304f9c858a46d1e",
   "outputs": [],
   "execution_count": null
  },
  {
   "metadata": {},
   "cell_type": "code",
   "source": "df_europe = px.data.gapminder().query(\"continent == 'Europe' and year == 2007 and pop > 2.e6\")",
   "id": "e621b0c8ba04de0f",
   "outputs": [],
   "execution_count": null
  },
  {
   "metadata": {},
   "cell_type": "code",
   "source": "df_europe.head()",
   "id": "fe4465d4b1cdbc49",
   "outputs": [],
   "execution_count": null
  },
  {
   "metadata": {},
   "cell_type": "code",
   "source": [
    "fig = px.bar(df_europe, y='pop', x='country', text='pop', color='country')\n",
    "fig.update_traces(texttemplate='%{text:.2s}', textposition='outside')\n",
    "fig.update_layout(uniformtext_minsize=8)\n",
    "fig.update_layout(xaxis_tickangle=-45)\n",
    "\n",
    "fig"
   ],
   "id": "30ef7f0a772e0b36",
   "outputs": [],
   "execution_count": null
  },
  {
   "metadata": {},
   "cell_type": "markdown",
   "source": "# Scatter Plot",
   "id": "c7d9a9c5e3651933"
  },
  {
   "metadata": {},
   "cell_type": "code",
   "source": [
    "df_iris = px.data.iris()\n",
    "df_iris.head()"
   ],
   "id": "309c1d199d171aec",
   "outputs": [],
   "execution_count": null
  },
  {
   "metadata": {},
   "cell_type": "code",
   "source": [
    "px.scatter(df_iris,x='sepal_width',y='sepal_length',color='species', size='petal_length',hover_data=['petal_width'])\n",
    "\n"
   ],
   "id": "fd69e3e61bc10f44",
   "outputs": [],
   "execution_count": null
  },
  {
   "metadata": {},
   "cell_type": "code",
   "source": [
    "fig = go.Figure()\n",
    "fig.add_trace(go.Scatter(\n",
    "    x=df_iris.sepal_width,y=df_iris.sepal_length,\n",
    "    mode='markers',\n",
    "    marker_color=df_iris.sepal_width,\n",
    "    text=df_iris.species, marker=dict(showscale=True)\n",
    "))\n",
    "\n",
    "fig.update_traces(marker_line_width=2, marker_size=10)"
   ],
   "id": "a1d571f9c50c08de",
   "outputs": [],
   "execution_count": null
  },
  {
   "metadata": {},
   "cell_type": "code",
   "source": [
    "fig = go.Figure(data=go.Scattergl(\n",
    "    x=np.random.randn(100000),\n",
    "    y=np.random.randn(100000),\n",
    "    mode='markers',\n",
    "    marker=dict(\n",
    "        color=np.random.randn(100000),\n",
    "        colorscale='Viridis',\n",
    "        line_width=1\n",
    ")))\n",
    "\n",
    "fig"
   ],
   "id": "a1fd805cdc2ca69c",
   "outputs": [],
   "execution_count": null
  },
  {
   "metadata": {},
   "cell_type": "markdown",
   "source": "# Pie Charts",
   "id": "b196d1566b3c130b"
  },
  {
   "metadata": {},
   "cell_type": "code",
   "source": [
    "df_asia = px.data.gapminder().query(\"year == 2007\").query(\"continent == 'Asia'\")\n",
    "px.pie(df_asia, values='pop', names='country', title='Population of Asian Continent',\n",
    "       color_discrete_sequence=px.colors.sequential.RdBu)"
   ],
   "id": "d92c2c9661f020ed",
   "outputs": [],
   "execution_count": null
  },
  {
   "metadata": {},
   "cell_type": "code",
   "source": [
    "colors = ['blue','green','black','purple','red','brown']\n",
    "\n",
    "fig = go.Figure(data=[go.Pie(labels=['Water','Grass','Normal','Psychic','Fire','Ground'],\n",
    "                             values=[110,90,80,80,70,60])])\n",
    "\n",
    "fig.update_traces(hoverinfo='label+percent',textfont_size=20, textinfo='label+percent',\n",
    "                  pull=[0.1,0,0.2,0,0,0],\n",
    "                  marker=dict(colors=colors, line=dict(color='#FFFFFF',width=2)))\n",
    "\n",
    "fig"
   ],
   "id": "9bc086328acf2db9",
   "outputs": [],
   "execution_count": null
  },
  {
   "metadata": {},
   "cell_type": "markdown",
   "source": "# Histogram",
   "id": "25fa4aad5dd0e44c"
  },
  {
   "metadata": {},
   "cell_type": "code",
   "source": [
    "dice_1 = np.random.randint(1,7,5000)\n",
    "dice_2 = np.random.randint(1,7,5000)\n",
    "\n",
    "dice_sum = dice_1 + dice_2\n",
    "\n",
    "fig = px.histogram(dice_sum, nbins=11,\n",
    "                   labels={'value':'Dice Roll'},\n",
    "                   title='5000 Dice Roll Histogram',\n",
    "                   marginal='violin',\n",
    "                   color_discrete_sequence=['green'])\n",
    "\n",
    "fig.update_layout(\n",
    "    xaxis_title_text='Dice Roll',\n",
    "    yaxis_title_text='Dice Sum',\n",
    "    bargap=0.2, showlegend=False,\n",
    ")\n",
    "\n",
    "\n",
    "\n",
    "\n"
   ],
   "id": "9cf663c46c02263f",
   "outputs": [],
   "execution_count": null
  },
  {
   "metadata": {},
   "cell_type": "code",
   "source": [
    "df_tips = px.data.tips()\n",
    "px.histogram(df_tips, x='total_bill', color='sex')"
   ],
   "id": "27c97f52404df58",
   "outputs": [],
   "execution_count": null
  },
  {
   "metadata": {},
   "cell_type": "markdown",
   "source": "# Boxplots",
   "id": "e6e9cb5dc7e0d107"
  },
  {
   "metadata": {},
   "cell_type": "code",
   "source": [
    "df_tips = px.data.tips()\n",
    "\n",
    "px.box(df_tips, x='sex',y='tip', points='all')"
   ],
   "id": "e4f3132f7284be90",
   "outputs": [],
   "execution_count": null
  },
  {
   "metadata": {},
   "cell_type": "code",
   "source": [
    "px.box(df_tips,x='day',y='tip',color='sex')\n",
    "\n",
    "fig = go.Figure()\n",
    "\n",
    "fig.add_trace(go.Box(x=df_tips.sex, y=df_tips.tip, marker_color='blue',\n",
    "                     boxmean='sd'))"
   ],
   "id": "894a6fe138735533",
   "outputs": [],
   "execution_count": null
  },
  {
   "metadata": {},
   "cell_type": "code",
   "source": [
    "df_stocks = px.data.stocks()\n",
    "fig = go.Figure()\n",
    "fig.add_trace(go.Box(y=df_stocks.GOOG,boxpoints='all',fillcolor='blue',jitter=0.5,\n",
    "                     whiskerwidth=0.2))\n",
    "fig.add_trace(go.Box(y=df_stocks.AAPL,boxpoints='all',fillcolor='red',jitter=0.5,\n",
    "                     whiskerwidth=0.2))\n",
    "\n",
    "fig.update_layout(title='Google vs Apple', yaxis=dict(gridcolor='rgb(255,255,255)',gridwidth=3),\n",
    "                  #paper_bgcolor='rgb(243,243,243)',\n",
    "                  plot_bgcolor='rgb(243,243,243)')\n",
    "fig"
   ],
   "id": "438f95f50b10ff27",
   "outputs": [],
   "execution_count": null
  },
  {
   "metadata": {},
   "cell_type": "markdown",
   "source": "# Violin Plot",
   "id": "4a9b61a27d1242f9"
  },
  {
   "metadata": {},
   "cell_type": "code",
   "source": "df_tips = px.data.tips()",
   "id": "f572ad51702d4e2a",
   "outputs": [],
   "execution_count": null
  },
  {
   "metadata": {},
   "cell_type": "code",
   "source": "px.violin(df_tips, y='total_bill',box=True, points='all')",
   "id": "89ec1a2d5f180435",
   "outputs": [],
   "execution_count": null
  },
  {
   "metadata": {},
   "cell_type": "code",
   "source": [
    "px.violin(df_tips, y='total_bill',box=True, points='all')\n",
    "px.violin(df_tips, y='tip',x='smoker',color='sex', box=True,points='all', hover_data=df_tips.columns)\n",
    "\n",
    "fig = go.Figure()\n",
    "fig.add_trace(go.Violin(x=df_tips['day'][df_tips['smoker'] == 'Yes'],\n",
    "                        y=df_tips['total_bill'][df_tips['smoker'] == 'Yes'],\n",
    "                        legendgroup='Yes',scalegroup='Yes',name='Yes',\n",
    "                        side='negative', line_color='blue'))\n",
    "\n",
    "fig.add_trace(go.Violin(x=df_tips['day'][df_tips['smoker'] == 'No'],\n",
    "                        y=df_tips['total_bill'][df_tips['smoker'] == 'No'],\n",
    "                        legendgroup='Yes',scalegroup='Yes',name='No',\n",
    "                        side='positive', line_color='red'))"
   ],
   "id": "7f66a3dbb7088172",
   "outputs": [],
   "execution_count": null
  },
  {
   "metadata": {},
   "cell_type": "markdown",
   "source": "# Density Heat Maps",
   "id": "1e40f08c230e50a3"
  },
  {
   "metadata": {},
   "cell_type": "code",
   "source": [
    "flights = sns.load_dataset('flights')\n",
    "flights"
   ],
   "id": "33b765f3a10f424b",
   "outputs": [],
   "execution_count": null
  },
  {
   "metadata": {},
   "cell_type": "code",
   "source": [
    "fig = px.density_heatmap(flights, x='year',y='month',\n",
    "                         z='passengers',\n",
    "                         color_continuous_scale='Viridis'\n",
    "                         )\n",
    "fig"
   ],
   "id": "d71b624f134a1bc9",
   "outputs": [],
   "execution_count": null
  },
  {
   "metadata": {},
   "cell_type": "code",
   "source": [
    "fig = px.density_heatmap(flights, x='year',y='month',\n",
    "                         z='passengers',\n",
    "                         #color_continuous_scale='Viridis',\n",
    "                         marginal_x='histogram',\n",
    "                         marginal_y='histogram')\n",
    "fig"
   ],
   "id": "7510246b6d2a7c54",
   "outputs": [],
   "execution_count": null
  },
  {
   "metadata": {},
   "cell_type": "markdown",
   "source": "# 3D Scatter Plots",
   "id": "e5d8868f90822139"
  },
  {
   "metadata": {},
   "cell_type": "code",
   "source": [
    "fig = px.scatter_3d(flights, x='year', y='month', z='passengers',\n",
    "                    color='year', opacity=0.7)\n",
    "\n",
    "fig"
   ],
   "id": "4f1d6a68a5f27892",
   "outputs": [],
   "execution_count": null
  },
  {
   "metadata": {},
   "cell_type": "code",
   "source": [
    "fig = px.line_3d(flights, x='year', y='month', z='passengers',\n",
    "                    color='year')\n",
    "\n",
    "fig"
   ],
   "id": "d55510a594bd21ca",
   "outputs": [],
   "execution_count": null
  },
  {
   "metadata": {},
   "cell_type": "markdown",
   "source": "# Scatter Matrix",
   "id": "1a22cea488c66362"
  },
  {
   "metadata": {},
   "cell_type": "code",
   "source": [
    "fig = px.scatter_matrix(flights, color='month')\n",
    "fig"
   ],
   "id": "3bf8f170c8a889d",
   "outputs": [],
   "execution_count": null
  },
  {
   "metadata": {},
   "cell_type": "markdown",
   "source": "# Map Scatter Plot",
   "id": "6c2f019a8e0eb4e3"
  },
  {
   "metadata": {},
   "cell_type": "code",
   "source": [
    "df = px.data.gapminder().query(\"year == 2007\")\n",
    "fig = px.scatter_geo(df,locations='iso_alpha',\n",
    "                     color='continent',\n",
    "                     hover_name='country',\n",
    "                     size='pop',\n",
    "                     projection='orthographic'\n",
    "                     )\n",
    "\n",
    "fig"
   ],
   "id": "515f3bd9f3ad7aa0",
   "outputs": [],
   "execution_count": null
  },
  {
   "metadata": {},
   "cell_type": "markdown",
   "source": "# Choropleth Maps\n",
   "id": "3084da38b6537bef"
  },
  {
   "metadata": {},
   "cell_type": "code",
   "source": [
    "# You can color complex maps like we do here representing unemployment data\n",
    "\n",
    "from urllib.request import urlopen\n",
    "import json\n",
    "\n",
    "with urlopen('https://raw.githubusercontent.com/plotly/datasets/master/geojson-counties-fips.json') as response:\n",
    "    counties = json.load(response)\n",
    "\n",
    "df = pd.read_csv(\"https://raw.githubusercontent.com/plotly/datasets/master/fips-unemp-16.csv\",\n",
    "                   dtype={\"fips\": str})\n",
    "\n",
    "fig = px.choropleth(df, geojson=counties, locations='fips', color='unemp',\n",
    "                           color_continuous_scale=\"Viridis\",\n",
    "                           range_color=(0, 12),\n",
    "                           scope=\"usa\",\n",
    "                           labels={'unemp':'unemployment rate'}\n",
    "                          )\n",
    "fig"
   ],
   "id": "18705fec48150c1",
   "outputs": [],
   "execution_count": null
  },
  {
   "metadata": {},
   "cell_type": "code",
   "source": "df.head()",
   "id": "792ca521fb47003d",
   "outputs": [],
   "execution_count": null
  },
  {
   "metadata": {},
   "cell_type": "code",
   "source": "counties",
   "id": "62bf9c7128ad22c5",
   "outputs": [],
   "execution_count": null
  },
  {
   "metadata": {},
   "cell_type": "markdown",
   "source": "# Polar Charts",
   "id": "2f9180705391e178"
  },
  {
   "metadata": {},
   "cell_type": "code",
   "source": [
    "df_wind = px.data.wind()\n",
    "px.scatter_polar(df_wind, r=\"frequency\", theta='direction',color='strength',size='frequency',symbol='strength')\n",
    "\n"
   ],
   "id": "3090c0f76e0f4789",
   "outputs": [],
   "execution_count": null
  },
  {
   "metadata": {},
   "cell_type": "code",
   "source": "px.line_polar(df_wind, r=\"frequency\", theta='direction',color='strength',symbol='strength', line_close=True, template='plotly_dark')",
   "id": "4a8c047ddd32c4ce",
   "outputs": [],
   "execution_count": null
  },
  {
   "metadata": {},
   "cell_type": "markdown",
   "source": "# Ternary Plot",
   "id": "4745bbaa6108554"
  },
  {
   "metadata": {},
   "cell_type": "code",
   "source": [
    "df_exp = px.data.experiment()\n",
    "df_exp"
   ],
   "id": "fd53ee07e772eaa5",
   "outputs": [],
   "execution_count": null
  },
  {
   "metadata": {},
   "cell_type": "code",
   "source": [
    "px.scatter_ternary(df_exp,a='experiment_1',b='experiment_2',c='experiment_3',\n",
    "                   hover_name='group',color='gender')"
   ],
   "id": "ceef04ad6f79509d",
   "outputs": [],
   "execution_count": null
  },
  {
   "metadata": {},
   "cell_type": "markdown",
   "source": "# Facet Plots",
   "id": "cca5ae3409401edf"
  },
  {
   "metadata": {},
   "cell_type": "code",
   "source": [
    "df_tips = px.data.tips()\n",
    "\n",
    "px.scatter(df_tips,x='total_bill',y='tip',color='smoker',facet_col='sex')"
   ],
   "id": "e94562da887a606a",
   "outputs": [],
   "execution_count": null
  },
  {
   "metadata": {},
   "cell_type": "code",
   "source": [
    "px.scatter(df_tips,x='total_bill',y='tip',color='smoker',facet_col='sex')\n",
    "\n",
    "px.histogram(df_tips, x='total_bill',y='tip',color='sex',facet_row='time', facet_col='day',\n",
    "             category_orders={'day': ['Thur','Fri','Sat','Sun'],\n",
    "                              'time': ['Lunch','Dinner']})"
   ],
   "id": "a9bb0c7fcbc3770f",
   "outputs": [],
   "execution_count": null
  },
  {
   "metadata": {},
   "cell_type": "code",
   "source": [
    "att_df = sns.load_dataset('attention')\n",
    "fig = px.line(att_df,x='solutions', y='score',facet_col='subject',\n",
    "              facet_col_wrap=5, title='Scores Based on Attention')\n",
    "\n",
    "fig"
   ],
   "id": "ad0fbdaf23609c6b",
   "outputs": [],
   "execution_count": null
  },
  {
   "metadata": {},
   "cell_type": "markdown",
   "source": "# Animated Plots",
   "id": "55acb95fb17f692c"
  },
  {
   "metadata": {},
   "cell_type": "code",
   "source": [
    "df_cnt = px.data.gapminder()\n",
    "\n",
    "px.scatter(df_cnt, x='gdpPercap',y='lifeExp',animation_frame='year',\n",
    "           animation_group='country',size='pop',\n",
    "           color='continent',hover_name='country',\n",
    "           log_x=True, size_max=55, range_x=[100,100000], range_y=[25,90], width = 1000, height=600\n",
    "           )\n",
    "\n",
    "\n"
   ],
   "id": "1bc1c1fff7eeb4a8",
   "outputs": [],
   "execution_count": null
  },
  {
   "metadata": {},
   "cell_type": "code",
   "source": [
    "px.bar(df_cnt, x=\"continent\", y=\"pop\", color=\"continent\",\n",
    "  animation_frame=\"year\", animation_group=\"country\", range_y=[0,4000000000])"
   ],
   "id": "e4366fbfc3556eb2",
   "outputs": [],
   "execution_count": null
  },
  {
   "metadata": {},
   "cell_type": "code",
   "source": "",
   "id": "44b97d41cf566b56",
   "outputs": [],
   "execution_count": null
  }
 ],
 "metadata": {
  "kernelspec": {
   "display_name": "Python 3",
   "language": "python",
   "name": "python3"
  },
  "language_info": {
   "codemirror_mode": {
    "name": "ipython",
    "version": 2
   },
   "file_extension": ".py",
   "mimetype": "text/x-python",
   "name": "python",
   "nbconvert_exporter": "python",
   "pygments_lexer": "ipython2",
   "version": "2.7.6"
  }
 },
 "nbformat": 4,
 "nbformat_minor": 5
}
