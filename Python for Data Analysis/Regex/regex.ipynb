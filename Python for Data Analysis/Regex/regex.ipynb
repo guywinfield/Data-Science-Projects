{
 "cells": [
  {
   "cell_type": "code",
   "id": "initial_id",
   "metadata": {
    "collapsed": true,
    "ExecuteTime": {
     "end_time": "2025-07-30T09:31:32.065596Z",
     "start_time": "2025-07-30T09:31:32.061222Z"
    }
   },
   "source": "import re",
   "outputs": [],
   "execution_count": 1
  },
  {
   "metadata": {
    "ExecuteTime": {
     "end_time": "2025-07-30T09:32:30.825427Z",
     "start_time": "2025-07-30T09:32:30.821319Z"
    }
   },
   "cell_type": "code",
   "source": [
    "# match()\n",
    "text = \"this is a good day\"\n",
    "\n",
    "if re.search(\"good\", text):\n",
    "    print(\"Wonderful\")\n",
    "else:\n",
    "    print(\"Alas :(\")"
   ],
   "id": "1d23e9a767d3caa6",
   "outputs": [
    {
     "name": "stdout",
     "output_type": "stream",
     "text": [
      "Wonderful\n"
     ]
    }
   ],
   "execution_count": 2
  },
  {
   "metadata": {
    "ExecuteTime": {
     "end_time": "2025-07-30T09:33:31.220830Z",
     "start_time": "2025-07-30T09:33:31.214409Z"
    }
   },
   "cell_type": "code",
   "source": [
    "text = \"Amy works diligently, Amy gets good grades. Our student Amy is successful\"\n",
    "\n",
    "re.split(\"Amy\", text)"
   ],
   "id": "89f55394138c2b7d",
   "outputs": [
    {
     "data": {
      "text/plain": [
       "['',\n",
       " ' works diligently, ',\n",
       " ' gets good grades. Our student ',\n",
       " ' is successful']"
      ]
     },
     "execution_count": 3,
     "metadata": {},
     "output_type": "execute_result"
    }
   ],
   "execution_count": 3
  },
  {
   "metadata": {
    "ExecuteTime": {
     "end_time": "2025-07-30T09:33:58.501565Z",
     "start_time": "2025-07-30T09:33:58.499208Z"
    }
   },
   "cell_type": "code",
   "source": "re.findall(\"Amy\", text)",
   "id": "8bd81ba6fdeb98f",
   "outputs": [
    {
     "data": {
      "text/plain": [
       "['Amy', 'Amy', 'Amy']"
      ]
     },
     "execution_count": 4,
     "metadata": {},
     "output_type": "execute_result"
    }
   ],
   "execution_count": 4
  },
  {
   "metadata": {
    "ExecuteTime": {
     "end_time": "2025-07-30T09:35:39.449311Z",
     "start_time": "2025-07-30T09:35:39.444956Z"
    }
   },
   "cell_type": "code",
   "source": [
    "text = \"Amy works diligently, Amy gets good grades. Our student Amy is successful\"\n",
    "\n",
    "# Returns a match object, always returns boolean value\n",
    "re.search(\"^Amy\", text)"
   ],
   "id": "1296a8685b5b9042",
   "outputs": [
    {
     "data": {
      "text/plain": [
       "<re.Match object; span=(0, 3), match='Amy'>"
      ]
     },
     "execution_count": 5,
     "metadata": {},
     "output_type": "execute_result"
    }
   ],
   "execution_count": 5
  },
  {
   "metadata": {},
   "cell_type": "markdown",
   "source": "# Parents and Character Classes",
   "id": "5090820298c55067"
  },
  {
   "metadata": {
    "ExecuteTime": {
     "end_time": "2025-07-30T09:37:13.342762Z",
     "start_time": "2025-07-30T09:37:13.339971Z"
    }
   },
   "cell_type": "code",
   "source": [
    "grades=\"ACAAAAAAABCBCBAA\"\n",
    "\n",
    "re.findall(\"B\", grades)"
   ],
   "id": "9d273a62efc18383",
   "outputs": [
    {
     "data": {
      "text/plain": [
       "['B', 'B', 'B']"
      ]
     },
     "execution_count": 7,
     "metadata": {},
     "output_type": "execute_result"
    }
   ],
   "execution_count": 7
  },
  {
   "metadata": {
    "ExecuteTime": {
     "end_time": "2025-07-30T09:37:28.558424Z",
     "start_time": "2025-07-30T09:37:28.555821Z"
    }
   },
   "cell_type": "code",
   "source": "re.findall(\"[AB]\", grades)",
   "id": "2f56e53f2fb1f137",
   "outputs": [
    {
     "data": {
      "text/plain": [
       "['A', 'A', 'A', 'A', 'A', 'A', 'A', 'A', 'B', 'B', 'B', 'A', 'A']"
      ]
     },
     "execution_count": 8,
     "metadata": {},
     "output_type": "execute_result"
    }
   ],
   "execution_count": 8
  },
  {
   "metadata": {
    "ExecuteTime": {
     "end_time": "2025-07-30T09:38:19.092605Z",
     "start_time": "2025-07-30T09:38:19.088235Z"
    }
   },
   "cell_type": "code",
   "source": "re.findall(\"[A][B-C]\", grades)",
   "id": "452cacbef794ae9d",
   "outputs": [
    {
     "data": {
      "text/plain": [
       "['AC', 'AB']"
      ]
     },
     "execution_count": 9,
     "metadata": {},
     "output_type": "execute_result"
    }
   ],
   "execution_count": 9
  },
  {
   "metadata": {
    "ExecuteTime": {
     "end_time": "2025-07-30T09:38:58.353749Z",
     "start_time": "2025-07-30T09:38:58.351107Z"
    }
   },
   "cell_type": "code",
   "source": "re.findall(\"AB|AC\", grades)",
   "id": "cdcca543021d5918",
   "outputs": [
    {
     "data": {
      "text/plain": [
       "['AC', 'AB']"
      ]
     },
     "execution_count": 10,
     "metadata": {},
     "output_type": "execute_result"
    }
   ],
   "execution_count": 10
  },
  {
   "metadata": {
    "ExecuteTime": {
     "end_time": "2025-07-30T09:39:30.593335Z",
     "start_time": "2025-07-30T09:39:30.590052Z"
    }
   },
   "cell_type": "code",
   "source": "re.findall(\"[^A]\",grades)",
   "id": "5e3467693191e8bd",
   "outputs": [
    {
     "data": {
      "text/plain": [
       "['C', 'B', 'C', 'B', 'C', 'B']"
      ]
     },
     "execution_count": 11,
     "metadata": {},
     "output_type": "execute_result"
    }
   ],
   "execution_count": 11
  },
  {
   "metadata": {
    "ExecuteTime": {
     "end_time": "2025-07-30T09:40:13.599091Z",
     "start_time": "2025-07-30T09:40:13.590821Z"
    }
   },
   "cell_type": "code",
   "source": "re.findall(\"^[^A]\",grades)",
   "id": "3aa0f309963d320a",
   "outputs": [
    {
     "data": {
      "text/plain": [
       "[]"
      ]
     },
     "execution_count": 12,
     "metadata": {},
     "output_type": "execute_result"
    }
   ],
   "execution_count": 12
  },
  {
   "metadata": {},
   "cell_type": "markdown",
   "source": "# Quantifiers",
   "id": "e956f78ed5ba1787"
  },
  {
   "metadata": {
    "ExecuteTime": {
     "end_time": "2025-07-30T09:42:18.918152Z",
     "start_time": "2025-07-30T09:42:18.914541Z"
    }
   },
   "cell_type": "code",
   "source": [
    "# how many bac to back streaks?\n",
    "re.findall(\"A{2,10}\",grades)"
   ],
   "id": "eb02068be7f77a70",
   "outputs": [
    {
     "data": {
      "text/plain": [
       "['AAAAAAA', 'AA']"
      ]
     },
     "execution_count": 15,
     "metadata": {},
     "output_type": "execute_result"
    }
   ],
   "execution_count": 15
  },
  {
   "metadata": {
    "ExecuteTime": {
     "end_time": "2025-07-30T09:43:38.415694Z",
     "start_time": "2025-07-30T09:43:38.412958Z"
    }
   },
   "cell_type": "code",
   "source": "re.findall(\"A{1,1}A{1,1}\",grades)",
   "id": "64cf23aee6d90f24",
   "outputs": [
    {
     "data": {
      "text/plain": [
       "['AAAA', 'AAA', 'AA']"
      ]
     },
     "execution_count": 19,
     "metadata": {},
     "output_type": "execute_result"
    }
   ],
   "execution_count": 19
  },
  {
   "metadata": {
    "ExecuteTime": {
     "end_time": "2025-07-30T09:44:04.401629Z",
     "start_time": "2025-07-30T09:44:04.396653Z"
    }
   },
   "cell_type": "code",
   "source": "re.findall(\"A{2,2}\",grades)",
   "id": "d0ac29b2778a0941",
   "outputs": [
    {
     "data": {
      "text/plain": [
       "['AA', 'AA', 'AA', 'AA']"
      ]
     },
     "execution_count": 21,
     "metadata": {},
     "output_type": "execute_result"
    }
   ],
   "execution_count": 21
  },
  {
   "metadata": {
    "ExecuteTime": {
     "end_time": "2025-07-30T09:44:13.603832Z",
     "start_time": "2025-07-30T09:44:13.601257Z"
    }
   },
   "cell_type": "code",
   "source": "re.findall(\"AA\",grades)",
   "id": "c4e4f01945394114",
   "outputs": [
    {
     "data": {
      "text/plain": [
       "['AA', 'AA', 'AA', 'AA']"
      ]
     },
     "execution_count": 22,
     "metadata": {},
     "output_type": "execute_result"
    }
   ],
   "execution_count": 22
  },
  {
   "metadata": {
    "ExecuteTime": {
     "end_time": "2025-07-30T09:44:24.572068Z",
     "start_time": "2025-07-30T09:44:24.568360Z"
    }
   },
   "cell_type": "code",
   "source": "re.findall(\"A{2}\",grades)",
   "id": "5d123efddec1fde3",
   "outputs": [
    {
     "data": {
      "text/plain": [
       "['AA', 'AA', 'AA', 'AA']"
      ]
     },
     "execution_count": 23,
     "metadata": {},
     "output_type": "execute_result"
    }
   ],
   "execution_count": 23
  },
  {
   "metadata": {
    "ExecuteTime": {
     "end_time": "2025-07-30T09:45:08.535073Z",
     "start_time": "2025-07-30T09:45:08.529847Z"
    }
   },
   "cell_type": "code",
   "source": "re.findall(\"A{1,10}B{1,10}C{1,10}\", grades)",
   "id": "baa6180538ac173d",
   "outputs": [
    {
     "data": {
      "text/plain": [
       "['AAAAAAABC']"
      ]
     },
     "execution_count": 26,
     "metadata": {},
     "output_type": "execute_result"
    }
   ],
   "execution_count": 26
  },
  {
   "metadata": {
    "ExecuteTime": {
     "end_time": "2025-07-30T09:54:45.938390Z",
     "start_time": "2025-07-30T09:54:45.934011Z"
    }
   },
   "cell_type": "code",
   "source": [
    "with open(\"ferpa.txt\", \"r\") as file:\n",
    "    wiki=file.read()\n",
    "\n",
    "wiki"
   ],
   "id": "aa95b83efe2f154b",
   "outputs": [
    {
     "data": {
      "text/plain": [
       "'Family Educational Rights and Privacy Act (FERPA)\\n\\nThe Family Educational Rights and Privacy Act of 1974 (FERPA), commonly known as the Buckley Amendment, is a United States federal law that governs the access to and disclosure of student education records. It grants parents access to their child’s education records, allows amendments, and controls disclosures. It applies only to educational institutions that receive federal funding under programs administered by the U.S. Department of Education.\\n\\nPurpose[edit]\\n\\nFERPA serves two main purposes:\\n1. Grants parents (or students 18 or older) the right to inspect and review education records.\\n2. Protects personally identifiable educational information from disclosure to third parties without consent, subject to specific exceptions.\\n\\nRights under FERPA\\n- Parents or eligible students can inspect and review education records within 45 days of request.\\n- They can request amendments if records are inaccurate, misleading, or violate privacy rights.\\n- If the institution refuses, they may request a formal hearing and can insert a written statement into the record.\\n\\nDisclosure Rules & Exceptions\\n- Schools generally must have written consent from parents or eligible students before releasing information from records.\\n- Exceptions allow disclosure without consent to:\\n  • School officials with legitimate educational interest\\n  • Other schools the student intends to transfer to\\n  • Auditors, accrediting agencies, financial aid providers\\n  • Organizations conducting research for the school\\n  • Law enforcement via judicial order or subpoena\\n  • Health and safety emergencies\\n  • Juvenile justice authorities\\n\\nAdditionally, directory information (e.g., name, major, dates of attendance) may be released unless a student opts out; combining directory info with other data may then constitute a protected record.\\n\\nApplicability[edit]\\nFERPA applies to all public and private K–12 and post‑secondary schools that receive federal funding. It applies to education records: records directly related to a student and maintained by the institution or an agent thereof. It does not include:\\n- Teacher’s personal notes\\n- Law enforcement or medical records not maintained by the education institution\\n- Student records created by other students or student organizations\\n\\nAge and Student Status\\n- At age 18 or upon enrollment in post‑secondary school, the rights under FERPA transfer from the parent to the student (“eligible student”).\\n- Institutions may still share records with parents if the student is claimed as a dependent on their most recent U.S. federal income tax return.\\n\\nJudicial Interpretation & Enforcement\\n- FERPA is enforced by the U.S. Department of Education and violations can result in the loss of federal funds—not monetary damages to individuals.\\n- In *Gonzaga University v. Doe* (2002), the U.S. Supreme Court held that FERPA does not create enforceable personal rights under 42 U.S.C. §\\u202f1983, so students cannot sue schools for damages under the law.\\n- In *Owasso Independent School District v. Falvo* (2002), the Supreme Court ruled that peer grading (students grading each other publicly) does not violate FERPA.\\n'"
      ]
     },
     "execution_count": 37,
     "metadata": {},
     "output_type": "execute_result"
    }
   ],
   "execution_count": 37
  },
  {
   "metadata": {
    "ExecuteTime": {
     "end_time": "2025-07-30T09:54:46.419274Z",
     "start_time": "2025-07-30T09:54:46.415274Z"
    }
   },
   "cell_type": "code",
   "source": "re.findall('[a-zA-z]{1,100}\\[edit\\]', wiki)",
   "id": "f104170e4627b5f8",
   "outputs": [
    {
     "data": {
      "text/plain": [
       "['Purpose[edit]', 'Applicability[edit]']"
      ]
     },
     "execution_count": 38,
     "metadata": {},
     "output_type": "execute_result"
    }
   ],
   "execution_count": 38
  },
  {
   "metadata": {
    "ExecuteTime": {
     "end_time": "2025-07-30T09:54:47.230869Z",
     "start_time": "2025-07-30T09:54:47.225684Z"
    }
   },
   "cell_type": "code",
   "source": "re.findall(\"[\\w]{1,100}\\[edit\\]\", wiki)",
   "id": "3b8e6db7f6658421",
   "outputs": [
    {
     "data": {
      "text/plain": [
       "['Purpose[edit]', 'Applicability[edit]']"
      ]
     },
     "execution_count": 39,
     "metadata": {},
     "output_type": "execute_result"
    }
   ],
   "execution_count": 39
  },
  {
   "metadata": {
    "ExecuteTime": {
     "end_time": "2025-07-30T09:54:47.753918Z",
     "start_time": "2025-07-30T09:54:47.749561Z"
    }
   },
   "cell_type": "code",
   "source": "re.findall(\"[\\w]*\\[edit\\]\",wiki)",
   "id": "178b30c004d6a386",
   "outputs": [
    {
     "data": {
      "text/plain": [
       "['Purpose[edit]', 'Applicability[edit]']"
      ]
     },
     "execution_count": 40,
     "metadata": {},
     "output_type": "execute_result"
    }
   ],
   "execution_count": 40
  },
  {
   "metadata": {
    "ExecuteTime": {
     "end_time": "2025-07-30T09:55:53.762159Z",
     "start_time": "2025-07-30T09:55:53.757767Z"
    }
   },
   "cell_type": "code",
   "source": [
    "for title in re.findall(\"[\\w]*\\[edit\\]\",wiki):\n",
    "    print(re.split(\"[\\[]\",title)[0])"
   ],
   "id": "3d4bcdb8236ca290",
   "outputs": [
    {
     "name": "stdout",
     "output_type": "stream",
     "text": [
      "Purpose\n",
      "Applicability\n"
     ]
    }
   ],
   "execution_count": 41
  },
  {
   "metadata": {},
   "cell_type": "markdown",
   "source": "# Groups",
   "id": "f87687e1dbb6a3f4"
  },
  {
   "metadata": {
    "ExecuteTime": {
     "end_time": "2025-07-30T09:56:53.586378Z",
     "start_time": "2025-07-30T09:56:53.579267Z"
    }
   },
   "cell_type": "code",
   "source": "re.findall(\"([\\w ]*)(\\[edit\\])\", wiki)",
   "id": "c54785c1d08c7677",
   "outputs": [
    {
     "data": {
      "text/plain": [
       "[('Purpose', '[edit]'), ('Applicability', '[edit]')]"
      ]
     },
     "execution_count": 43,
     "metadata": {},
     "output_type": "execute_result"
    }
   ],
   "execution_count": 43
  },
  {
   "metadata": {
    "ExecuteTime": {
     "end_time": "2025-07-30T09:58:09.817349Z",
     "start_time": "2025-07-30T09:58:09.812652Z"
    }
   },
   "cell_type": "code",
   "source": [
    "for item in re.finditer(\"([\\w ]*)(\\[edit\\])\", wiki):\n",
    "    print(item.groups())"
   ],
   "id": "d2f0ab2af8b96aeb",
   "outputs": [
    {
     "name": "stdout",
     "output_type": "stream",
     "text": [
      "('Purpose', '[edit]')\n",
      "('Applicability', '[edit]')\n"
     ]
    }
   ],
   "execution_count": 45
  },
  {
   "metadata": {
    "ExecuteTime": {
     "end_time": "2025-07-30T09:59:40.503830Z",
     "start_time": "2025-07-30T09:59:40.496870Z"
    }
   },
   "cell_type": "code",
   "source": [
    "for item in re.finditer(\"([\\w ]*)(\\[edit\\])\", wiki):\n",
    "    print(item.groups(1))"
   ],
   "id": "26814e16610481e9",
   "outputs": [
    {
     "name": "stdout",
     "output_type": "stream",
     "text": [
      "('Purpose', '[edit]')\n",
      "('Applicability', '[edit]')\n"
     ]
    }
   ],
   "execution_count": 48
  },
  {
   "metadata": {
    "ExecuteTime": {
     "end_time": "2025-07-30T10:02:58.156844Z",
     "start_time": "2025-07-30T10:02:58.153631Z"
    }
   },
   "cell_type": "code",
   "source": [
    "for item in re.finditer(\"(?P<title>[\\w ]*)(?P<edit_link>\\[edit\\])\", wiki):\n",
    "    print(item.groupdict()['title'])"
   ],
   "id": "a235741b2a24e1bf",
   "outputs": [
    {
     "name": "stdout",
     "output_type": "stream",
     "text": [
      "Purpose\n",
      "Applicability\n"
     ]
    }
   ],
   "execution_count": 50
  },
  {
   "metadata": {
    "ExecuteTime": {
     "end_time": "2025-07-30T10:03:11.233433Z",
     "start_time": "2025-07-30T10:03:11.231189Z"
    }
   },
   "cell_type": "code",
   "source": "print(item.groupdict())",
   "id": "ef6308bbb8e54294",
   "outputs": [
    {
     "name": "stdout",
     "output_type": "stream",
     "text": [
      "{'title': 'Applicability', 'edit_link': '[edit]'}\n"
     ]
    }
   ],
   "execution_count": 51
  },
  {
   "metadata": {},
   "cell_type": "markdown",
   "source": "# Look-ahead and Look-behind",
   "id": "39d1b621dd4f8677"
  },
  {
   "metadata": {
    "ExecuteTime": {
     "end_time": "2025-07-30T10:06:17.006024Z",
     "start_time": "2025-07-30T10:06:16.998794Z"
    }
   },
   "cell_type": "code",
   "source": [
    "for item in re.finditer(\"(?P<title>[\\w ]+)(?=\\[edit\\])\",wiki):\n",
    "    print(item)\n"
   ],
   "id": "350ab75e4d651059",
   "outputs": [
    {
     "name": "stdout",
     "output_type": "stream",
     "text": [
      "<re.Match object; span=(503, 510), match='Purpose'>\n",
      "<re.Match object; span=(1867, 1880), match='Applicability'>\n"
     ]
    }
   ],
   "execution_count": 53
  },
  {
   "metadata": {
    "ExecuteTime": {
     "end_time": "2025-07-30T10:08:53.326426Z",
     "start_time": "2025-07-30T10:08:53.321539Z"
    }
   },
   "cell_type": "code",
   "source": [
    "with open(\"buddhist.txt\", \"r\") as file:\n",
    "    wiki=file.read()\n",
    "\n",
    "wiki"
   ],
   "id": "78f965fd00cd6c87",
   "outputs": [
    {
     "data": {
      "text/plain": [
       "'Buddhist universities and colleges in the United States\\n\\nThere are several Buddhist universities in the United States. Some of these have existed for decades and are accredited. Others are relatively new and are either in the process of being accredited or else have no formal accreditation. The list includes:\\n\\n- Dhammakaya Open University – located in Azusa, California, part of the Thai Wat Phra Dhammakaya\\n- Dharmakirti College – located in Tucson, Arizona (now called Awam Tibetan Buddhist Institute)\\n- Dharma Realm Buddhist University – located in Ukiah, California (Accredited by the WASC Senior College and University Commission)\\n- Ewam Buddhist Institute – located in Arlee, Montana\\n- Naropa University – located in Boulder, Colorado (Accredited by the Higher Learning Commission)\\n- Institute of Buddhist Studies – located in Berkeley, California\\n- Maitripa College – located in Portland, Oregon\\n- Soka University of America – located in Aliso Viejo, California\\n- University of the West – located in Rosemead, California (Accredited by the WASC Senior College and University Commission)\\n- Won Institute of Graduate Studies – located in Glenside, Pennsylvania\\n'"
      ]
     },
     "execution_count": 55,
     "metadata": {},
     "output_type": "execute_result"
    }
   ],
   "execution_count": 55
  },
  {
   "metadata": {
    "ExecuteTime": {
     "end_time": "2025-07-30T10:13:05.398290Z",
     "start_time": "2025-07-30T10:13:05.394572Z"
    }
   },
   "cell_type": "code",
   "source": [
    "pattern=\"\"\"\n",
    "(?P<title>.*)     # the university title\n",
    "(-\\ located\\ in\\ )   # an incidatcor of the location\n",
    "(?P<city>\\w*)     # city university is in\n",
    "(,\\ )     # separatopr for the state\n",
    "(?P<state>\\w*)      # the state gthe city is located in \"\"\"\n",
    "\n",
    "\n",
    "for item in re.finditer(pattern,wiki,re.VERBOSE):\n",
    "    print(item.groupdict())\n"
   ],
   "id": "ceef287418808bed",
   "outputs": [],
   "execution_count": 60
  },
  {
   "metadata": {},
   "cell_type": "code",
   "outputs": [],
   "execution_count": null,
   "source": "",
   "id": "95192bfc5ff70018"
  }
 ],
 "metadata": {
  "kernelspec": {
   "display_name": "Python 3",
   "language": "python",
   "name": "python3"
  },
  "language_info": {
   "codemirror_mode": {
    "name": "ipython",
    "version": 2
   },
   "file_extension": ".py",
   "mimetype": "text/x-python",
   "name": "python",
   "nbconvert_exporter": "python",
   "pygments_lexer": "ipython2",
   "version": "2.7.6"
  }
 },
 "nbformat": 4,
 "nbformat_minor": 5
}
