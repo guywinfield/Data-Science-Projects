{
 "cells": [
  {
   "metadata": {},
   "cell_type": "markdown",
   "source": "# Data Import & Scoping",
   "id": "8dcbfe60dfa48fce"
  },
  {
   "metadata": {
    "collapsed": true,
    "ExecuteTime": {
     "end_time": "2025-08-12T14:37:49.277918Z",
     "start_time": "2025-08-12T14:37:48.825528Z"
    }
   },
   "cell_type": "code",
   "source": [
    "import kagglehub\n",
    "\n",
    "# Download latest version\n",
    "path = kagglehub.dataset_download(\"atillacolak/top-50-spotify-tracks-2020\")\n",
    "\n",
    "print(\"Path to dataset files:\", path)"
   ],
   "id": "initial_id",
   "outputs": [
    {
     "name": "stdout",
     "output_type": "stream",
     "text": [
      "Path to dataset files: /Users/guywinfield/.cache/kagglehub/datasets/atillacolak/top-50-spotify-tracks-2020/versions/2\n"
     ]
    }
   ],
   "execution_count": 859
  },
  {
   "metadata": {
    "ExecuteTime": {
     "end_time": "2025-08-12T14:36:19.129537Z",
     "start_time": "2025-08-12T14:36:19.122510Z"
    }
   },
   "cell_type": "code",
   "source": [
    "import pandas as pd\n",
    "\n",
    "pd.set_option('display.max_columns', None)\n",
    "\n",
    "raw_data = pd.read_csv(\"spotifytoptracks.csv\")"
   ],
   "id": "315c8adfec47eed2",
   "outputs": [],
   "execution_count": 856
  },
  {
   "metadata": {
    "ExecuteTime": {
     "end_time": "2025-08-12T14:36:20.654019Z",
     "start_time": "2025-08-12T14:36:20.649580Z"
    }
   },
   "cell_type": "code",
   "source": "data = raw_data.copy()",
   "id": "ec815bd481cbf733",
   "outputs": [],
   "execution_count": 857
  },
  {
   "metadata": {
    "ExecuteTime": {
     "end_time": "2025-08-12T14:36:21.006210Z",
     "start_time": "2025-08-12T14:36:20.992143Z"
    }
   },
   "cell_type": "code",
   "source": "data.head(5)",
   "id": "8a56e8d827c4f6e9",
   "outputs": [
    {
     "data": {
      "text/plain": [
       "   Unnamed: 0       artist                                  album  \\\n",
       "0           0   The Weeknd                            After Hours   \n",
       "1           1  Tones And I                           Dance Monkey   \n",
       "2           2  Roddy Ricch  Please Excuse Me For Being Antisocial   \n",
       "3           3    SAINt JHN                  Roses (Imanbek Remix)   \n",
       "4           4     Dua Lipa                       Future Nostalgia   \n",
       "\n",
       "              track_name                track_id  energy  danceability  key  \\\n",
       "0        Blinding Lights  0VjIjW4GlUZAMYd2vXMi3b   0.730         0.514    1   \n",
       "1           Dance Monkey  1rgnBhdG2JDFTbYkYRZAku   0.593         0.825    6   \n",
       "2                The Box  0nbXyq5TXYPCO7pr3N8S4I   0.586         0.896   10   \n",
       "3  Roses - Imanbek Remix  2Wo6QQD1KMDWeFkkjLqwx5   0.721         0.785    8   \n",
       "4        Don't Start Now  3PfIrDoz19wz7qK7tYeu62   0.793         0.793   11   \n",
       "\n",
       "   loudness  acousticness  speechiness  instrumentalness  liveness  valence  \\\n",
       "0    -5.934       0.00146       0.0598          0.000095    0.0897    0.334   \n",
       "1    -6.401       0.68800       0.0988          0.000161    0.1700    0.540   \n",
       "2    -6.687       0.10400       0.0559          0.000000    0.7900    0.642   \n",
       "3    -5.457       0.01490       0.0506          0.004320    0.2850    0.894   \n",
       "4    -4.521       0.01230       0.0830          0.000000    0.0951    0.679   \n",
       "\n",
       "     tempo  duration_ms              genre  \n",
       "0  171.005       200040           R&B/Soul  \n",
       "1   98.078       209755  Alternative/Indie  \n",
       "2  116.971       196653        Hip-Hop/Rap  \n",
       "3  121.962       176219   Dance/Electronic  \n",
       "4  123.950       183290           Nu-disco  "
      ],
      "text/html": [
       "<div>\n",
       "<style scoped>\n",
       "    .dataframe tbody tr th:only-of-type {\n",
       "        vertical-align: middle;\n",
       "    }\n",
       "\n",
       "    .dataframe tbody tr th {\n",
       "        vertical-align: top;\n",
       "    }\n",
       "\n",
       "    .dataframe thead th {\n",
       "        text-align: right;\n",
       "    }\n",
       "</style>\n",
       "<table border=\"1\" class=\"dataframe\">\n",
       "  <thead>\n",
       "    <tr style=\"text-align: right;\">\n",
       "      <th></th>\n",
       "      <th>Unnamed: 0</th>\n",
       "      <th>artist</th>\n",
       "      <th>album</th>\n",
       "      <th>track_name</th>\n",
       "      <th>track_id</th>\n",
       "      <th>energy</th>\n",
       "      <th>danceability</th>\n",
       "      <th>key</th>\n",
       "      <th>loudness</th>\n",
       "      <th>acousticness</th>\n",
       "      <th>speechiness</th>\n",
       "      <th>instrumentalness</th>\n",
       "      <th>liveness</th>\n",
       "      <th>valence</th>\n",
       "      <th>tempo</th>\n",
       "      <th>duration_ms</th>\n",
       "      <th>genre</th>\n",
       "    </tr>\n",
       "  </thead>\n",
       "  <tbody>\n",
       "    <tr>\n",
       "      <th>0</th>\n",
       "      <td>0</td>\n",
       "      <td>The Weeknd</td>\n",
       "      <td>After Hours</td>\n",
       "      <td>Blinding Lights</td>\n",
       "      <td>0VjIjW4GlUZAMYd2vXMi3b</td>\n",
       "      <td>0.730</td>\n",
       "      <td>0.514</td>\n",
       "      <td>1</td>\n",
       "      <td>-5.934</td>\n",
       "      <td>0.00146</td>\n",
       "      <td>0.0598</td>\n",
       "      <td>0.000095</td>\n",
       "      <td>0.0897</td>\n",
       "      <td>0.334</td>\n",
       "      <td>171.005</td>\n",
       "      <td>200040</td>\n",
       "      <td>R&amp;B/Soul</td>\n",
       "    </tr>\n",
       "    <tr>\n",
       "      <th>1</th>\n",
       "      <td>1</td>\n",
       "      <td>Tones And I</td>\n",
       "      <td>Dance Monkey</td>\n",
       "      <td>Dance Monkey</td>\n",
       "      <td>1rgnBhdG2JDFTbYkYRZAku</td>\n",
       "      <td>0.593</td>\n",
       "      <td>0.825</td>\n",
       "      <td>6</td>\n",
       "      <td>-6.401</td>\n",
       "      <td>0.68800</td>\n",
       "      <td>0.0988</td>\n",
       "      <td>0.000161</td>\n",
       "      <td>0.1700</td>\n",
       "      <td>0.540</td>\n",
       "      <td>98.078</td>\n",
       "      <td>209755</td>\n",
       "      <td>Alternative/Indie</td>\n",
       "    </tr>\n",
       "    <tr>\n",
       "      <th>2</th>\n",
       "      <td>2</td>\n",
       "      <td>Roddy Ricch</td>\n",
       "      <td>Please Excuse Me For Being Antisocial</td>\n",
       "      <td>The Box</td>\n",
       "      <td>0nbXyq5TXYPCO7pr3N8S4I</td>\n",
       "      <td>0.586</td>\n",
       "      <td>0.896</td>\n",
       "      <td>10</td>\n",
       "      <td>-6.687</td>\n",
       "      <td>0.10400</td>\n",
       "      <td>0.0559</td>\n",
       "      <td>0.000000</td>\n",
       "      <td>0.7900</td>\n",
       "      <td>0.642</td>\n",
       "      <td>116.971</td>\n",
       "      <td>196653</td>\n",
       "      <td>Hip-Hop/Rap</td>\n",
       "    </tr>\n",
       "    <tr>\n",
       "      <th>3</th>\n",
       "      <td>3</td>\n",
       "      <td>SAINt JHN</td>\n",
       "      <td>Roses (Imanbek Remix)</td>\n",
       "      <td>Roses - Imanbek Remix</td>\n",
       "      <td>2Wo6QQD1KMDWeFkkjLqwx5</td>\n",
       "      <td>0.721</td>\n",
       "      <td>0.785</td>\n",
       "      <td>8</td>\n",
       "      <td>-5.457</td>\n",
       "      <td>0.01490</td>\n",
       "      <td>0.0506</td>\n",
       "      <td>0.004320</td>\n",
       "      <td>0.2850</td>\n",
       "      <td>0.894</td>\n",
       "      <td>121.962</td>\n",
       "      <td>176219</td>\n",
       "      <td>Dance/Electronic</td>\n",
       "    </tr>\n",
       "    <tr>\n",
       "      <th>4</th>\n",
       "      <td>4</td>\n",
       "      <td>Dua Lipa</td>\n",
       "      <td>Future Nostalgia</td>\n",
       "      <td>Don't Start Now</td>\n",
       "      <td>3PfIrDoz19wz7qK7tYeu62</td>\n",
       "      <td>0.793</td>\n",
       "      <td>0.793</td>\n",
       "      <td>11</td>\n",
       "      <td>-4.521</td>\n",
       "      <td>0.01230</td>\n",
       "      <td>0.0830</td>\n",
       "      <td>0.000000</td>\n",
       "      <td>0.0951</td>\n",
       "      <td>0.679</td>\n",
       "      <td>123.950</td>\n",
       "      <td>183290</td>\n",
       "      <td>Nu-disco</td>\n",
       "    </tr>\n",
       "  </tbody>\n",
       "</table>\n",
       "</div>"
      ]
     },
     "execution_count": 858,
     "metadata": {},
     "output_type": "execute_result"
    }
   ],
   "execution_count": 858
  },
  {
   "metadata": {
    "ExecuteTime": {
     "end_time": "2025-08-12T13:21:33.598471Z",
     "start_time": "2025-08-12T13:21:33.596028Z"
    }
   },
   "cell_type": "code",
   "source": "data.shape",
   "id": "7b4decbd7cbd26aa",
   "outputs": [
    {
     "data": {
      "text/plain": [
       "(50, 17)"
      ]
     },
     "execution_count": 803,
     "metadata": {},
     "output_type": "execute_result"
    }
   ],
   "execution_count": 803
  },
  {
   "metadata": {
    "ExecuteTime": {
     "end_time": "2025-08-12T13:21:33.616154Z",
     "start_time": "2025-08-12T13:21:33.613363Z"
    }
   },
   "cell_type": "code",
   "source": "data.dtypes.value_counts()\n",
   "id": "37f3075b6441753d",
   "outputs": [
    {
     "data": {
      "text/plain": [
       "float64    9\n",
       "object     5\n",
       "int64      3\n",
       "Name: count, dtype: int64"
      ]
     },
     "execution_count": 804,
     "metadata": {},
     "output_type": "execute_result"
    }
   ],
   "execution_count": 804
  },
  {
   "metadata": {
    "ExecuteTime": {
     "end_time": "2025-08-12T13:21:33.627899Z",
     "start_time": "2025-08-12T13:21:33.624938Z"
    }
   },
   "cell_type": "code",
   "source": "data.isnull().sum()",
   "id": "11950d010a5736ed",
   "outputs": [
    {
     "data": {
      "text/plain": [
       "Unnamed: 0          0\n",
       "artist              0\n",
       "album               0\n",
       "track_name          0\n",
       "track_id            0\n",
       "energy              0\n",
       "danceability        0\n",
       "key                 0\n",
       "loudness            0\n",
       "acousticness        0\n",
       "speechiness         0\n",
       "instrumentalness    0\n",
       "liveness            0\n",
       "valence             0\n",
       "tempo               0\n",
       "duration_ms         0\n",
       "genre               0\n",
       "dtype: int64"
      ]
     },
     "execution_count": 805,
     "metadata": {},
     "output_type": "execute_result"
    }
   ],
   "execution_count": 805
  },
  {
   "metadata": {
    "ExecuteTime": {
     "end_time": "2025-08-12T13:21:33.649077Z",
     "start_time": "2025-08-12T13:21:33.636703Z"
    }
   },
   "cell_type": "code",
   "source": "data.describe().T",
   "id": "8d66d5b5b6c58d8a",
   "outputs": [
    {
     "data": {
      "text/plain": [
       "                  count           mean           std           min  \\\n",
       "Unnamed: 0         50.0      24.500000     14.577380       0.00000   \n",
       "energy             50.0       0.609300      0.154348       0.22500   \n",
       "danceability       50.0       0.716720      0.124975       0.35100   \n",
       "key                50.0       5.720000      3.709007       0.00000   \n",
       "loudness           50.0      -6.225900      2.349744     -14.45400   \n",
       "acousticness       50.0       0.256206      0.265250       0.00146   \n",
       "speechiness        50.0       0.124158      0.116836       0.02900   \n",
       "instrumentalness   50.0       0.015962      0.094312       0.00000   \n",
       "liveness           50.0       0.196552      0.176610       0.05740   \n",
       "valence            50.0       0.555710      0.216386       0.06050   \n",
       "tempo              50.0     119.690460     25.414778      75.80100   \n",
       "duration_ms        50.0  199955.360000  33996.122488  140526.00000   \n",
       "\n",
       "                            25%           50%           75%         max  \n",
       "Unnamed: 0            12.250000      24.50000      36.75000      49.000  \n",
       "energy                 0.494000       0.59700       0.72975       0.855  \n",
       "danceability           0.672500       0.74600       0.79450       0.935  \n",
       "key                    2.000000       6.50000       8.75000      11.000  \n",
       "loudness              -7.552500      -5.99150      -4.28550      -3.280  \n",
       "acousticness           0.052800       0.18850       0.29875       0.934  \n",
       "speechiness            0.048325       0.07005       0.15550       0.487  \n",
       "instrumentalness       0.000000       0.00000       0.00002       0.657  \n",
       "liveness               0.093950       0.11100       0.27125       0.792  \n",
       "valence                0.434000       0.56000       0.72625       0.925  \n",
       "tempo                 99.557250     116.96900     132.31700     180.067  \n",
       "duration_ms       175845.500000  197853.50000  215064.00000  312820.000  "
      ],
      "text/html": [
       "<div>\n",
       "<style scoped>\n",
       "    .dataframe tbody tr th:only-of-type {\n",
       "        vertical-align: middle;\n",
       "    }\n",
       "\n",
       "    .dataframe tbody tr th {\n",
       "        vertical-align: top;\n",
       "    }\n",
       "\n",
       "    .dataframe thead th {\n",
       "        text-align: right;\n",
       "    }\n",
       "</style>\n",
       "<table border=\"1\" class=\"dataframe\">\n",
       "  <thead>\n",
       "    <tr style=\"text-align: right;\">\n",
       "      <th></th>\n",
       "      <th>count</th>\n",
       "      <th>mean</th>\n",
       "      <th>std</th>\n",
       "      <th>min</th>\n",
       "      <th>25%</th>\n",
       "      <th>50%</th>\n",
       "      <th>75%</th>\n",
       "      <th>max</th>\n",
       "    </tr>\n",
       "  </thead>\n",
       "  <tbody>\n",
       "    <tr>\n",
       "      <th>Unnamed: 0</th>\n",
       "      <td>50.0</td>\n",
       "      <td>24.500000</td>\n",
       "      <td>14.577380</td>\n",
       "      <td>0.00000</td>\n",
       "      <td>12.250000</td>\n",
       "      <td>24.50000</td>\n",
       "      <td>36.75000</td>\n",
       "      <td>49.000</td>\n",
       "    </tr>\n",
       "    <tr>\n",
       "      <th>energy</th>\n",
       "      <td>50.0</td>\n",
       "      <td>0.609300</td>\n",
       "      <td>0.154348</td>\n",
       "      <td>0.22500</td>\n",
       "      <td>0.494000</td>\n",
       "      <td>0.59700</td>\n",
       "      <td>0.72975</td>\n",
       "      <td>0.855</td>\n",
       "    </tr>\n",
       "    <tr>\n",
       "      <th>danceability</th>\n",
       "      <td>50.0</td>\n",
       "      <td>0.716720</td>\n",
       "      <td>0.124975</td>\n",
       "      <td>0.35100</td>\n",
       "      <td>0.672500</td>\n",
       "      <td>0.74600</td>\n",
       "      <td>0.79450</td>\n",
       "      <td>0.935</td>\n",
       "    </tr>\n",
       "    <tr>\n",
       "      <th>key</th>\n",
       "      <td>50.0</td>\n",
       "      <td>5.720000</td>\n",
       "      <td>3.709007</td>\n",
       "      <td>0.00000</td>\n",
       "      <td>2.000000</td>\n",
       "      <td>6.50000</td>\n",
       "      <td>8.75000</td>\n",
       "      <td>11.000</td>\n",
       "    </tr>\n",
       "    <tr>\n",
       "      <th>loudness</th>\n",
       "      <td>50.0</td>\n",
       "      <td>-6.225900</td>\n",
       "      <td>2.349744</td>\n",
       "      <td>-14.45400</td>\n",
       "      <td>-7.552500</td>\n",
       "      <td>-5.99150</td>\n",
       "      <td>-4.28550</td>\n",
       "      <td>-3.280</td>\n",
       "    </tr>\n",
       "    <tr>\n",
       "      <th>acousticness</th>\n",
       "      <td>50.0</td>\n",
       "      <td>0.256206</td>\n",
       "      <td>0.265250</td>\n",
       "      <td>0.00146</td>\n",
       "      <td>0.052800</td>\n",
       "      <td>0.18850</td>\n",
       "      <td>0.29875</td>\n",
       "      <td>0.934</td>\n",
       "    </tr>\n",
       "    <tr>\n",
       "      <th>speechiness</th>\n",
       "      <td>50.0</td>\n",
       "      <td>0.124158</td>\n",
       "      <td>0.116836</td>\n",
       "      <td>0.02900</td>\n",
       "      <td>0.048325</td>\n",
       "      <td>0.07005</td>\n",
       "      <td>0.15550</td>\n",
       "      <td>0.487</td>\n",
       "    </tr>\n",
       "    <tr>\n",
       "      <th>instrumentalness</th>\n",
       "      <td>50.0</td>\n",
       "      <td>0.015962</td>\n",
       "      <td>0.094312</td>\n",
       "      <td>0.00000</td>\n",
       "      <td>0.000000</td>\n",
       "      <td>0.00000</td>\n",
       "      <td>0.00002</td>\n",
       "      <td>0.657</td>\n",
       "    </tr>\n",
       "    <tr>\n",
       "      <th>liveness</th>\n",
       "      <td>50.0</td>\n",
       "      <td>0.196552</td>\n",
       "      <td>0.176610</td>\n",
       "      <td>0.05740</td>\n",
       "      <td>0.093950</td>\n",
       "      <td>0.11100</td>\n",
       "      <td>0.27125</td>\n",
       "      <td>0.792</td>\n",
       "    </tr>\n",
       "    <tr>\n",
       "      <th>valence</th>\n",
       "      <td>50.0</td>\n",
       "      <td>0.555710</td>\n",
       "      <td>0.216386</td>\n",
       "      <td>0.06050</td>\n",
       "      <td>0.434000</td>\n",
       "      <td>0.56000</td>\n",
       "      <td>0.72625</td>\n",
       "      <td>0.925</td>\n",
       "    </tr>\n",
       "    <tr>\n",
       "      <th>tempo</th>\n",
       "      <td>50.0</td>\n",
       "      <td>119.690460</td>\n",
       "      <td>25.414778</td>\n",
       "      <td>75.80100</td>\n",
       "      <td>99.557250</td>\n",
       "      <td>116.96900</td>\n",
       "      <td>132.31700</td>\n",
       "      <td>180.067</td>\n",
       "    </tr>\n",
       "    <tr>\n",
       "      <th>duration_ms</th>\n",
       "      <td>50.0</td>\n",
       "      <td>199955.360000</td>\n",
       "      <td>33996.122488</td>\n",
       "      <td>140526.00000</td>\n",
       "      <td>175845.500000</td>\n",
       "      <td>197853.50000</td>\n",
       "      <td>215064.00000</td>\n",
       "      <td>312820.000</td>\n",
       "    </tr>\n",
       "  </tbody>\n",
       "</table>\n",
       "</div>"
      ]
     },
     "execution_count": 806,
     "metadata": {},
     "output_type": "execute_result"
    }
   ],
   "execution_count": 806
  },
  {
   "metadata": {
    "ExecuteTime": {
     "end_time": "2025-08-12T13:21:33.664695Z",
     "start_time": "2025-08-12T13:21:33.656729Z"
    }
   },
   "cell_type": "code",
   "source": "genre_summary = data.describe().T",
   "id": "3c983e6845d83614",
   "outputs": [],
   "execution_count": 807
  },
  {
   "metadata": {
    "ExecuteTime": {
     "end_time": "2025-08-12T13:21:33.675864Z",
     "start_time": "2025-08-12T13:21:33.668743Z"
    }
   },
   "cell_type": "code",
   "source": [
    "genre_summary['std_dev_pct'] = genre_summary['std'] / genre_summary['mean']\n",
    "genre_summary['std_dev_bool'] = genre_summary['std_dev_pct'] > genre_summary['mean']\n",
    "genre_summary"
   ],
   "id": "3e7dcde280371e6b",
   "outputs": [
    {
     "data": {
      "text/plain": [
       "                  count           mean           std           min  \\\n",
       "Unnamed: 0         50.0      24.500000     14.577380       0.00000   \n",
       "energy             50.0       0.609300      0.154348       0.22500   \n",
       "danceability       50.0       0.716720      0.124975       0.35100   \n",
       "key                50.0       5.720000      3.709007       0.00000   \n",
       "loudness           50.0      -6.225900      2.349744     -14.45400   \n",
       "acousticness       50.0       0.256206      0.265250       0.00146   \n",
       "speechiness        50.0       0.124158      0.116836       0.02900   \n",
       "instrumentalness   50.0       0.015962      0.094312       0.00000   \n",
       "liveness           50.0       0.196552      0.176610       0.05740   \n",
       "valence            50.0       0.555710      0.216386       0.06050   \n",
       "tempo              50.0     119.690460     25.414778      75.80100   \n",
       "duration_ms        50.0  199955.360000  33996.122488  140526.00000   \n",
       "\n",
       "                            25%           50%           75%         max  \\\n",
       "Unnamed: 0            12.250000      24.50000      36.75000      49.000   \n",
       "energy                 0.494000       0.59700       0.72975       0.855   \n",
       "danceability           0.672500       0.74600       0.79450       0.935   \n",
       "key                    2.000000       6.50000       8.75000      11.000   \n",
       "loudness              -7.552500      -5.99150      -4.28550      -3.280   \n",
       "acousticness           0.052800       0.18850       0.29875       0.934   \n",
       "speechiness            0.048325       0.07005       0.15550       0.487   \n",
       "instrumentalness       0.000000       0.00000       0.00002       0.657   \n",
       "liveness               0.093950       0.11100       0.27125       0.792   \n",
       "valence                0.434000       0.56000       0.72625       0.925   \n",
       "tempo                 99.557250     116.96900     132.31700     180.067   \n",
       "duration_ms       175845.500000  197853.50000  215064.00000  312820.000   \n",
       "\n",
       "                  std_dev_pct  std_dev_bool  \n",
       "Unnamed: 0           0.594995         False  \n",
       "energy               0.253320         False  \n",
       "danceability         0.174371         False  \n",
       "key                  0.648428         False  \n",
       "loudness            -0.377414          True  \n",
       "acousticness         1.035302          True  \n",
       "speechiness          0.941030          True  \n",
       "instrumentalness     5.908532          True  \n",
       "liveness             0.898541          True  \n",
       "valence              0.389387         False  \n",
       "tempo                0.212338         False  \n",
       "duration_ms          0.170019         False  "
      ],
      "text/html": [
       "<div>\n",
       "<style scoped>\n",
       "    .dataframe tbody tr th:only-of-type {\n",
       "        vertical-align: middle;\n",
       "    }\n",
       "\n",
       "    .dataframe tbody tr th {\n",
       "        vertical-align: top;\n",
       "    }\n",
       "\n",
       "    .dataframe thead th {\n",
       "        text-align: right;\n",
       "    }\n",
       "</style>\n",
       "<table border=\"1\" class=\"dataframe\">\n",
       "  <thead>\n",
       "    <tr style=\"text-align: right;\">\n",
       "      <th></th>\n",
       "      <th>count</th>\n",
       "      <th>mean</th>\n",
       "      <th>std</th>\n",
       "      <th>min</th>\n",
       "      <th>25%</th>\n",
       "      <th>50%</th>\n",
       "      <th>75%</th>\n",
       "      <th>max</th>\n",
       "      <th>std_dev_pct</th>\n",
       "      <th>std_dev_bool</th>\n",
       "    </tr>\n",
       "  </thead>\n",
       "  <tbody>\n",
       "    <tr>\n",
       "      <th>Unnamed: 0</th>\n",
       "      <td>50.0</td>\n",
       "      <td>24.500000</td>\n",
       "      <td>14.577380</td>\n",
       "      <td>0.00000</td>\n",
       "      <td>12.250000</td>\n",
       "      <td>24.50000</td>\n",
       "      <td>36.75000</td>\n",
       "      <td>49.000</td>\n",
       "      <td>0.594995</td>\n",
       "      <td>False</td>\n",
       "    </tr>\n",
       "    <tr>\n",
       "      <th>energy</th>\n",
       "      <td>50.0</td>\n",
       "      <td>0.609300</td>\n",
       "      <td>0.154348</td>\n",
       "      <td>0.22500</td>\n",
       "      <td>0.494000</td>\n",
       "      <td>0.59700</td>\n",
       "      <td>0.72975</td>\n",
       "      <td>0.855</td>\n",
       "      <td>0.253320</td>\n",
       "      <td>False</td>\n",
       "    </tr>\n",
       "    <tr>\n",
       "      <th>danceability</th>\n",
       "      <td>50.0</td>\n",
       "      <td>0.716720</td>\n",
       "      <td>0.124975</td>\n",
       "      <td>0.35100</td>\n",
       "      <td>0.672500</td>\n",
       "      <td>0.74600</td>\n",
       "      <td>0.79450</td>\n",
       "      <td>0.935</td>\n",
       "      <td>0.174371</td>\n",
       "      <td>False</td>\n",
       "    </tr>\n",
       "    <tr>\n",
       "      <th>key</th>\n",
       "      <td>50.0</td>\n",
       "      <td>5.720000</td>\n",
       "      <td>3.709007</td>\n",
       "      <td>0.00000</td>\n",
       "      <td>2.000000</td>\n",
       "      <td>6.50000</td>\n",
       "      <td>8.75000</td>\n",
       "      <td>11.000</td>\n",
       "      <td>0.648428</td>\n",
       "      <td>False</td>\n",
       "    </tr>\n",
       "    <tr>\n",
       "      <th>loudness</th>\n",
       "      <td>50.0</td>\n",
       "      <td>-6.225900</td>\n",
       "      <td>2.349744</td>\n",
       "      <td>-14.45400</td>\n",
       "      <td>-7.552500</td>\n",
       "      <td>-5.99150</td>\n",
       "      <td>-4.28550</td>\n",
       "      <td>-3.280</td>\n",
       "      <td>-0.377414</td>\n",
       "      <td>True</td>\n",
       "    </tr>\n",
       "    <tr>\n",
       "      <th>acousticness</th>\n",
       "      <td>50.0</td>\n",
       "      <td>0.256206</td>\n",
       "      <td>0.265250</td>\n",
       "      <td>0.00146</td>\n",
       "      <td>0.052800</td>\n",
       "      <td>0.18850</td>\n",
       "      <td>0.29875</td>\n",
       "      <td>0.934</td>\n",
       "      <td>1.035302</td>\n",
       "      <td>True</td>\n",
       "    </tr>\n",
       "    <tr>\n",
       "      <th>speechiness</th>\n",
       "      <td>50.0</td>\n",
       "      <td>0.124158</td>\n",
       "      <td>0.116836</td>\n",
       "      <td>0.02900</td>\n",
       "      <td>0.048325</td>\n",
       "      <td>0.07005</td>\n",
       "      <td>0.15550</td>\n",
       "      <td>0.487</td>\n",
       "      <td>0.941030</td>\n",
       "      <td>True</td>\n",
       "    </tr>\n",
       "    <tr>\n",
       "      <th>instrumentalness</th>\n",
       "      <td>50.0</td>\n",
       "      <td>0.015962</td>\n",
       "      <td>0.094312</td>\n",
       "      <td>0.00000</td>\n",
       "      <td>0.000000</td>\n",
       "      <td>0.00000</td>\n",
       "      <td>0.00002</td>\n",
       "      <td>0.657</td>\n",
       "      <td>5.908532</td>\n",
       "      <td>True</td>\n",
       "    </tr>\n",
       "    <tr>\n",
       "      <th>liveness</th>\n",
       "      <td>50.0</td>\n",
       "      <td>0.196552</td>\n",
       "      <td>0.176610</td>\n",
       "      <td>0.05740</td>\n",
       "      <td>0.093950</td>\n",
       "      <td>0.11100</td>\n",
       "      <td>0.27125</td>\n",
       "      <td>0.792</td>\n",
       "      <td>0.898541</td>\n",
       "      <td>True</td>\n",
       "    </tr>\n",
       "    <tr>\n",
       "      <th>valence</th>\n",
       "      <td>50.0</td>\n",
       "      <td>0.555710</td>\n",
       "      <td>0.216386</td>\n",
       "      <td>0.06050</td>\n",
       "      <td>0.434000</td>\n",
       "      <td>0.56000</td>\n",
       "      <td>0.72625</td>\n",
       "      <td>0.925</td>\n",
       "      <td>0.389387</td>\n",
       "      <td>False</td>\n",
       "    </tr>\n",
       "    <tr>\n",
       "      <th>tempo</th>\n",
       "      <td>50.0</td>\n",
       "      <td>119.690460</td>\n",
       "      <td>25.414778</td>\n",
       "      <td>75.80100</td>\n",
       "      <td>99.557250</td>\n",
       "      <td>116.96900</td>\n",
       "      <td>132.31700</td>\n",
       "      <td>180.067</td>\n",
       "      <td>0.212338</td>\n",
       "      <td>False</td>\n",
       "    </tr>\n",
       "    <tr>\n",
       "      <th>duration_ms</th>\n",
       "      <td>50.0</td>\n",
       "      <td>199955.360000</td>\n",
       "      <td>33996.122488</td>\n",
       "      <td>140526.00000</td>\n",
       "      <td>175845.500000</td>\n",
       "      <td>197853.50000</td>\n",
       "      <td>215064.00000</td>\n",
       "      <td>312820.000</td>\n",
       "      <td>0.170019</td>\n",
       "      <td>False</td>\n",
       "    </tr>\n",
       "  </tbody>\n",
       "</table>\n",
       "</div>"
      ]
     },
     "execution_count": 808,
     "metadata": {},
     "output_type": "execute_result"
    }
   ],
   "execution_count": 808
  },
  {
   "metadata": {
    "ExecuteTime": {
     "end_time": "2025-08-12T13:22:21.217265Z",
     "start_time": "2025-08-12T13:22:20.650237Z"
    }
   },
   "cell_type": "code",
   "source": [
    "\n",
    "columns = ['energy','danceability','key','loudness','acousticness','speechiness','instrumentalness','liveness','valence','tempo','duration_s']\n",
    "\n",
    "import matplotlib.pyplot as plt\n",
    "\n",
    "for col in columns:\n",
    "    data[col].hist()\n",
    "    plt.title(col)\n",
    "    plt.show()\n"
   ],
   "id": "3b14fb3927450e48",
   "outputs": [
    {
     "data": {
      "text/plain": [
       "<Figure size 640x480 with 1 Axes>"
      ],
      "image/png": "[encoded data removed]"
     },
     "metadata": {},
     "output_type": "display_data"
    },
    {
     "data": {
      "text/plain": [
       "<Figure size 640x480 with 1 Axes>"
      ],
      "image/png": "[encoded data removed]"
     },
     "metadata": {},
     "output_type": "display_data"
    },
    {
     "data": {
      "text/plain": [
       "<Figure size 640x480 with 1 Axes>"
      ],
      "image/png": "[encoded data removed]"
     },
     "metadata": {},
     "output_type": "display_data"
    },
    {
     "data": {
      "text/plain": [
       "<Figure size 640x480 with 1 Axes>"
      ],
      "image/png": "[encoded data removed]"
     },
     "metadata": {},
     "output_type": "display_data"
    },
    {
     "data": {
      "text/plain": [
       "<Figure size 640x480 with 1 Axes>"
      ],
      "image/png": "[encoded data removed]"
     },
     "metadata": {},
     "output_type": "display_data"
    },
    {
     "data": {
      "text/plain": [
       "<Figure size 640x480 with 1 Axes>"
      ],
      "image/png": "[encoded data removed]"
     },
     "metadata": {},
     "output_type": "display_data"
    },
    {
     "data": {
      "text/plain": [
       "<Figure size 640x480 with 1 Axes>"
      ],
      "image/png": "[encoded data removed]"
     },
     "metadata": {},
     "output_type": "display_data"
    },
    {
     "data": {
      "text/plain": [
       "<Figure size 640x480 with 1 Axes>"
      ],
      "image/png": "[encoded data removed]"
     },
     "metadata": {},
     "output_type": "display_data"
    },
    {
     "data": {
      "text/plain": [
       "<Figure size 640x480 with 1 Axes>"
      ],
      "image/png": "[encoded data removed]"
     },
     "metadata": {},
     "output_type": "display_data"
    },
    {
     "data": {
      "text/plain": [
       "<Figure size 640x480 with 1 Axes>"
      ],
      "image/png": "[encoded data removed]"
     },
     "metadata": {},
     "output_type": "display_data"
    },
    {
     "data": {
      "text/plain": [
       "<Figure size 640x480 with 1 Axes>"
      ],
      "image/png": "[encoded data removed]"
     },
     "metadata": {},
     "output_type": "display_data"
    }
   ],
   "execution_count": 850
  },
  {
   "metadata": {},
   "cell_type": "markdown",
   "source": [
    "# Data Preparation\n",
    "\n",
    "- Rename unnamed field to rank\n",
    "- add +1 to each rank\n",
    "- Loudness, Instrumentalness outliers\n",
    "- Convert duration_ms to minutes:seconds\n",
    "- Add a broader genre field"
   ],
   "id": "4bc422ab693a093a"
  },
  {
   "metadata": {
    "ExecuteTime": {
     "end_time": "2025-08-12T13:21:34.105980Z",
     "start_time": "2025-08-12T13:21:34.099598Z"
    }
   },
   "cell_type": "code",
   "source": "data.head()",
   "id": "6870370964a30893",
   "outputs": [
    {
     "data": {
      "text/plain": [
       "   Unnamed: 0       artist                                  album  \\\n",
       "0           0   The Weeknd                            After Hours   \n",
       "1           1  Tones And I                           Dance Monkey   \n",
       "2           2  Roddy Ricch  Please Excuse Me For Being Antisocial   \n",
       "3           3    SAINt JHN                  Roses (Imanbek Remix)   \n",
       "4           4     Dua Lipa                       Future Nostalgia   \n",
       "\n",
       "              track_name                track_id  energy  danceability  key  \\\n",
       "0        Blinding Lights  0VjIjW4GlUZAMYd2vXMi3b   0.730         0.514    1   \n",
       "1           Dance Monkey  1rgnBhdG2JDFTbYkYRZAku   0.593         0.825    6   \n",
       "2                The Box  0nbXyq5TXYPCO7pr3N8S4I   0.586         0.896   10   \n",
       "3  Roses - Imanbek Remix  2Wo6QQD1KMDWeFkkjLqwx5   0.721         0.785    8   \n",
       "4        Don't Start Now  3PfIrDoz19wz7qK7tYeu62   0.793         0.793   11   \n",
       "\n",
       "   loudness  acousticness  speechiness  instrumentalness  liveness  valence  \\\n",
       "0    -5.934       0.00146       0.0598          0.000095    0.0897    0.334   \n",
       "1    -6.401       0.68800       0.0988          0.000161    0.1700    0.540   \n",
       "2    -6.687       0.10400       0.0559          0.000000    0.7900    0.642   \n",
       "3    -5.457       0.01490       0.0506          0.004320    0.2850    0.894   \n",
       "4    -4.521       0.01230       0.0830          0.000000    0.0951    0.679   \n",
       "\n",
       "     tempo  duration_ms              genre  \n",
       "0  171.005       200040           R&B/Soul  \n",
       "1   98.078       209755  Alternative/Indie  \n",
       "2  116.971       196653        Hip-Hop/Rap  \n",
       "3  121.962       176219   Dance/Electronic  \n",
       "4  123.950       183290           Nu-disco  "
      ],
      "text/html": [
       "<div>\n",
       "<style scoped>\n",
       "    .dataframe tbody tr th:only-of-type {\n",
       "        vertical-align: middle;\n",
       "    }\n",
       "\n",
       "    .dataframe tbody tr th {\n",
       "        vertical-align: top;\n",
       "    }\n",
       "\n",
       "    .dataframe thead th {\n",
       "        text-align: right;\n",
       "    }\n",
       "</style>\n",
       "<table border=\"1\" class=\"dataframe\">\n",
       "  <thead>\n",
       "    <tr style=\"text-align: right;\">\n",
       "      <th></th>\n",
       "      <th>Unnamed: 0</th>\n",
       "      <th>artist</th>\n",
       "      <th>album</th>\n",
       "      <th>track_name</th>\n",
       "      <th>track_id</th>\n",
       "      <th>energy</th>\n",
       "      <th>danceability</th>\n",
       "      <th>key</th>\n",
       "      <th>loudness</th>\n",
       "      <th>acousticness</th>\n",
       "      <th>speechiness</th>\n",
       "      <th>instrumentalness</th>\n",
       "      <th>liveness</th>\n",
       "      <th>valence</th>\n",
       "      <th>tempo</th>\n",
       "      <th>duration_ms</th>\n",
       "      <th>genre</th>\n",
       "    </tr>\n",
       "  </thead>\n",
       "  <tbody>\n",
       "    <tr>\n",
       "      <th>0</th>\n",
       "      <td>0</td>\n",
       "      <td>The Weeknd</td>\n",
       "      <td>After Hours</td>\n",
       "      <td>Blinding Lights</td>\n",
       "      <td>0VjIjW4GlUZAMYd2vXMi3b</td>\n",
       "      <td>0.730</td>\n",
       "      <td>0.514</td>\n",
       "      <td>1</td>\n",
       "      <td>-5.934</td>\n",
       "      <td>0.00146</td>\n",
       "      <td>0.0598</td>\n",
       "      <td>0.000095</td>\n",
       "      <td>0.0897</td>\n",
       "      <td>0.334</td>\n",
       "      <td>171.005</td>\n",
       "      <td>200040</td>\n",
       "      <td>R&amp;B/Soul</td>\n",
       "    </tr>\n",
       "    <tr>\n",
       "      <th>1</th>\n",
       "      <td>1</td>\n",
       "      <td>Tones And I</td>\n",
       "      <td>Dance Monkey</td>\n",
       "      <td>Dance Monkey</td>\n",
       "      <td>1rgnBhdG2JDFTbYkYRZAku</td>\n",
       "      <td>0.593</td>\n",
       "      <td>0.825</td>\n",
       "      <td>6</td>\n",
       "      <td>-6.401</td>\n",
       "      <td>0.68800</td>\n",
       "      <td>0.0988</td>\n",
       "      <td>0.000161</td>\n",
       "      <td>0.1700</td>\n",
       "      <td>0.540</td>\n",
       "      <td>98.078</td>\n",
       "      <td>209755</td>\n",
       "      <td>Alternative/Indie</td>\n",
       "    </tr>\n",
       "    <tr>\n",
       "      <th>2</th>\n",
       "      <td>2</td>\n",
       "      <td>Roddy Ricch</td>\n",
       "      <td>Please Excuse Me For Being Antisocial</td>\n",
       "      <td>The Box</td>\n",
       "      <td>0nbXyq5TXYPCO7pr3N8S4I</td>\n",
       "      <td>0.586</td>\n",
       "      <td>0.896</td>\n",
       "      <td>10</td>\n",
       "      <td>-6.687</td>\n",
       "      <td>0.10400</td>\n",
       "      <td>0.0559</td>\n",
       "      <td>0.000000</td>\n",
       "      <td>0.7900</td>\n",
       "      <td>0.642</td>\n",
       "      <td>116.971</td>\n",
       "      <td>196653</td>\n",
       "      <td>Hip-Hop/Rap</td>\n",
       "    </tr>\n",
       "    <tr>\n",
       "      <th>3</th>\n",
       "      <td>3</td>\n",
       "      <td>SAINt JHN</td>\n",
       "      <td>Roses (Imanbek Remix)</td>\n",
       "      <td>Roses - Imanbek Remix</td>\n",
       "      <td>2Wo6QQD1KMDWeFkkjLqwx5</td>\n",
       "      <td>0.721</td>\n",
       "      <td>0.785</td>\n",
       "      <td>8</td>\n",
       "      <td>-5.457</td>\n",
       "      <td>0.01490</td>\n",
       "      <td>0.0506</td>\n",
       "      <td>0.004320</td>\n",
       "      <td>0.2850</td>\n",
       "      <td>0.894</td>\n",
       "      <td>121.962</td>\n",
       "      <td>176219</td>\n",
       "      <td>Dance/Electronic</td>\n",
       "    </tr>\n",
       "    <tr>\n",
       "      <th>4</th>\n",
       "      <td>4</td>\n",
       "      <td>Dua Lipa</td>\n",
       "      <td>Future Nostalgia</td>\n",
       "      <td>Don't Start Now</td>\n",
       "      <td>3PfIrDoz19wz7qK7tYeu62</td>\n",
       "      <td>0.793</td>\n",
       "      <td>0.793</td>\n",
       "      <td>11</td>\n",
       "      <td>-4.521</td>\n",
       "      <td>0.01230</td>\n",
       "      <td>0.0830</td>\n",
       "      <td>0.000000</td>\n",
       "      <td>0.0951</td>\n",
       "      <td>0.679</td>\n",
       "      <td>123.950</td>\n",
       "      <td>183290</td>\n",
       "      <td>Nu-disco</td>\n",
       "    </tr>\n",
       "  </tbody>\n",
       "</table>\n",
       "</div>"
      ]
     },
     "execution_count": 810,
     "metadata": {},
     "output_type": "execute_result"
    }
   ],
   "execution_count": 810
  },
  {
   "metadata": {
    "ExecuteTime": {
     "end_time": "2025-08-12T13:21:34.122127Z",
     "start_time": "2025-08-12T13:21:34.119382Z"
    }
   },
   "cell_type": "code",
   "source": [
    "data.rename(columns={\"Unnamed: 0\": \"rank\"}, inplace=True)\n",
    "data[\"rank\"] = data[\"rank\"] + 1\n",
    "\n",
    "print(f\" Min Rank:\",data[\"rank\"].min(),\"| Max Rank:\",data[\"rank\"].max(),\"| Total Ranks:\",data[\"rank\"].count())"
   ],
   "id": "312ec6b5b9584b9f",
   "outputs": [
    {
     "name": "stdout",
     "output_type": "stream",
     "text": [
      " Min Rank: 1 | Max Rank: 50 | Total Ranks: 50\n"
     ]
    }
   ],
   "execution_count": 811
  },
  {
   "metadata": {
    "ExecuteTime": {
     "end_time": "2025-08-12T13:21:34.140204Z",
     "start_time": "2025-08-12T13:21:34.134740Z"
    }
   },
   "cell_type": "code",
   "source": [
    "data['genre'] = data['genre'].str.strip()\n",
    "data['genre'].value_counts(ascending=True)"
   ],
   "id": "b0f6954275bf57ae",
   "outputs": [
    {
     "data": {
      "text/plain": [
       "genre\n",
       "Nu-disco                               1\n",
       "R&B/Hip-Hop alternative                1\n",
       "Pop/Soft Rock                          1\n",
       "Pop rap                                1\n",
       "Hip-Hop/Trap                           1\n",
       "Dance-pop/Disco                        1\n",
       "Disco-pop                              1\n",
       "Dreampop/Hip-Hop/R&B                   1\n",
       "Alternative/reggaeton/experimental     1\n",
       "Chamber pop                            1\n",
       "R&B/Soul                               2\n",
       "Electro-pop                            2\n",
       "Alternative/Indie                      4\n",
       "Dance/Electronic                       5\n",
       "Hip-Hop/Rap                           13\n",
       "Pop                                   14\n",
       "Name: count, dtype: int64"
      ]
     },
     "execution_count": 812,
     "metadata": {},
     "output_type": "execute_result"
    }
   ],
   "execution_count": 812
  },
  {
   "metadata": {
    "ExecuteTime": {
     "end_time": "2025-08-12T13:21:34.147634Z",
     "start_time": "2025-08-12T13:21:34.144669Z"
    }
   },
   "cell_type": "code",
   "source": [
    "dummies = data['genre'].str.get_dummies(\"/\")\n",
    "data = data.join(dummies.add_prefix(\"Genre_\"))\n"
   ],
   "id": "2d8a93a8dfffd197",
   "outputs": [],
   "execution_count": 813
  },
  {
   "metadata": {
    "ExecuteTime": {
     "end_time": "2025-08-12T13:21:34.156798Z",
     "start_time": "2025-08-12T13:21:34.154856Z"
    }
   },
   "cell_type": "code",
   "source": [
    "#Do we want singles released without albums to be counted as albums?\n",
    "\n",
    "data['single_release_only'] = data['album'] == data['track_name']\n"
   ],
   "id": "83dcc43f1bf9e7e0",
   "outputs": [],
   "execution_count": 814
  },
  {
   "metadata": {
    "ExecuteTime": {
     "end_time": "2025-08-12T13:21:34.161975Z",
     "start_time": "2025-08-12T13:21:34.159452Z"
    }
   },
   "cell_type": "code",
   "source": [
    "data['duration'] = pd.to_datetime(data['duration_ms'],unit='ms').dt.strftime('%M:%S')\n",
    "data['duration_s'] = data['duration_ms'] * 0.001\n",
    "\n",
    "del data['duration_ms']\n",
    "\n"
   ],
   "id": "bab418e151ccb794",
   "outputs": [],
   "execution_count": 815
  },
  {
   "metadata": {
    "ExecuteTime": {
     "end_time": "2025-08-12T13:21:34.173221Z",
     "start_time": "2025-08-12T13:21:34.165352Z"
    }
   },
   "cell_type": "code",
   "source": "data.head(2)",
   "id": "7239c3126f9c3e75",
   "outputs": [
    {
     "data": {
      "text/plain": [
       "   rank       artist         album       track_name                track_id  \\\n",
       "0     1   The Weeknd   After Hours  Blinding Lights  0VjIjW4GlUZAMYd2vXMi3b   \n",
       "1     2  Tones And I  Dance Monkey     Dance Monkey  1rgnBhdG2JDFTbYkYRZAku   \n",
       "\n",
       "   energy  danceability  key  loudness  acousticness  speechiness  \\\n",
       "0   0.730         0.514    1    -5.934       0.00146       0.0598   \n",
       "1   0.593         0.825    6    -6.401       0.68800       0.0988   \n",
       "\n",
       "   instrumentalness  liveness  valence    tempo              genre  \\\n",
       "0          0.000095    0.0897    0.334  171.005           R&B/Soul   \n",
       "1          0.000161    0.1700    0.540   98.078  Alternative/Indie   \n",
       "\n",
       "   Genre_Alternative  Genre_Chamber pop  Genre_Dance  Genre_Dance-pop  \\\n",
       "0                  0                  0            0                0   \n",
       "1                  1                  0            0                0   \n",
       "\n",
       "   Genre_Disco  Genre_Disco-pop  Genre_Dreampop  Genre_Electro-pop  \\\n",
       "0            0                0               0                  0   \n",
       "1            0                0               0                  0   \n",
       "\n",
       "   Genre_Electronic  Genre_Hip-Hop  Genre_Hip-Hop alternative  Genre_Indie  \\\n",
       "0                 0              0                          0            0   \n",
       "1                 0              0                          0            1   \n",
       "\n",
       "   Genre_Nu-disco  Genre_Pop  Genre_Pop rap  Genre_R&B  Genre_Rap  \\\n",
       "0               0          0              0          1          0   \n",
       "1               0          0              0          0          0   \n",
       "\n",
       "   Genre_Soft Rock  Genre_Soul  Genre_Trap  Genre_experimental  \\\n",
       "0                0           1           0                   0   \n",
       "1                0           0           0                   0   \n",
       "\n",
       "   Genre_reggaeton  single_release_only duration  duration_s  \n",
       "0                0                False    03:20     200.040  \n",
       "1                0                 True    03:29     209.755  "
      ],
      "text/html": [
       "<div>\n",
       "<style scoped>\n",
       "    .dataframe tbody tr th:only-of-type {\n",
       "        vertical-align: middle;\n",
       "    }\n",
       "\n",
       "    .dataframe tbody tr th {\n",
       "        vertical-align: top;\n",
       "    }\n",
       "\n",
       "    .dataframe thead th {\n",
       "        text-align: right;\n",
       "    }\n",
       "</style>\n",
       "<table border=\"1\" class=\"dataframe\">\n",
       "  <thead>\n",
       "    <tr style=\"text-align: right;\">\n",
       "      <th></th>\n",
       "      <th>rank</th>\n",
       "      <th>artist</th>\n",
       "      <th>album</th>\n",
       "      <th>track_name</th>\n",
       "      <th>track_id</th>\n",
       "      <th>energy</th>\n",
       "      <th>danceability</th>\n",
       "      <th>key</th>\n",
       "      <th>loudness</th>\n",
       "      <th>acousticness</th>\n",
       "      <th>speechiness</th>\n",
       "      <th>instrumentalness</th>\n",
       "      <th>liveness</th>\n",
       "      <th>valence</th>\n",
       "      <th>tempo</th>\n",
       "      <th>genre</th>\n",
       "      <th>Genre_Alternative</th>\n",
       "      <th>Genre_Chamber pop</th>\n",
       "      <th>Genre_Dance</th>\n",
       "      <th>Genre_Dance-pop</th>\n",
       "      <th>Genre_Disco</th>\n",
       "      <th>Genre_Disco-pop</th>\n",
       "      <th>Genre_Dreampop</th>\n",
       "      <th>Genre_Electro-pop</th>\n",
       "      <th>Genre_Electronic</th>\n",
       "      <th>Genre_Hip-Hop</th>\n",
       "      <th>Genre_Hip-Hop alternative</th>\n",
       "      <th>Genre_Indie</th>\n",
       "      <th>Genre_Nu-disco</th>\n",
       "      <th>Genre_Pop</th>\n",
       "      <th>Genre_Pop rap</th>\n",
       "      <th>Genre_R&amp;B</th>\n",
       "      <th>Genre_Rap</th>\n",
       "      <th>Genre_Soft Rock</th>\n",
       "      <th>Genre_Soul</th>\n",
       "      <th>Genre_Trap</th>\n",
       "      <th>Genre_experimental</th>\n",
       "      <th>Genre_reggaeton</th>\n",
       "      <th>single_release_only</th>\n",
       "      <th>duration</th>\n",
       "      <th>duration_s</th>\n",
       "    </tr>\n",
       "  </thead>\n",
       "  <tbody>\n",
       "    <tr>\n",
       "      <th>0</th>\n",
       "      <td>1</td>\n",
       "      <td>The Weeknd</td>\n",
       "      <td>After Hours</td>\n",
       "      <td>Blinding Lights</td>\n",
       "      <td>0VjIjW4GlUZAMYd2vXMi3b</td>\n",
       "      <td>0.730</td>\n",
       "      <td>0.514</td>\n",
       "      <td>1</td>\n",
       "      <td>-5.934</td>\n",
       "      <td>0.00146</td>\n",
       "      <td>0.0598</td>\n",
       "      <td>0.000095</td>\n",
       "      <td>0.0897</td>\n",
       "      <td>0.334</td>\n",
       "      <td>171.005</td>\n",
       "      <td>R&amp;B/Soul</td>\n",
       "      <td>0</td>\n",
       "      <td>0</td>\n",
       "      <td>0</td>\n",
       "      <td>0</td>\n",
       "      <td>0</td>\n",
       "      <td>0</td>\n",
       "      <td>0</td>\n",
       "      <td>0</td>\n",
       "      <td>0</td>\n",
       "      <td>0</td>\n",
       "      <td>0</td>\n",
       "      <td>0</td>\n",
       "      <td>0</td>\n",
       "      <td>0</td>\n",
       "      <td>0</td>\n",
       "      <td>1</td>\n",
       "      <td>0</td>\n",
       "      <td>0</td>\n",
       "      <td>1</td>\n",
       "      <td>0</td>\n",
       "      <td>0</td>\n",
       "      <td>0</td>\n",
       "      <td>False</td>\n",
       "      <td>03:20</td>\n",
       "      <td>200.040</td>\n",
       "    </tr>\n",
       "    <tr>\n",
       "      <th>1</th>\n",
       "      <td>2</td>\n",
       "      <td>Tones And I</td>\n",
       "      <td>Dance Monkey</td>\n",
       "      <td>Dance Monkey</td>\n",
       "      <td>1rgnBhdG2JDFTbYkYRZAku</td>\n",
       "      <td>0.593</td>\n",
       "      <td>0.825</td>\n",
       "      <td>6</td>\n",
       "      <td>-6.401</td>\n",
       "      <td>0.68800</td>\n",
       "      <td>0.0988</td>\n",
       "      <td>0.000161</td>\n",
       "      <td>0.1700</td>\n",
       "      <td>0.540</td>\n",
       "      <td>98.078</td>\n",
       "      <td>Alternative/Indie</td>\n",
       "      <td>1</td>\n",
       "      <td>0</td>\n",
       "      <td>0</td>\n",
       "      <td>0</td>\n",
       "      <td>0</td>\n",
       "      <td>0</td>\n",
       "      <td>0</td>\n",
       "      <td>0</td>\n",
       "      <td>0</td>\n",
       "      <td>0</td>\n",
       "      <td>0</td>\n",
       "      <td>1</td>\n",
       "      <td>0</td>\n",
       "      <td>0</td>\n",
       "      <td>0</td>\n",
       "      <td>0</td>\n",
       "      <td>0</td>\n",
       "      <td>0</td>\n",
       "      <td>0</td>\n",
       "      <td>0</td>\n",
       "      <td>0</td>\n",
       "      <td>0</td>\n",
       "      <td>True</td>\n",
       "      <td>03:29</td>\n",
       "      <td>209.755</td>\n",
       "    </tr>\n",
       "  </tbody>\n",
       "</table>\n",
       "</div>"
      ]
     },
     "execution_count": 816,
     "metadata": {},
     "output_type": "execute_result"
    }
   ],
   "execution_count": 816
  },
  {
   "metadata": {
    "ExecuteTime": {
     "end_time": "2025-08-12T13:21:34.181434Z",
     "start_time": "2025-08-12T13:21:34.178492Z"
    }
   },
   "cell_type": "code",
   "source": [
    "pop_replacement = ['Electro-pop','Chamber pop','Disco-pop','Pop rap','Pop/Soft Rock']\n",
    "hip_hop_replacement = ['Hip-Hop/Trap','R&B/Hip-Hop alternative']\n",
    "dance_replacement = ['Dance-pop/Disco','Nu-disco']\n",
    "\n",
    "data['broad_genre'] = data['genre']\n",
    "\n",
    "data['broad_genre'].replace(pop_replacement, 'Pop', inplace=True)\n",
    "data['broad_genre'].replace(hip_hop_replacement, 'Hip-Hop/Rap', inplace=True)\n",
    "data['broad_genre'].replace(dance_replacement, 'Dance/Electronic', inplace=True)\n",
    "\n"
   ],
   "id": "a1af1bdf5516534d",
   "outputs": [
    {
     "name": "stderr",
     "output_type": "stream",
     "text": [
      "/var/folders/kn/24kjgmss2yzfjngp_zf6x8vr0000gn/T/ipykernel_2942/84717053.py:7: FutureWarning: A value is trying to be set on a copy of a DataFrame or Series through chained assignment using an inplace method.\n",
      "The behavior will change in pandas 3.0. This inplace method will never work because the intermediate object on which we are setting values always behaves as a copy.\n",
      "\n",
      "For example, when doing 'df[col].method(value, inplace=True)', try using 'df.method({col: value}, inplace=True)' or df[col] = df[col].method(value) instead, to perform the operation inplace on the original object.\n",
      "\n",
      "\n",
      "  data['broad_genre'].replace(pop_replacement, 'Pop', inplace=True)\n"
     ]
    }
   ],
   "execution_count": 817
  },
  {
   "metadata": {
    "ExecuteTime": {
     "end_time": "2025-08-12T13:21:34.191067Z",
     "start_time": "2025-08-12T13:21:34.188436Z"
    }
   },
   "cell_type": "code",
   "source": "data['broad_genre'].value_counts()",
   "id": "40deb157daebea2c",
   "outputs": [
    {
     "data": {
      "text/plain": [
       "broad_genre\n",
       "Pop                                   20\n",
       "Hip-Hop/Rap                           15\n",
       "Dance/Electronic                       7\n",
       "Alternative/Indie                      4\n",
       "R&B/Soul                               2\n",
       "Dreampop/Hip-Hop/R&B                   1\n",
       "Alternative/reggaeton/experimental     1\n",
       "Name: count, dtype: int64"
      ]
     },
     "execution_count": 818,
     "metadata": {},
     "output_type": "execute_result"
    }
   ],
   "execution_count": 818
  },
  {
   "metadata": {
    "ExecuteTime": {
     "end_time": "2025-08-12T13:21:34.199517Z",
     "start_time": "2025-08-12T13:21:34.198270Z"
    }
   },
   "cell_type": "code",
   "source": "",
   "id": "833dd294c0345e06",
   "outputs": [],
   "execution_count": null
  },
  {
   "metadata": {},
   "cell_type": "markdown",
   "source": "# Question Requirements",
   "id": "52f6e458768441d7"
  },
  {
   "metadata": {},
   "cell_type": "markdown",
   "source": [
    "### Are there any artists that have more than 1 popular track? If yes, which and how many?\n",
    "\n",
    "\n",
    "\n"
   ],
   "id": "534f56e9a0db524e"
  },
  {
   "metadata": {
    "ExecuteTime": {
     "end_time": "2025-08-12T13:21:34.215329Z",
     "start_time": "2025-08-12T13:21:34.206808Z"
    }
   },
   "cell_type": "code",
   "source": [
    "popular_artists = data.groupby(['artist'])['rank'].count().where(data.groupby(['artist'])['rank'].count() > 1).dropna()\n",
    "popular_artists = pd.DataFrame(popular_artists).reset_index()\n",
    "popular_artists = pd.merge(popular_artists, data, on=\"artist\")\n",
    "popular_artists = popular_artists[['artist','track_name','rank_y']]\n",
    "\n",
    "print(f\" There are {len(popular_artists.groupby(['artist']).count())} popular artists (With more than 1 track in top 50) out of a total of {len(data.groupby(['artist']).count())} artists\")\n",
    "popular_artists\n"
   ],
   "id": "15e0d3e1fb1aa250",
   "outputs": [
    {
     "name": "stdout",
     "output_type": "stream",
     "text": [
      " There are 7 popular artists (With more than 1 track in top 50) out of a total of 40 artists\n"
     ]
    },
    {
     "data": {
      "text/plain": [
       "           artist                                     track_name  rank_y\n",
       "0   Billie Eilish                            everything i wanted      25\n",
       "1   Billie Eilish                                        bad guy      27\n",
       "2   Billie Eilish                           lovely (with Khalid)      45\n",
       "3        Dua Lipa                                Don't Start Now       5\n",
       "4        Dua Lipa                                 Break My Heart      32\n",
       "5        Dua Lipa                                       Physical      49\n",
       "6    Harry Styles                               Watermelon Sugar       7\n",
       "7    Harry Styles                                      Adore You      22\n",
       "8   Justin Bieber                       Intentions (feat. Quavo)      15\n",
       "9   Justin Bieber                                          Yummy      31\n",
       "10  Lewis Capaldi                              Someone You Loved      10\n",
       "11  Lewis Capaldi                                  Before You Go      17\n",
       "12    Post Malone                                        Circles      13\n",
       "13    Post Malone  Sunflower - Spider-Man: Into the Spider-Verse      38\n",
       "14   Travis Scott                            HIGHEST IN THE ROOM      37\n",
       "15   Travis Scott                                     goosebumps      41\n",
       "16   Travis Scott                                     SICKO MODE      50"
      ],
      "text/html": [
       "<div>\n",
       "<style scoped>\n",
       "    .dataframe tbody tr th:only-of-type {\n",
       "        vertical-align: middle;\n",
       "    }\n",
       "\n",
       "    .dataframe tbody tr th {\n",
       "        vertical-align: top;\n",
       "    }\n",
       "\n",
       "    .dataframe thead th {\n",
       "        text-align: right;\n",
       "    }\n",
       "</style>\n",
       "<table border=\"1\" class=\"dataframe\">\n",
       "  <thead>\n",
       "    <tr style=\"text-align: right;\">\n",
       "      <th></th>\n",
       "      <th>artist</th>\n",
       "      <th>track_name</th>\n",
       "      <th>rank_y</th>\n",
       "    </tr>\n",
       "  </thead>\n",
       "  <tbody>\n",
       "    <tr>\n",
       "      <th>0</th>\n",
       "      <td>Billie Eilish</td>\n",
       "      <td>everything i wanted</td>\n",
       "      <td>25</td>\n",
       "    </tr>\n",
       "    <tr>\n",
       "      <th>1</th>\n",
       "      <td>Billie Eilish</td>\n",
       "      <td>bad guy</td>\n",
       "      <td>27</td>\n",
       "    </tr>\n",
       "    <tr>\n",
       "      <th>2</th>\n",
       "      <td>Billie Eilish</td>\n",
       "      <td>lovely (with Khalid)</td>\n",
       "      <td>45</td>\n",
       "    </tr>\n",
       "    <tr>\n",
       "      <th>3</th>\n",
       "      <td>Dua Lipa</td>\n",
       "      <td>Don't Start Now</td>\n",
       "      <td>5</td>\n",
       "    </tr>\n",
       "    <tr>\n",
       "      <th>4</th>\n",
       "      <td>Dua Lipa</td>\n",
       "      <td>Break My Heart</td>\n",
       "      <td>32</td>\n",
       "    </tr>\n",
       "    <tr>\n",
       "      <th>5</th>\n",
       "      <td>Dua Lipa</td>\n",
       "      <td>Physical</td>\n",
       "      <td>49</td>\n",
       "    </tr>\n",
       "    <tr>\n",
       "      <th>6</th>\n",
       "      <td>Harry Styles</td>\n",
       "      <td>Watermelon Sugar</td>\n",
       "      <td>7</td>\n",
       "    </tr>\n",
       "    <tr>\n",
       "      <th>7</th>\n",
       "      <td>Harry Styles</td>\n",
       "      <td>Adore You</td>\n",
       "      <td>22</td>\n",
       "    </tr>\n",
       "    <tr>\n",
       "      <th>8</th>\n",
       "      <td>Justin Bieber</td>\n",
       "      <td>Intentions (feat. Quavo)</td>\n",
       "      <td>15</td>\n",
       "    </tr>\n",
       "    <tr>\n",
       "      <th>9</th>\n",
       "      <td>Justin Bieber</td>\n",
       "      <td>Yummy</td>\n",
       "      <td>31</td>\n",
       "    </tr>\n",
       "    <tr>\n",
       "      <th>10</th>\n",
       "      <td>Lewis Capaldi</td>\n",
       "      <td>Someone You Loved</td>\n",
       "      <td>10</td>\n",
       "    </tr>\n",
       "    <tr>\n",
       "      <th>11</th>\n",
       "      <td>Lewis Capaldi</td>\n",
       "      <td>Before You Go</td>\n",
       "      <td>17</td>\n",
       "    </tr>\n",
       "    <tr>\n",
       "      <th>12</th>\n",
       "      <td>Post Malone</td>\n",
       "      <td>Circles</td>\n",
       "      <td>13</td>\n",
       "    </tr>\n",
       "    <tr>\n",
       "      <th>13</th>\n",
       "      <td>Post Malone</td>\n",
       "      <td>Sunflower - Spider-Man: Into the Spider-Verse</td>\n",
       "      <td>38</td>\n",
       "    </tr>\n",
       "    <tr>\n",
       "      <th>14</th>\n",
       "      <td>Travis Scott</td>\n",
       "      <td>HIGHEST IN THE ROOM</td>\n",
       "      <td>37</td>\n",
       "    </tr>\n",
       "    <tr>\n",
       "      <th>15</th>\n",
       "      <td>Travis Scott</td>\n",
       "      <td>goosebumps</td>\n",
       "      <td>41</td>\n",
       "    </tr>\n",
       "    <tr>\n",
       "      <th>16</th>\n",
       "      <td>Travis Scott</td>\n",
       "      <td>SICKO MODE</td>\n",
       "      <td>50</td>\n",
       "    </tr>\n",
       "  </tbody>\n",
       "</table>\n",
       "</div>"
      ]
     },
     "execution_count": 819,
     "metadata": {},
     "output_type": "execute_result"
    }
   ],
   "execution_count": 819
  },
  {
   "metadata": {},
   "cell_type": "markdown",
   "source": "### Who was the most popular artist?\n",
   "id": "5a3d0b71fd6c3b97"
  },
  {
   "metadata": {
    "ExecuteTime": {
     "end_time": "2025-08-12T13:21:34.227069Z",
     "start_time": "2025-08-12T13:21:34.221855Z"
    }
   },
   "cell_type": "code",
   "source": [
    "print(\"It depends on what we mean by popular: \\n The highest ranked artist and most songs? Dua Lipa. \\n On average the most popular? Lewis Capaldi \\n \")\n",
    "popular_artists.groupby(['artist'])['rank_y'].agg(['count','mean','min','max']).reset_index().sort_values(by=['mean'],ascending=True)"
   ],
   "id": "d79a2658900a0c85",
   "outputs": [
    {
     "name": "stdout",
     "output_type": "stream",
     "text": [
      "It depends on what we mean by popular: \n",
      " The highest ranked artist and most songs? Dua Lipa. \n",
      " On average the most popular? Lewis Capaldi \n",
      " \n"
     ]
    },
    {
     "data": {
      "text/plain": [
       "          artist  count       mean  min  max\n",
       "4  Lewis Capaldi      2  13.500000   10   17\n",
       "2   Harry Styles      2  14.500000    7   22\n",
       "3  Justin Bieber      2  23.000000   15   31\n",
       "5    Post Malone      2  25.500000   13   38\n",
       "1       Dua Lipa      3  28.666667    5   49\n",
       "0  Billie Eilish      3  32.333333   25   45\n",
       "6   Travis Scott      3  42.666667   37   50"
      ],
      "text/html": [
       "<div>\n",
       "<style scoped>\n",
       "    .dataframe tbody tr th:only-of-type {\n",
       "        vertical-align: middle;\n",
       "    }\n",
       "\n",
       "    .dataframe tbody tr th {\n",
       "        vertical-align: top;\n",
       "    }\n",
       "\n",
       "    .dataframe thead th {\n",
       "        text-align: right;\n",
       "    }\n",
       "</style>\n",
       "<table border=\"1\" class=\"dataframe\">\n",
       "  <thead>\n",
       "    <tr style=\"text-align: right;\">\n",
       "      <th></th>\n",
       "      <th>artist</th>\n",
       "      <th>count</th>\n",
       "      <th>mean</th>\n",
       "      <th>min</th>\n",
       "      <th>max</th>\n",
       "    </tr>\n",
       "  </thead>\n",
       "  <tbody>\n",
       "    <tr>\n",
       "      <th>4</th>\n",
       "      <td>Lewis Capaldi</td>\n",
       "      <td>2</td>\n",
       "      <td>13.500000</td>\n",
       "      <td>10</td>\n",
       "      <td>17</td>\n",
       "    </tr>\n",
       "    <tr>\n",
       "      <th>2</th>\n",
       "      <td>Harry Styles</td>\n",
       "      <td>2</td>\n",
       "      <td>14.500000</td>\n",
       "      <td>7</td>\n",
       "      <td>22</td>\n",
       "    </tr>\n",
       "    <tr>\n",
       "      <th>3</th>\n",
       "      <td>Justin Bieber</td>\n",
       "      <td>2</td>\n",
       "      <td>23.000000</td>\n",
       "      <td>15</td>\n",
       "      <td>31</td>\n",
       "    </tr>\n",
       "    <tr>\n",
       "      <th>5</th>\n",
       "      <td>Post Malone</td>\n",
       "      <td>2</td>\n",
       "      <td>25.500000</td>\n",
       "      <td>13</td>\n",
       "      <td>38</td>\n",
       "    </tr>\n",
       "    <tr>\n",
       "      <th>1</th>\n",
       "      <td>Dua Lipa</td>\n",
       "      <td>3</td>\n",
       "      <td>28.666667</td>\n",
       "      <td>5</td>\n",
       "      <td>49</td>\n",
       "    </tr>\n",
       "    <tr>\n",
       "      <th>0</th>\n",
       "      <td>Billie Eilish</td>\n",
       "      <td>3</td>\n",
       "      <td>32.333333</td>\n",
       "      <td>25</td>\n",
       "      <td>45</td>\n",
       "    </tr>\n",
       "    <tr>\n",
       "      <th>6</th>\n",
       "      <td>Travis Scott</td>\n",
       "      <td>3</td>\n",
       "      <td>42.666667</td>\n",
       "      <td>37</td>\n",
       "      <td>50</td>\n",
       "    </tr>\n",
       "  </tbody>\n",
       "</table>\n",
       "</div>"
      ]
     },
     "execution_count": 820,
     "metadata": {},
     "output_type": "execute_result"
    }
   ],
   "execution_count": 820
  },
  {
   "metadata": {},
   "cell_type": "markdown",
   "source": "## Are there any albums that have more than 1 popular track? If yes, which and how many?",
   "id": "198761f07de272eb"
  },
  {
   "metadata": {
    "ExecuteTime": {
     "end_time": "2025-08-12T13:21:34.243678Z",
     "start_time": "2025-08-12T13:21:34.236143Z"
    }
   },
   "cell_type": "code",
   "source": [
    "popular_albums = data[data['single_release_only'] == False]\n",
    "popular_albums = popular_albums.groupby(['artist','album'])['rank'].agg(['count', 'min', 'max','mean']).reset_index().sort_values(by=['count'], ascending=False)\n",
    "popular_albums = popular_albums[popular_albums['count'] > 1]\n",
    "popular_albums = pd.merge(popular_albums, data, on=[\"album\",'artist'])\n",
    "\n",
    "popular_albums.groupby(['artist','album'])['album'].count()\n"
   ],
   "id": "543128d30338d252",
   "outputs": [
    {
     "data": {
      "text/plain": [
       "artist         album               \n",
       "Dua Lipa       Future Nostalgia        3\n",
       "Harry Styles   Fine Line               2\n",
       "Justin Bieber  Changes                 2\n",
       "Post Malone    Hollywood's Bleeding    2\n",
       "Name: album, dtype: int64"
      ]
     },
     "execution_count": 821,
     "metadata": {},
     "output_type": "execute_result"
    }
   ],
   "execution_count": 821
  },
  {
   "metadata": {
    "ExecuteTime": {
     "end_time": "2025-08-12T13:21:34.252785Z",
     "start_time": "2025-08-12T13:21:34.249258Z"
    }
   },
   "cell_type": "code",
   "source": "popular_albums[['artist','album','track_name']]",
   "id": "e42904ecfcc0c175",
   "outputs": [
    {
     "data": {
      "text/plain": [
       "          artist                 album  \\\n",
       "0       Dua Lipa      Future Nostalgia   \n",
       "1       Dua Lipa      Future Nostalgia   \n",
       "2       Dua Lipa      Future Nostalgia   \n",
       "3  Justin Bieber               Changes   \n",
       "4  Justin Bieber               Changes   \n",
       "5    Post Malone  Hollywood's Bleeding   \n",
       "6    Post Malone  Hollywood's Bleeding   \n",
       "7   Harry Styles             Fine Line   \n",
       "8   Harry Styles             Fine Line   \n",
       "\n",
       "                                      track_name  \n",
       "0                                Don't Start Now  \n",
       "1                                 Break My Heart  \n",
       "2                                       Physical  \n",
       "3                       Intentions (feat. Quavo)  \n",
       "4                                          Yummy  \n",
       "5                                        Circles  \n",
       "6  Sunflower - Spider-Man: Into the Spider-Verse  \n",
       "7                               Watermelon Sugar  \n",
       "8                                      Adore You  "
      ],
      "text/html": [
       "<div>\n",
       "<style scoped>\n",
       "    .dataframe tbody tr th:only-of-type {\n",
       "        vertical-align: middle;\n",
       "    }\n",
       "\n",
       "    .dataframe tbody tr th {\n",
       "        vertical-align: top;\n",
       "    }\n",
       "\n",
       "    .dataframe thead th {\n",
       "        text-align: right;\n",
       "    }\n",
       "</style>\n",
       "<table border=\"1\" class=\"dataframe\">\n",
       "  <thead>\n",
       "    <tr style=\"text-align: right;\">\n",
       "      <th></th>\n",
       "      <th>artist</th>\n",
       "      <th>album</th>\n",
       "      <th>track_name</th>\n",
       "    </tr>\n",
       "  </thead>\n",
       "  <tbody>\n",
       "    <tr>\n",
       "      <th>0</th>\n",
       "      <td>Dua Lipa</td>\n",
       "      <td>Future Nostalgia</td>\n",
       "      <td>Don't Start Now</td>\n",
       "    </tr>\n",
       "    <tr>\n",
       "      <th>1</th>\n",
       "      <td>Dua Lipa</td>\n",
       "      <td>Future Nostalgia</td>\n",
       "      <td>Break My Heart</td>\n",
       "    </tr>\n",
       "    <tr>\n",
       "      <th>2</th>\n",
       "      <td>Dua Lipa</td>\n",
       "      <td>Future Nostalgia</td>\n",
       "      <td>Physical</td>\n",
       "    </tr>\n",
       "    <tr>\n",
       "      <th>3</th>\n",
       "      <td>Justin Bieber</td>\n",
       "      <td>Changes</td>\n",
       "      <td>Intentions (feat. Quavo)</td>\n",
       "    </tr>\n",
       "    <tr>\n",
       "      <th>4</th>\n",
       "      <td>Justin Bieber</td>\n",
       "      <td>Changes</td>\n",
       "      <td>Yummy</td>\n",
       "    </tr>\n",
       "    <tr>\n",
       "      <th>5</th>\n",
       "      <td>Post Malone</td>\n",
       "      <td>Hollywood's Bleeding</td>\n",
       "      <td>Circles</td>\n",
       "    </tr>\n",
       "    <tr>\n",
       "      <th>6</th>\n",
       "      <td>Post Malone</td>\n",
       "      <td>Hollywood's Bleeding</td>\n",
       "      <td>Sunflower - Spider-Man: Into the Spider-Verse</td>\n",
       "    </tr>\n",
       "    <tr>\n",
       "      <th>7</th>\n",
       "      <td>Harry Styles</td>\n",
       "      <td>Fine Line</td>\n",
       "      <td>Watermelon Sugar</td>\n",
       "    </tr>\n",
       "    <tr>\n",
       "      <th>8</th>\n",
       "      <td>Harry Styles</td>\n",
       "      <td>Fine Line</td>\n",
       "      <td>Adore You</td>\n",
       "    </tr>\n",
       "  </tbody>\n",
       "</table>\n",
       "</div>"
      ]
     },
     "execution_count": 822,
     "metadata": {},
     "output_type": "execute_result"
    }
   ],
   "execution_count": 822
  },
  {
   "metadata": {},
   "cell_type": "markdown",
   "source": "## How many albums in total have their songs in the top 50?\n",
   "id": "1199b392baf27ff3"
  },
  {
   "metadata": {
    "ExecuteTime": {
     "end_time": "2025-08-12T13:21:34.263610Z",
     "start_time": "2025-08-12T13:21:34.261806Z"
    }
   },
   "cell_type": "code",
   "source": "print(f\"There are {len(data['album'].unique())} unique albums in the top 50\")",
   "id": "ffb1fdfc3a5f944a",
   "outputs": [
    {
     "name": "stdout",
     "output_type": "stream",
     "text": [
      "There are 45 unique albums in the top 50\n"
     ]
    }
   ],
   "execution_count": 823
  },
  {
   "metadata": {},
   "cell_type": "markdown",
   "source": "## Which tracks have a danceability score above 0.7?\n",
   "id": "35b169241986cfcb"
  },
  {
   "metadata": {
    "ExecuteTime": {
     "end_time": "2025-08-12T13:21:34.291201Z",
     "start_time": "2025-08-12T13:21:34.279624Z"
    }
   },
   "cell_type": "code",
   "source": [
    "print(f\"There are {len(data[data['danceability'] > 0.7])} tracks with danceability greater than 0.7\")\n",
    "data[['artist','track_name','danceability']][data['danceability'] > 0.7]\n"
   ],
   "id": "c32f5b806abd7855",
   "outputs": [
    {
     "name": "stdout",
     "output_type": "stream",
     "text": [
      "There are 32 tracks with danceability greater than 0.7\n"
     ]
    },
    {
     "data": {
      "text/plain": [
       "             artist                                     track_name  \\\n",
       "1       Tones And I                                   Dance Monkey   \n",
       "2       Roddy Ricch                                        The Box   \n",
       "3         SAINt JHN                          Roses - Imanbek Remix   \n",
       "4          Dua Lipa                                Don't Start Now   \n",
       "5            DaBaby                   ROCKSTAR (feat. Roddy Ricch)   \n",
       "7             Powfu               death bed (coffee for your head)   \n",
       "8     Trevor Daniel                                        Falling   \n",
       "10          KAROL G                                           Tusa   \n",
       "13        Lil Mosey                                Blueberry Faygo   \n",
       "14    Justin Bieber                       Intentions (feat. Quavo)   \n",
       "15            Drake                                   Toosie Slide   \n",
       "17         Doja Cat                                         Say So   \n",
       "18         Maroon 5                                       Memories   \n",
       "19           Future                     Life Is Good (feat. Drake)   \n",
       "20        Jawsh 685               Savage Love (Laxed - Siren Beat)   \n",
       "22            Topic                                    Breaking Me   \n",
       "24    Billie Eilish                            everything i wanted   \n",
       "25     Shawn Mendes                                       Señorita   \n",
       "26    Billie Eilish                                        bad guy   \n",
       "27          Cardi B                WAP (feat. Megan Thee Stallion)   \n",
       "28         Surfaces                                    Sunday Best   \n",
       "29           Eminem                    Godzilla (feat. Juice WRLD)   \n",
       "31         Dua Lipa                                 Break My Heart   \n",
       "32              BTS                                       Dynamite   \n",
       "33            BENEE               Supalonely (feat. Gus Dapperton)   \n",
       "37      Post Malone  Sunflower - Spider-Man: Into the Spider-Verse   \n",
       "38           Maluma                                          Hawái   \n",
       "39           Regard                                        Ride It   \n",
       "40     Travis Scott                                     goosebumps   \n",
       "41  Black Eyed Peas                      RITMO (Bad Boys For Life)   \n",
       "42       THE SCOTTS                                     THE SCOTTS   \n",
       "49     Travis Scott                                     SICKO MODE   \n",
       "\n",
       "    danceability  \n",
       "1          0.825  \n",
       "2          0.896  \n",
       "3          0.785  \n",
       "4          0.793  \n",
       "5          0.746  \n",
       "7          0.726  \n",
       "8          0.784  \n",
       "10         0.803  \n",
       "13         0.774  \n",
       "14         0.806  \n",
       "15         0.830  \n",
       "17         0.787  \n",
       "18         0.764  \n",
       "19         0.795  \n",
       "20         0.767  \n",
       "22         0.789  \n",
       "24         0.704  \n",
       "25         0.759  \n",
       "26         0.701  \n",
       "27         0.935  \n",
       "28         0.878  \n",
       "29         0.808  \n",
       "31         0.730  \n",
       "32         0.746  \n",
       "33         0.862  \n",
       "37         0.755  \n",
       "38         0.783  \n",
       "39         0.880  \n",
       "40         0.841  \n",
       "41         0.723  \n",
       "42         0.716  \n",
       "49         0.834  "
      ],
      "text/html": [
       "<div>\n",
       "<style scoped>\n",
       "    .dataframe tbody tr th:only-of-type {\n",
       "        vertical-align: middle;\n",
       "    }\n",
       "\n",
       "    .dataframe tbody tr th {\n",
       "        vertical-align: top;\n",
       "    }\n",
       "\n",
       "    .dataframe thead th {\n",
       "        text-align: right;\n",
       "    }\n",
       "</style>\n",
       "<table border=\"1\" class=\"dataframe\">\n",
       "  <thead>\n",
       "    <tr style=\"text-align: right;\">\n",
       "      <th></th>\n",
       "      <th>artist</th>\n",
       "      <th>track_name</th>\n",
       "      <th>danceability</th>\n",
       "    </tr>\n",
       "  </thead>\n",
       "  <tbody>\n",
       "    <tr>\n",
       "      <th>1</th>\n",
       "      <td>Tones And I</td>\n",
       "      <td>Dance Monkey</td>\n",
       "      <td>0.825</td>\n",
       "    </tr>\n",
       "    <tr>\n",
       "      <th>2</th>\n",
       "      <td>Roddy Ricch</td>\n",
       "      <td>The Box</td>\n",
       "      <td>0.896</td>\n",
       "    </tr>\n",
       "    <tr>\n",
       "      <th>3</th>\n",
       "      <td>SAINt JHN</td>\n",
       "      <td>Roses - Imanbek Remix</td>\n",
       "      <td>0.785</td>\n",
       "    </tr>\n",
       "    <tr>\n",
       "      <th>4</th>\n",
       "      <td>Dua Lipa</td>\n",
       "      <td>Don't Start Now</td>\n",
       "      <td>0.793</td>\n",
       "    </tr>\n",
       "    <tr>\n",
       "      <th>5</th>\n",
       "      <td>DaBaby</td>\n",
       "      <td>ROCKSTAR (feat. Roddy Ricch)</td>\n",
       "      <td>0.746</td>\n",
       "    </tr>\n",
       "    <tr>\n",
       "      <th>7</th>\n",
       "      <td>Powfu</td>\n",
       "      <td>death bed (coffee for your head)</td>\n",
       "      <td>0.726</td>\n",
       "    </tr>\n",
       "    <tr>\n",
       "      <th>8</th>\n",
       "      <td>Trevor Daniel</td>\n",
       "      <td>Falling</td>\n",
       "      <td>0.784</td>\n",
       "    </tr>\n",
       "    <tr>\n",
       "      <th>10</th>\n",
       "      <td>KAROL G</td>\n",
       "      <td>Tusa</td>\n",
       "      <td>0.803</td>\n",
       "    </tr>\n",
       "    <tr>\n",
       "      <th>13</th>\n",
       "      <td>Lil Mosey</td>\n",
       "      <td>Blueberry Faygo</td>\n",
       "      <td>0.774</td>\n",
       "    </tr>\n",
       "    <tr>\n",
       "      <th>14</th>\n",
       "      <td>Justin Bieber</td>\n",
       "      <td>Intentions (feat. Quavo)</td>\n",
       "      <td>0.806</td>\n",
       "    </tr>\n",
       "    <tr>\n",
       "      <th>15</th>\n",
       "      <td>Drake</td>\n",
       "      <td>Toosie Slide</td>\n",
       "      <td>0.830</td>\n",
       "    </tr>\n",
       "    <tr>\n",
       "      <th>17</th>\n",
       "      <td>Doja Cat</td>\n",
       "      <td>Say So</td>\n",
       "      <td>0.787</td>\n",
       "    </tr>\n",
       "    <tr>\n",
       "      <th>18</th>\n",
       "      <td>Maroon 5</td>\n",
       "      <td>Memories</td>\n",
       "      <td>0.764</td>\n",
       "    </tr>\n",
       "    <tr>\n",
       "      <th>19</th>\n",
       "      <td>Future</td>\n",
       "      <td>Life Is Good (feat. Drake)</td>\n",
       "      <td>0.795</td>\n",
       "    </tr>\n",
       "    <tr>\n",
       "      <th>20</th>\n",
       "      <td>Jawsh 685</td>\n",
       "      <td>Savage Love (Laxed - Siren Beat)</td>\n",
       "      <td>0.767</td>\n",
       "    </tr>\n",
       "    <tr>\n",
       "      <th>22</th>\n",
       "      <td>Topic</td>\n",
       "      <td>Breaking Me</td>\n",
       "      <td>0.789</td>\n",
       "    </tr>\n",
       "    <tr>\n",
       "      <th>24</th>\n",
       "      <td>Billie Eilish</td>\n",
       "      <td>everything i wanted</td>\n",
       "      <td>0.704</td>\n",
       "    </tr>\n",
       "    <tr>\n",
       "      <th>25</th>\n",
       "      <td>Shawn Mendes</td>\n",
       "      <td>Señorita</td>\n",
       "      <td>0.759</td>\n",
       "    </tr>\n",
       "    <tr>\n",
       "      <th>26</th>\n",
       "      <td>Billie Eilish</td>\n",
       "      <td>bad guy</td>\n",
       "      <td>0.701</td>\n",
       "    </tr>\n",
       "    <tr>\n",
       "      <th>27</th>\n",
       "      <td>Cardi B</td>\n",
       "      <td>WAP (feat. Megan Thee Stallion)</td>\n",
       "      <td>0.935</td>\n",
       "    </tr>\n",
       "    <tr>\n",
       "      <th>28</th>\n",
       "      <td>Surfaces</td>\n",
       "      <td>Sunday Best</td>\n",
       "      <td>0.878</td>\n",
       "    </tr>\n",
       "    <tr>\n",
       "      <th>29</th>\n",
       "      <td>Eminem</td>\n",
       "      <td>Godzilla (feat. Juice WRLD)</td>\n",
       "      <td>0.808</td>\n",
       "    </tr>\n",
       "    <tr>\n",
       "      <th>31</th>\n",
       "      <td>Dua Lipa</td>\n",
       "      <td>Break My Heart</td>\n",
       "      <td>0.730</td>\n",
       "    </tr>\n",
       "    <tr>\n",
       "      <th>32</th>\n",
       "      <td>BTS</td>\n",
       "      <td>Dynamite</td>\n",
       "      <td>0.746</td>\n",
       "    </tr>\n",
       "    <tr>\n",
       "      <th>33</th>\n",
       "      <td>BENEE</td>\n",
       "      <td>Supalonely (feat. Gus Dapperton)</td>\n",
       "      <td>0.862</td>\n",
       "    </tr>\n",
       "    <tr>\n",
       "      <th>37</th>\n",
       "      <td>Post Malone</td>\n",
       "      <td>Sunflower - Spider-Man: Into the Spider-Verse</td>\n",
       "      <td>0.755</td>\n",
       "    </tr>\n",
       "    <tr>\n",
       "      <th>38</th>\n",
       "      <td>Maluma</td>\n",
       "      <td>Hawái</td>\n",
       "      <td>0.783</td>\n",
       "    </tr>\n",
       "    <tr>\n",
       "      <th>39</th>\n",
       "      <td>Regard</td>\n",
       "      <td>Ride It</td>\n",
       "      <td>0.880</td>\n",
       "    </tr>\n",
       "    <tr>\n",
       "      <th>40</th>\n",
       "      <td>Travis Scott</td>\n",
       "      <td>goosebumps</td>\n",
       "      <td>0.841</td>\n",
       "    </tr>\n",
       "    <tr>\n",
       "      <th>41</th>\n",
       "      <td>Black Eyed Peas</td>\n",
       "      <td>RITMO (Bad Boys For Life)</td>\n",
       "      <td>0.723</td>\n",
       "    </tr>\n",
       "    <tr>\n",
       "      <th>42</th>\n",
       "      <td>THE SCOTTS</td>\n",
       "      <td>THE SCOTTS</td>\n",
       "      <td>0.716</td>\n",
       "    </tr>\n",
       "    <tr>\n",
       "      <th>49</th>\n",
       "      <td>Travis Scott</td>\n",
       "      <td>SICKO MODE</td>\n",
       "      <td>0.834</td>\n",
       "    </tr>\n",
       "  </tbody>\n",
       "</table>\n",
       "</div>"
      ]
     },
     "execution_count": 824,
     "metadata": {},
     "output_type": "execute_result"
    }
   ],
   "execution_count": 824
  },
  {
   "metadata": {},
   "cell_type": "markdown",
   "source": "## Which tracks have a danceability score below 0.4?\n",
   "id": "f2152e583c2b978"
  },
  {
   "metadata": {
    "ExecuteTime": {
     "end_time": "2025-08-12T13:21:34.315967Z",
     "start_time": "2025-08-12T13:21:34.310598Z"
    }
   },
   "cell_type": "code",
   "source": [
    "print(f\"There are {len(data[data['danceability'] < 0.4])} tracks with danceability lower than 0.4\")\n",
    "data[['artist','track_name','danceability']][data['danceability'] < 0.4]\n"
   ],
   "id": "5dd1b491a1841443",
   "outputs": [
    {
     "name": "stdout",
     "output_type": "stream",
     "text": [
      "There are 1 tracks with danceability lower than 0.4\n"
     ]
    },
    {
     "data": {
      "text/plain": [
       "           artist            track_name  danceability\n",
       "44  Billie Eilish  lovely (with Khalid)         0.351"
      ],
      "text/html": [
       "<div>\n",
       "<style scoped>\n",
       "    .dataframe tbody tr th:only-of-type {\n",
       "        vertical-align: middle;\n",
       "    }\n",
       "\n",
       "    .dataframe tbody tr th {\n",
       "        vertical-align: top;\n",
       "    }\n",
       "\n",
       "    .dataframe thead th {\n",
       "        text-align: right;\n",
       "    }\n",
       "</style>\n",
       "<table border=\"1\" class=\"dataframe\">\n",
       "  <thead>\n",
       "    <tr style=\"text-align: right;\">\n",
       "      <th></th>\n",
       "      <th>artist</th>\n",
       "      <th>track_name</th>\n",
       "      <th>danceability</th>\n",
       "    </tr>\n",
       "  </thead>\n",
       "  <tbody>\n",
       "    <tr>\n",
       "      <th>44</th>\n",
       "      <td>Billie Eilish</td>\n",
       "      <td>lovely (with Khalid)</td>\n",
       "      <td>0.351</td>\n",
       "    </tr>\n",
       "  </tbody>\n",
       "</table>\n",
       "</div>"
      ]
     },
     "execution_count": 825,
     "metadata": {},
     "output_type": "execute_result"
    }
   ],
   "execution_count": 825
  },
  {
   "metadata": {},
   "cell_type": "markdown",
   "source": "## Which tracks have their loudness above -5?\n",
   "id": "e2b7d7aa13a7ca4f"
  },
  {
   "metadata": {
    "ExecuteTime": {
     "end_time": "2025-08-12T13:21:34.332222Z",
     "start_time": "2025-08-12T13:21:34.324937Z"
    }
   },
   "cell_type": "code",
   "source": [
    "print(f\"There are {len(data[data['loudness'] > -5])} tracks with loudness greater than -5\")\n",
    "data[['artist','track_name','loudness']][data['loudness'] > -5]\n"
   ],
   "id": "11b0ff8fd17e2220",
   "outputs": [
    {
     "name": "stdout",
     "output_type": "stream",
     "text": [
      "There are 19 tracks with loudness greater than -5\n"
     ]
    },
    {
     "data": {
      "text/plain": [
       "           artist                                     track_name  loudness\n",
       "4        Dua Lipa                                Don't Start Now    -4.521\n",
       "6    Harry Styles                               Watermelon Sugar    -4.209\n",
       "10        KAROL G                                           Tusa    -3.280\n",
       "12    Post Malone                                        Circles    -3.497\n",
       "16  Lewis Capaldi                                  Before You Go    -4.858\n",
       "17       Doja Cat                                         Say So    -4.577\n",
       "21   Harry Styles                                      Adore You    -3.675\n",
       "23       24kGoldn                         Mood (feat. iann dior)    -3.558\n",
       "31       Dua Lipa                                 Break My Heart    -3.434\n",
       "32            BTS                                       Dynamite    -4.410\n",
       "33          BENEE               Supalonely (feat. Gus Dapperton)    -4.746\n",
       "35      Lady Gaga                Rain On Me (with Ariana Grande)    -3.764\n",
       "37    Post Malone  Sunflower - Spider-Man: Into the Spider-Verse    -4.368\n",
       "38         Maluma                                          Hawái    -3.454\n",
       "39         Regard                                        Ride It    -4.258\n",
       "40   Travis Scott                                     goosebumps    -3.370\n",
       "43      Bad Bunny                                        Safaera    -4.074\n",
       "48       Dua Lipa                                       Physical    -3.756\n",
       "49   Travis Scott                                     SICKO MODE    -3.714"
      ],
      "text/html": [
       "<div>\n",
       "<style scoped>\n",
       "    .dataframe tbody tr th:only-of-type {\n",
       "        vertical-align: middle;\n",
       "    }\n",
       "\n",
       "    .dataframe tbody tr th {\n",
       "        vertical-align: top;\n",
       "    }\n",
       "\n",
       "    .dataframe thead th {\n",
       "        text-align: right;\n",
       "    }\n",
       "</style>\n",
       "<table border=\"1\" class=\"dataframe\">\n",
       "  <thead>\n",
       "    <tr style=\"text-align: right;\">\n",
       "      <th></th>\n",
       "      <th>artist</th>\n",
       "      <th>track_name</th>\n",
       "      <th>loudness</th>\n",
       "    </tr>\n",
       "  </thead>\n",
       "  <tbody>\n",
       "    <tr>\n",
       "      <th>4</th>\n",
       "      <td>Dua Lipa</td>\n",
       "      <td>Don't Start Now</td>\n",
       "      <td>-4.521</td>\n",
       "    </tr>\n",
       "    <tr>\n",
       "      <th>6</th>\n",
       "      <td>Harry Styles</td>\n",
       "      <td>Watermelon Sugar</td>\n",
       "      <td>-4.209</td>\n",
       "    </tr>\n",
       "    <tr>\n",
       "      <th>10</th>\n",
       "      <td>KAROL G</td>\n",
       "      <td>Tusa</td>\n",
       "      <td>-3.280</td>\n",
       "    </tr>\n",
       "    <tr>\n",
       "      <th>12</th>\n",
       "      <td>Post Malone</td>\n",
       "      <td>Circles</td>\n",
       "      <td>-3.497</td>\n",
       "    </tr>\n",
       "    <tr>\n",
       "      <th>16</th>\n",
       "      <td>Lewis Capaldi</td>\n",
       "      <td>Before You Go</td>\n",
       "      <td>-4.858</td>\n",
       "    </tr>\n",
       "    <tr>\n",
       "      <th>17</th>\n",
       "      <td>Doja Cat</td>\n",
       "      <td>Say So</td>\n",
       "      <td>-4.577</td>\n",
       "    </tr>\n",
       "    <tr>\n",
       "      <th>21</th>\n",
       "      <td>Harry Styles</td>\n",
       "      <td>Adore You</td>\n",
       "      <td>-3.675</td>\n",
       "    </tr>\n",
       "    <tr>\n",
       "      <th>23</th>\n",
       "      <td>24kGoldn</td>\n",
       "      <td>Mood (feat. iann dior)</td>\n",
       "      <td>-3.558</td>\n",
       "    </tr>\n",
       "    <tr>\n",
       "      <th>31</th>\n",
       "      <td>Dua Lipa</td>\n",
       "      <td>Break My Heart</td>\n",
       "      <td>-3.434</td>\n",
       "    </tr>\n",
       "    <tr>\n",
       "      <th>32</th>\n",
       "      <td>BTS</td>\n",
       "      <td>Dynamite</td>\n",
       "      <td>-4.410</td>\n",
       "    </tr>\n",
       "    <tr>\n",
       "      <th>33</th>\n",
       "      <td>BENEE</td>\n",
       "      <td>Supalonely (feat. Gus Dapperton)</td>\n",
       "      <td>-4.746</td>\n",
       "    </tr>\n",
       "    <tr>\n",
       "      <th>35</th>\n",
       "      <td>Lady Gaga</td>\n",
       "      <td>Rain On Me (with Ariana Grande)</td>\n",
       "      <td>-3.764</td>\n",
       "    </tr>\n",
       "    <tr>\n",
       "      <th>37</th>\n",
       "      <td>Post Malone</td>\n",
       "      <td>Sunflower - Spider-Man: Into the Spider-Verse</td>\n",
       "      <td>-4.368</td>\n",
       "    </tr>\n",
       "    <tr>\n",
       "      <th>38</th>\n",
       "      <td>Maluma</td>\n",
       "      <td>Hawái</td>\n",
       "      <td>-3.454</td>\n",
       "    </tr>\n",
       "    <tr>\n",
       "      <th>39</th>\n",
       "      <td>Regard</td>\n",
       "      <td>Ride It</td>\n",
       "      <td>-4.258</td>\n",
       "    </tr>\n",
       "    <tr>\n",
       "      <th>40</th>\n",
       "      <td>Travis Scott</td>\n",
       "      <td>goosebumps</td>\n",
       "      <td>-3.370</td>\n",
       "    </tr>\n",
       "    <tr>\n",
       "      <th>43</th>\n",
       "      <td>Bad Bunny</td>\n",
       "      <td>Safaera</td>\n",
       "      <td>-4.074</td>\n",
       "    </tr>\n",
       "    <tr>\n",
       "      <th>48</th>\n",
       "      <td>Dua Lipa</td>\n",
       "      <td>Physical</td>\n",
       "      <td>-3.756</td>\n",
       "    </tr>\n",
       "    <tr>\n",
       "      <th>49</th>\n",
       "      <td>Travis Scott</td>\n",
       "      <td>SICKO MODE</td>\n",
       "      <td>-3.714</td>\n",
       "    </tr>\n",
       "  </tbody>\n",
       "</table>\n",
       "</div>"
      ]
     },
     "execution_count": 826,
     "metadata": {},
     "output_type": "execute_result"
    }
   ],
   "execution_count": 826
  },
  {
   "metadata": {},
   "cell_type": "markdown",
   "source": "## Which tracks have their loudness below -8?\n",
   "id": "3b0be123d611ff3e"
  },
  {
   "metadata": {
    "ExecuteTime": {
     "end_time": "2025-08-12T13:21:34.354257Z",
     "start_time": "2025-08-12T13:21:34.349271Z"
    }
   },
   "cell_type": "code",
   "source": [
    "print(f\"There are {len(data[data['loudness'] < -8])} tracks with loudness below than -8\")\n",
    "data[['artist','track_name','loudness']][data['loudness'] < -8]"
   ],
   "id": "19ece594f2d08f95",
   "outputs": [
    {
     "name": "stdout",
     "output_type": "stream",
     "text": [
      "There are 9 tracks with loudness below than -8\n"
     ]
    },
    {
     "data": {
      "text/plain": [
       "           artist                                      track_name  loudness\n",
       "7           Powfu                death bed (coffee for your head)    -8.765\n",
       "8   Trevor Daniel                                         Falling    -8.756\n",
       "15          Drake                                    Toosie Slide    -8.820\n",
       "20      Jawsh 685                Savage Love (Laxed - Siren Beat)    -8.520\n",
       "24  Billie Eilish                             everything i wanted   -14.454\n",
       "26  Billie Eilish                                         bad guy   -10.965\n",
       "36   Travis Scott                             HIGHEST IN THE ROOM    -8.764\n",
       "44  Billie Eilish                            lovely (with Khalid)   -10.109\n",
       "47        JP Saxe  If the World Was Ending - feat. Julia Michaels   -10.086"
      ],
      "text/html": [
       "<div>\n",
       "<style scoped>\n",
       "    .dataframe tbody tr th:only-of-type {\n",
       "        vertical-align: middle;\n",
       "    }\n",
       "\n",
       "    .dataframe tbody tr th {\n",
       "        vertical-align: top;\n",
       "    }\n",
       "\n",
       "    .dataframe thead th {\n",
       "        text-align: right;\n",
       "    }\n",
       "</style>\n",
       "<table border=\"1\" class=\"dataframe\">\n",
       "  <thead>\n",
       "    <tr style=\"text-align: right;\">\n",
       "      <th></th>\n",
       "      <th>artist</th>\n",
       "      <th>track_name</th>\n",
       "      <th>loudness</th>\n",
       "    </tr>\n",
       "  </thead>\n",
       "  <tbody>\n",
       "    <tr>\n",
       "      <th>7</th>\n",
       "      <td>Powfu</td>\n",
       "      <td>death bed (coffee for your head)</td>\n",
       "      <td>-8.765</td>\n",
       "    </tr>\n",
       "    <tr>\n",
       "      <th>8</th>\n",
       "      <td>Trevor Daniel</td>\n",
       "      <td>Falling</td>\n",
       "      <td>-8.756</td>\n",
       "    </tr>\n",
       "    <tr>\n",
       "      <th>15</th>\n",
       "      <td>Drake</td>\n",
       "      <td>Toosie Slide</td>\n",
       "      <td>-8.820</td>\n",
       "    </tr>\n",
       "    <tr>\n",
       "      <th>20</th>\n",
       "      <td>Jawsh 685</td>\n",
       "      <td>Savage Love (Laxed - Siren Beat)</td>\n",
       "      <td>-8.520</td>\n",
       "    </tr>\n",
       "    <tr>\n",
       "      <th>24</th>\n",
       "      <td>Billie Eilish</td>\n",
       "      <td>everything i wanted</td>\n",
       "      <td>-14.454</td>\n",
       "    </tr>\n",
       "    <tr>\n",
       "      <th>26</th>\n",
       "      <td>Billie Eilish</td>\n",
       "      <td>bad guy</td>\n",
       "      <td>-10.965</td>\n",
       "    </tr>\n",
       "    <tr>\n",
       "      <th>36</th>\n",
       "      <td>Travis Scott</td>\n",
       "      <td>HIGHEST IN THE ROOM</td>\n",
       "      <td>-8.764</td>\n",
       "    </tr>\n",
       "    <tr>\n",
       "      <th>44</th>\n",
       "      <td>Billie Eilish</td>\n",
       "      <td>lovely (with Khalid)</td>\n",
       "      <td>-10.109</td>\n",
       "    </tr>\n",
       "    <tr>\n",
       "      <th>47</th>\n",
       "      <td>JP Saxe</td>\n",
       "      <td>If the World Was Ending - feat. Julia Michaels</td>\n",
       "      <td>-10.086</td>\n",
       "    </tr>\n",
       "  </tbody>\n",
       "</table>\n",
       "</div>"
      ]
     },
     "execution_count": 827,
     "metadata": {},
     "output_type": "execute_result"
    }
   ],
   "execution_count": 827
  },
  {
   "metadata": {},
   "cell_type": "markdown",
   "source": "## Which track is the longest?\n",
   "id": "707300951258552a"
  },
  {
   "metadata": {
    "ExecuteTime": {
     "end_time": "2025-08-12T13:21:34.371374Z",
     "start_time": "2025-08-12T13:21:34.366202Z"
    }
   },
   "cell_type": "code",
   "source": "data[['artist','track_name','album','duration']][data['duration'].max() == data['duration']]",
   "id": "16cd9e990bb846e5",
   "outputs": [
    {
     "data": {
      "text/plain": [
       "          artist  track_name       album duration\n",
       "49  Travis Scott  SICKO MODE  ASTROWORLD    05:12"
      ],
      "text/html": [
       "<div>\n",
       "<style scoped>\n",
       "    .dataframe tbody tr th:only-of-type {\n",
       "        vertical-align: middle;\n",
       "    }\n",
       "\n",
       "    .dataframe tbody tr th {\n",
       "        vertical-align: top;\n",
       "    }\n",
       "\n",
       "    .dataframe thead th {\n",
       "        text-align: right;\n",
       "    }\n",
       "</style>\n",
       "<table border=\"1\" class=\"dataframe\">\n",
       "  <thead>\n",
       "    <tr style=\"text-align: right;\">\n",
       "      <th></th>\n",
       "      <th>artist</th>\n",
       "      <th>track_name</th>\n",
       "      <th>album</th>\n",
       "      <th>duration</th>\n",
       "    </tr>\n",
       "  </thead>\n",
       "  <tbody>\n",
       "    <tr>\n",
       "      <th>49</th>\n",
       "      <td>Travis Scott</td>\n",
       "      <td>SICKO MODE</td>\n",
       "      <td>ASTROWORLD</td>\n",
       "      <td>05:12</td>\n",
       "    </tr>\n",
       "  </tbody>\n",
       "</table>\n",
       "</div>"
      ]
     },
     "execution_count": 828,
     "metadata": {},
     "output_type": "execute_result"
    }
   ],
   "execution_count": 828
  },
  {
   "metadata": {},
   "cell_type": "markdown",
   "source": "## Which track is the shortest?\n",
   "id": "9004fb3faf5d6cdd"
  },
  {
   "metadata": {
    "ExecuteTime": {
     "end_time": "2025-08-12T13:21:34.384022Z",
     "start_time": "2025-08-12T13:21:34.378661Z"
    }
   },
   "cell_type": "code",
   "source": "data[['artist','track_name','album','duration']][data['duration'].min() == data['duration']]",
   "id": "73e2c240474cf4e5",
   "outputs": [
    {
     "data": {
      "text/plain": [
       "      artist              track_name                   album duration\n",
       "23  24kGoldn  Mood (feat. iann dior)  Mood (feat. iann dior)    02:20"
      ],
      "text/html": [
       "<div>\n",
       "<style scoped>\n",
       "    .dataframe tbody tr th:only-of-type {\n",
       "        vertical-align: middle;\n",
       "    }\n",
       "\n",
       "    .dataframe tbody tr th {\n",
       "        vertical-align: top;\n",
       "    }\n",
       "\n",
       "    .dataframe thead th {\n",
       "        text-align: right;\n",
       "    }\n",
       "</style>\n",
       "<table border=\"1\" class=\"dataframe\">\n",
       "  <thead>\n",
       "    <tr style=\"text-align: right;\">\n",
       "      <th></th>\n",
       "      <th>artist</th>\n",
       "      <th>track_name</th>\n",
       "      <th>album</th>\n",
       "      <th>duration</th>\n",
       "    </tr>\n",
       "  </thead>\n",
       "  <tbody>\n",
       "    <tr>\n",
       "      <th>23</th>\n",
       "      <td>24kGoldn</td>\n",
       "      <td>Mood (feat. iann dior)</td>\n",
       "      <td>Mood (feat. iann dior)</td>\n",
       "      <td>02:20</td>\n",
       "    </tr>\n",
       "  </tbody>\n",
       "</table>\n",
       "</div>"
      ]
     },
     "execution_count": 829,
     "metadata": {},
     "output_type": "execute_result"
    }
   ],
   "execution_count": 829
  },
  {
   "metadata": {},
   "cell_type": "markdown",
   "source": "## Which genre is the most popular?\n",
   "id": "772661bb0ad5f957"
  },
  {
   "metadata": {
    "ExecuteTime": {
     "end_time": "2025-08-12T13:21:34.393851Z",
     "start_time": "2025-08-12T13:21:34.389317Z"
    }
   },
   "cell_type": "code",
   "source": [
    "print(\"There are variations of pop and hip hop but it's safe to say Pop is the most popular genre\")\n",
    "data['genre'].value_counts(ascending=False)\n",
    "\n"
   ],
   "id": "5a27d6f06dc91ed3",
   "outputs": [
    {
     "name": "stdout",
     "output_type": "stream",
     "text": [
      "There are variations of pop and hip hop but it's safe to say Pop is the most popular genre\n"
     ]
    },
    {
     "data": {
      "text/plain": [
       "genre\n",
       "Pop                                   14\n",
       "Hip-Hop/Rap                           13\n",
       "Dance/Electronic                       5\n",
       "Alternative/Indie                      4\n",
       "R&B/Soul                               2\n",
       "Electro-pop                            2\n",
       "Nu-disco                               1\n",
       "R&B/Hip-Hop alternative                1\n",
       "Pop/Soft Rock                          1\n",
       "Pop rap                                1\n",
       "Hip-Hop/Trap                           1\n",
       "Dance-pop/Disco                        1\n",
       "Disco-pop                              1\n",
       "Dreampop/Hip-Hop/R&B                   1\n",
       "Alternative/reggaeton/experimental     1\n",
       "Chamber pop                            1\n",
       "Name: count, dtype: int64"
      ]
     },
     "execution_count": 830,
     "metadata": {},
     "output_type": "execute_result"
    }
   ],
   "execution_count": 830
  },
  {
   "metadata": {},
   "cell_type": "markdown",
   "source": "## How many genres in total are represented in the top 50?\n",
   "id": "6f07ecf3c9205ac4"
  },
  {
   "metadata": {
    "ExecuteTime": {
     "end_time": "2025-08-12T13:21:34.412977Z",
     "start_time": "2025-08-12T13:21:34.409204Z"
    }
   },
   "cell_type": "code",
   "source": [
    "print(f\"There are {len(data['genre'].value_counts())} unique genres in the top 50\")\n",
    "\n",
    "data['genre'].value_counts(ascending=False)"
   ],
   "id": "70061fb52c529b0e",
   "outputs": [
    {
     "name": "stdout",
     "output_type": "stream",
     "text": [
      "There are 16 unique genres in the top 50\n"
     ]
    },
    {
     "data": {
      "text/plain": [
       "genre\n",
       "Pop                                   14\n",
       "Hip-Hop/Rap                           13\n",
       "Dance/Electronic                       5\n",
       "Alternative/Indie                      4\n",
       "R&B/Soul                               2\n",
       "Electro-pop                            2\n",
       "Nu-disco                               1\n",
       "R&B/Hip-Hop alternative                1\n",
       "Pop/Soft Rock                          1\n",
       "Pop rap                                1\n",
       "Hip-Hop/Trap                           1\n",
       "Dance-pop/Disco                        1\n",
       "Disco-pop                              1\n",
       "Dreampop/Hip-Hop/R&B                   1\n",
       "Alternative/reggaeton/experimental     1\n",
       "Chamber pop                            1\n",
       "Name: count, dtype: int64"
      ]
     },
     "execution_count": 831,
     "metadata": {},
     "output_type": "execute_result"
    }
   ],
   "execution_count": 831
  },
  {
   "metadata": {},
   "cell_type": "markdown",
   "source": "## Which features are strongly positively/negatively correlated?\n",
   "id": "ccbf8a4bab555e57"
  },
  {
   "metadata": {
    "ExecuteTime": {
     "end_time": "2025-08-12T13:21:34.422832Z",
     "start_time": "2025-08-12T13:21:34.420731Z"
    }
   },
   "cell_type": "code",
   "source": "features = ['energy','danceability','key','loudness','acousticness','speechiness','instrumentalness','liveness','valence','tempo','rank','duration_s']",
   "id": "5cb9cb85d1bd1365",
   "outputs": [],
   "execution_count": 832
  },
  {
   "metadata": {
    "ExecuteTime": {
     "end_time": "2025-08-12T13:21:34.578825Z",
     "start_time": "2025-08-12T13:21:34.430905Z"
    }
   },
   "cell_type": "code",
   "source": [
    "import matplotlib.pyplot as plt\n",
    "import seaborn as sb\n",
    "\n",
    "plt.figure(figsize=(12, 8))\n",
    "corr = data[features].corr()\n",
    "sb.heatmap(corr, cmap=\"Blues\", annot=True)\n",
    "\n",
    "print(\"There only features that are strongly positively correlated are 'energy' and 'loudness' at 0.79 \")\n",
    "\n",
    "plt.show()"
   ],
   "id": "adebd059781efbeb",
   "outputs": [
    {
     "name": "stdout",
     "output_type": "stream",
     "text": [
      "There only features that are strongly positively correlated are 'energy' and 'loudness' at 0.79 \n"
     ]
    },
    {
     "data": {
      "text/plain": [
       "<Figure size 1200x800 with 2 Axes>"
      ],
      "image/png": "[encoded data removed]"
     },
     "metadata": {},
     "output_type": "display_data"
    }
   ],
   "execution_count": 833
  },
  {
   "metadata": {
    "ExecuteTime": {
     "end_time": "2025-08-12T13:21:34.590406Z",
     "start_time": "2025-08-12T13:21:34.583121Z"
    }
   },
   "cell_type": "code",
   "source": "corr",
   "id": "c0dedb549d879350",
   "outputs": [
    {
     "data": {
      "text/plain": [
       "                    energy  danceability       key  loudness  acousticness  \\\n",
       "energy            1.000000      0.152552  0.062428  0.791640     -0.682479   \n",
       "danceability      0.152552      1.000000  0.285036  0.167147     -0.359135   \n",
       "key               0.062428      0.285036  1.000000 -0.009178     -0.113394   \n",
       "loudness          0.791640      0.167147 -0.009178  1.000000     -0.498695   \n",
       "acousticness     -0.682479     -0.359135 -0.113394 -0.498695      1.000000   \n",
       "speechiness       0.074267      0.226148 -0.094965 -0.021693     -0.135392   \n",
       "instrumentalness -0.385515     -0.017706  0.020802 -0.553735      0.352184   \n",
       "liveness          0.069487     -0.006648  0.278672 -0.069939     -0.128384   \n",
       "valence           0.393453      0.479953  0.120007  0.406772     -0.243192   \n",
       "tempo             0.075191      0.168956  0.080475  0.102097     -0.241119   \n",
       "rank              0.030381     -0.176321 -0.052844  0.034935     -0.036557   \n",
       "duration_s        0.081971     -0.033763 -0.003345  0.064130     -0.010988   \n",
       "\n",
       "                  speechiness  instrumentalness  liveness   valence     tempo  \\\n",
       "energy               0.074267         -0.385515  0.069487  0.393453  0.075191   \n",
       "danceability         0.226148         -0.017706 -0.006648  0.479953  0.168956   \n",
       "key                 -0.094965          0.020802  0.278672  0.120007  0.080475   \n",
       "loudness            -0.021693         -0.553735 -0.069939  0.406772  0.102097   \n",
       "acousticness        -0.135392          0.352184 -0.128384 -0.243192 -0.241119   \n",
       "speechiness          1.000000          0.028948 -0.142957  0.053867  0.215504   \n",
       "instrumentalness     0.028948          1.000000 -0.087034 -0.203283  0.018853   \n",
       "liveness            -0.142957         -0.087034  1.000000 -0.033366  0.025457   \n",
       "valence              0.053867         -0.203283 -0.033366  1.000000  0.045089   \n",
       "tempo                0.215504          0.018853  0.025457  0.045089  1.000000   \n",
       "rank                 0.095790         -0.003126 -0.063216 -0.034159  0.081289   \n",
       "duration_s           0.366976          0.184709 -0.090188 -0.039794  0.130328   \n",
       "\n",
       "                      rank  duration_s  \n",
       "energy            0.030381    0.081971  \n",
       "danceability     -0.176321   -0.033763  \n",
       "key              -0.052844   -0.003345  \n",
       "loudness          0.034935    0.064130  \n",
       "acousticness     -0.036557   -0.010988  \n",
       "speechiness       0.095790    0.366976  \n",
       "instrumentalness -0.003126    0.184709  \n",
       "liveness         -0.063216   -0.090188  \n",
       "valence          -0.034159   -0.039794  \n",
       "tempo             0.081289    0.130328  \n",
       "rank              1.000000    0.309563  \n",
       "duration_s        0.309563    1.000000  "
      ],
      "text/html": [
       "<div>\n",
       "<style scoped>\n",
       "    .dataframe tbody tr th:only-of-type {\n",
       "        vertical-align: middle;\n",
       "    }\n",
       "\n",
       "    .dataframe tbody tr th {\n",
       "        vertical-align: top;\n",
       "    }\n",
       "\n",
       "    .dataframe thead th {\n",
       "        text-align: right;\n",
       "    }\n",
       "</style>\n",
       "<table border=\"1\" class=\"dataframe\">\n",
       "  <thead>\n",
       "    <tr style=\"text-align: right;\">\n",
       "      <th></th>\n",
       "      <th>energy</th>\n",
       "      <th>danceability</th>\n",
       "      <th>key</th>\n",
       "      <th>loudness</th>\n",
       "      <th>acousticness</th>\n",
       "      <th>speechiness</th>\n",
       "      <th>instrumentalness</th>\n",
       "      <th>liveness</th>\n",
       "      <th>valence</th>\n",
       "      <th>tempo</th>\n",
       "      <th>rank</th>\n",
       "      <th>duration_s</th>\n",
       "    </tr>\n",
       "  </thead>\n",
       "  <tbody>\n",
       "    <tr>\n",
       "      <th>energy</th>\n",
       "      <td>1.000000</td>\n",
       "      <td>0.152552</td>\n",
       "      <td>0.062428</td>\n",
       "      <td>0.791640</td>\n",
       "      <td>-0.682479</td>\n",
       "      <td>0.074267</td>\n",
       "      <td>-0.385515</td>\n",
       "      <td>0.069487</td>\n",
       "      <td>0.393453</td>\n",
       "      <td>0.075191</td>\n",
       "      <td>0.030381</td>\n",
       "      <td>0.081971</td>\n",
       "    </tr>\n",
       "    <tr>\n",
       "      <th>danceability</th>\n",
       "      <td>0.152552</td>\n",
       "      <td>1.000000</td>\n",
       "      <td>0.285036</td>\n",
       "      <td>0.167147</td>\n",
       "      <td>-0.359135</td>\n",
       "      <td>0.226148</td>\n",
       "      <td>-0.017706</td>\n",
       "      <td>-0.006648</td>\n",
       "      <td>0.479953</td>\n",
       "      <td>0.168956</td>\n",
       "      <td>-0.176321</td>\n",
       "      <td>-0.033763</td>\n",
       "    </tr>\n",
       "    <tr>\n",
       "      <th>key</th>\n",
       "      <td>0.062428</td>\n",
       "      <td>0.285036</td>\n",
       "      <td>1.000000</td>\n",
       "      <td>-0.009178</td>\n",
       "      <td>-0.113394</td>\n",
       "      <td>-0.094965</td>\n",
       "      <td>0.020802</td>\n",
       "      <td>0.278672</td>\n",
       "      <td>0.120007</td>\n",
       "      <td>0.080475</td>\n",
       "      <td>-0.052844</td>\n",
       "      <td>-0.003345</td>\n",
       "    </tr>\n",
       "    <tr>\n",
       "      <th>loudness</th>\n",
       "      <td>0.791640</td>\n",
       "      <td>0.167147</td>\n",
       "      <td>-0.009178</td>\n",
       "      <td>1.000000</td>\n",
       "      <td>-0.498695</td>\n",
       "      <td>-0.021693</td>\n",
       "      <td>-0.553735</td>\n",
       "      <td>-0.069939</td>\n",
       "      <td>0.406772</td>\n",
       "      <td>0.102097</td>\n",
       "      <td>0.034935</td>\n",
       "      <td>0.064130</td>\n",
       "    </tr>\n",
       "    <tr>\n",
       "      <th>acousticness</th>\n",
       "      <td>-0.682479</td>\n",
       "      <td>-0.359135</td>\n",
       "      <td>-0.113394</td>\n",
       "      <td>-0.498695</td>\n",
       "      <td>1.000000</td>\n",
       "      <td>-0.135392</td>\n",
       "      <td>0.352184</td>\n",
       "      <td>-0.128384</td>\n",
       "      <td>-0.243192</td>\n",
       "      <td>-0.241119</td>\n",
       "      <td>-0.036557</td>\n",
       "      <td>-0.010988</td>\n",
       "    </tr>\n",
       "    <tr>\n",
       "      <th>speechiness</th>\n",
       "      <td>0.074267</td>\n",
       "      <td>0.226148</td>\n",
       "      <td>-0.094965</td>\n",
       "      <td>-0.021693</td>\n",
       "      <td>-0.135392</td>\n",
       "      <td>1.000000</td>\n",
       "      <td>0.028948</td>\n",
       "      <td>-0.142957</td>\n",
       "      <td>0.053867</td>\n",
       "      <td>0.215504</td>\n",
       "      <td>0.095790</td>\n",
       "      <td>0.366976</td>\n",
       "    </tr>\n",
       "    <tr>\n",
       "      <th>instrumentalness</th>\n",
       "      <td>-0.385515</td>\n",
       "      <td>-0.017706</td>\n",
       "      <td>0.020802</td>\n",
       "      <td>-0.553735</td>\n",
       "      <td>0.352184</td>\n",
       "      <td>0.028948</td>\n",
       "      <td>1.000000</td>\n",
       "      <td>-0.087034</td>\n",
       "      <td>-0.203283</td>\n",
       "      <td>0.018853</td>\n",
       "      <td>-0.003126</td>\n",
       "      <td>0.184709</td>\n",
       "    </tr>\n",
       "    <tr>\n",
       "      <th>liveness</th>\n",
       "      <td>0.069487</td>\n",
       "      <td>-0.006648</td>\n",
       "      <td>0.278672</td>\n",
       "      <td>-0.069939</td>\n",
       "      <td>-0.128384</td>\n",
       "      <td>-0.142957</td>\n",
       "      <td>-0.087034</td>\n",
       "      <td>1.000000</td>\n",
       "      <td>-0.033366</td>\n",
       "      <td>0.025457</td>\n",
       "      <td>-0.063216</td>\n",
       "      <td>-0.090188</td>\n",
       "    </tr>\n",
       "    <tr>\n",
       "      <th>valence</th>\n",
       "      <td>0.393453</td>\n",
       "      <td>0.479953</td>\n",
       "      <td>0.120007</td>\n",
       "      <td>0.406772</td>\n",
       "      <td>-0.243192</td>\n",
       "      <td>0.053867</td>\n",
       "      <td>-0.203283</td>\n",
       "      <td>-0.033366</td>\n",
       "      <td>1.000000</td>\n",
       "      <td>0.045089</td>\n",
       "      <td>-0.034159</td>\n",
       "      <td>-0.039794</td>\n",
       "    </tr>\n",
       "    <tr>\n",
       "      <th>tempo</th>\n",
       "      <td>0.075191</td>\n",
       "      <td>0.168956</td>\n",
       "      <td>0.080475</td>\n",
       "      <td>0.102097</td>\n",
       "      <td>-0.241119</td>\n",
       "      <td>0.215504</td>\n",
       "      <td>0.018853</td>\n",
       "      <td>0.025457</td>\n",
       "      <td>0.045089</td>\n",
       "      <td>1.000000</td>\n",
       "      <td>0.081289</td>\n",
       "      <td>0.130328</td>\n",
       "    </tr>\n",
       "    <tr>\n",
       "      <th>rank</th>\n",
       "      <td>0.030381</td>\n",
       "      <td>-0.176321</td>\n",
       "      <td>-0.052844</td>\n",
       "      <td>0.034935</td>\n",
       "      <td>-0.036557</td>\n",
       "      <td>0.095790</td>\n",
       "      <td>-0.003126</td>\n",
       "      <td>-0.063216</td>\n",
       "      <td>-0.034159</td>\n",
       "      <td>0.081289</td>\n",
       "      <td>1.000000</td>\n",
       "      <td>0.309563</td>\n",
       "    </tr>\n",
       "    <tr>\n",
       "      <th>duration_s</th>\n",
       "      <td>0.081971</td>\n",
       "      <td>-0.033763</td>\n",
       "      <td>-0.003345</td>\n",
       "      <td>0.064130</td>\n",
       "      <td>-0.010988</td>\n",
       "      <td>0.366976</td>\n",
       "      <td>0.184709</td>\n",
       "      <td>-0.090188</td>\n",
       "      <td>-0.039794</td>\n",
       "      <td>0.130328</td>\n",
       "      <td>0.309563</td>\n",
       "      <td>1.000000</td>\n",
       "    </tr>\n",
       "  </tbody>\n",
       "</table>\n",
       "</div>"
      ]
     },
     "execution_count": 834,
     "metadata": {},
     "output_type": "execute_result"
    }
   ],
   "execution_count": 834
  },
  {
   "metadata": {},
   "cell_type": "markdown",
   "source": [
    "## Which features are not correlated?\n",
    "\n",
    "We'll define not correlated features as anything which scores between -0.1 and 0.1\n"
   ],
   "id": "8e386ee2611b5ff1"
  },
  {
   "metadata": {
    "ExecuteTime": {
     "end_time": "2025-08-12T13:21:34.601455Z",
     "start_time": "2025-08-12T13:21:34.598337Z"
    }
   },
   "cell_type": "code",
   "source": [
    "corr_reset = corr.reset_index()\n",
    "corr_long = corr_reset.melt(id_vars=\"index\", var_name=\"feature_2\", value_name=\"correlation\")\n",
    "corr_long.rename(columns={\"index\": \"feature_1\"}, inplace=True)\n",
    "\n"
   ],
   "id": "4f213754535d3bb4",
   "outputs": [],
   "execution_count": 835
  },
  {
   "metadata": {
    "ExecuteTime": {
     "end_time": "2025-08-12T13:21:34.615602Z",
     "start_time": "2025-08-12T13:21:34.605155Z"
    }
   },
   "cell_type": "code",
   "source": "corr_long[(corr_long['correlation'] >= -0.1) & (corr_long['correlation'] <= 0.1)].sort_values(by=['feature_1', 'feature_2'], ascending=False)",
   "id": "14073b31c2927089",
   "outputs": [
    {
     "data": {
      "text/plain": [
       "        feature_1         feature_2  correlation\n",
       "116       valence             tempo     0.045089\n",
       "68        valence       speechiness     0.053867\n",
       "128       valence              rank    -0.034159\n",
       "92        valence          liveness    -0.033366\n",
       "140       valence        duration_s    -0.039794\n",
       "..            ...               ...          ...\n",
       "85   danceability          liveness    -0.006648\n",
       "73   danceability  instrumentalness    -0.017706\n",
       "133  danceability        duration_s    -0.033763\n",
       "124  acousticness              rank    -0.036557\n",
       "136  acousticness        duration_s    -0.010988\n",
       "\n",
       "[70 rows x 3 columns]"
      ],
      "text/html": [
       "<div>\n",
       "<style scoped>\n",
       "    .dataframe tbody tr th:only-of-type {\n",
       "        vertical-align: middle;\n",
       "    }\n",
       "\n",
       "    .dataframe tbody tr th {\n",
       "        vertical-align: top;\n",
       "    }\n",
       "\n",
       "    .dataframe thead th {\n",
       "        text-align: right;\n",
       "    }\n",
       "</style>\n",
       "<table border=\"1\" class=\"dataframe\">\n",
       "  <thead>\n",
       "    <tr style=\"text-align: right;\">\n",
       "      <th></th>\n",
       "      <th>feature_1</th>\n",
       "      <th>feature_2</th>\n",
       "      <th>correlation</th>\n",
       "    </tr>\n",
       "  </thead>\n",
       "  <tbody>\n",
       "    <tr>\n",
       "      <th>116</th>\n",
       "      <td>valence</td>\n",
       "      <td>tempo</td>\n",
       "      <td>0.045089</td>\n",
       "    </tr>\n",
       "    <tr>\n",
       "      <th>68</th>\n",
       "      <td>valence</td>\n",
       "      <td>speechiness</td>\n",
       "      <td>0.053867</td>\n",
       "    </tr>\n",
       "    <tr>\n",
       "      <th>128</th>\n",
       "      <td>valence</td>\n",
       "      <td>rank</td>\n",
       "      <td>-0.034159</td>\n",
       "    </tr>\n",
       "    <tr>\n",
       "      <th>92</th>\n",
       "      <td>valence</td>\n",
       "      <td>liveness</td>\n",
       "      <td>-0.033366</td>\n",
       "    </tr>\n",
       "    <tr>\n",
       "      <th>140</th>\n",
       "      <td>valence</td>\n",
       "      <td>duration_s</td>\n",
       "      <td>-0.039794</td>\n",
       "    </tr>\n",
       "    <tr>\n",
       "      <th>...</th>\n",
       "      <td>...</td>\n",
       "      <td>...</td>\n",
       "      <td>...</td>\n",
       "    </tr>\n",
       "    <tr>\n",
       "      <th>85</th>\n",
       "      <td>danceability</td>\n",
       "      <td>liveness</td>\n",
       "      <td>-0.006648</td>\n",
       "    </tr>\n",
       "    <tr>\n",
       "      <th>73</th>\n",
       "      <td>danceability</td>\n",
       "      <td>instrumentalness</td>\n",
       "      <td>-0.017706</td>\n",
       "    </tr>\n",
       "    <tr>\n",
       "      <th>133</th>\n",
       "      <td>danceability</td>\n",
       "      <td>duration_s</td>\n",
       "      <td>-0.033763</td>\n",
       "    </tr>\n",
       "    <tr>\n",
       "      <th>124</th>\n",
       "      <td>acousticness</td>\n",
       "      <td>rank</td>\n",
       "      <td>-0.036557</td>\n",
       "    </tr>\n",
       "    <tr>\n",
       "      <th>136</th>\n",
       "      <td>acousticness</td>\n",
       "      <td>duration_s</td>\n",
       "      <td>-0.010988</td>\n",
       "    </tr>\n",
       "  </tbody>\n",
       "</table>\n",
       "<p>70 rows × 3 columns</p>\n",
       "</div>"
      ]
     },
     "execution_count": 836,
     "metadata": {},
     "output_type": "execute_result"
    }
   ],
   "execution_count": 836
  },
  {
   "metadata": {},
   "cell_type": "markdown",
   "source": "## How does the danceability score compare between Pop, Hip-Hop/Rap, Dance/Electronic, and Alternative/Indie genres?",
   "id": "b2c8c666353f736d"
  },
  {
   "metadata": {},
   "cell_type": "markdown",
   "source": "On Average Hip/Hop-Rap is typically more danceable",
   "id": "9ea579cb178c549b"
  },
  {
   "metadata": {
    "ExecuteTime": {
     "end_time": "2025-08-12T13:21:34.630143Z",
     "start_time": "2025-08-12T13:21:34.621971Z"
    }
   },
   "cell_type": "code",
   "source": [
    "genres = ['Pop','Hip-Hop/Rap','Dance/Electronic','Alternative/Indie']\n",
    "\n",
    "df_genre_filtered = data[data.apply(lambda row: row['genre'] in genres, axis=1)]\n",
    "\n",
    "df_genre_filtered[['genre','danceability']].groupby(['genre']).agg(['mean','min','max','std','count']).reset_index()\n"
   ],
   "id": "92386110135e4e0c",
   "outputs": [
    {
     "data": {
      "text/plain": [
       "               genre danceability                              \n",
       "                             mean    min    max       std count\n",
       "0  Alternative/Indie     0.661750  0.459  0.862  0.211107     4\n",
       "1   Dance/Electronic     0.755000  0.647  0.880  0.094744     5\n",
       "2        Hip-Hop/Rap     0.765538  0.598  0.896  0.085470    13\n",
       "3                Pop     0.677571  0.464  0.806  0.109853    14"
      ],
      "text/html": [
       "<div>\n",
       "<style scoped>\n",
       "    .dataframe tbody tr th:only-of-type {\n",
       "        vertical-align: middle;\n",
       "    }\n",
       "\n",
       "    .dataframe tbody tr th {\n",
       "        vertical-align: top;\n",
       "    }\n",
       "\n",
       "    .dataframe thead tr th {\n",
       "        text-align: left;\n",
       "    }\n",
       "</style>\n",
       "<table border=\"1\" class=\"dataframe\">\n",
       "  <thead>\n",
       "    <tr>\n",
       "      <th></th>\n",
       "      <th>genre</th>\n",
       "      <th colspan=\"5\" halign=\"left\">danceability</th>\n",
       "    </tr>\n",
       "    <tr>\n",
       "      <th></th>\n",
       "      <th></th>\n",
       "      <th>mean</th>\n",
       "      <th>min</th>\n",
       "      <th>max</th>\n",
       "      <th>std</th>\n",
       "      <th>count</th>\n",
       "    </tr>\n",
       "  </thead>\n",
       "  <tbody>\n",
       "    <tr>\n",
       "      <th>0</th>\n",
       "      <td>Alternative/Indie</td>\n",
       "      <td>0.661750</td>\n",
       "      <td>0.459</td>\n",
       "      <td>0.862</td>\n",
       "      <td>0.211107</td>\n",
       "      <td>4</td>\n",
       "    </tr>\n",
       "    <tr>\n",
       "      <th>1</th>\n",
       "      <td>Dance/Electronic</td>\n",
       "      <td>0.755000</td>\n",
       "      <td>0.647</td>\n",
       "      <td>0.880</td>\n",
       "      <td>0.094744</td>\n",
       "      <td>5</td>\n",
       "    </tr>\n",
       "    <tr>\n",
       "      <th>2</th>\n",
       "      <td>Hip-Hop/Rap</td>\n",
       "      <td>0.765538</td>\n",
       "      <td>0.598</td>\n",
       "      <td>0.896</td>\n",
       "      <td>0.085470</td>\n",
       "      <td>13</td>\n",
       "    </tr>\n",
       "    <tr>\n",
       "      <th>3</th>\n",
       "      <td>Pop</td>\n",
       "      <td>0.677571</td>\n",
       "      <td>0.464</td>\n",
       "      <td>0.806</td>\n",
       "      <td>0.109853</td>\n",
       "      <td>14</td>\n",
       "    </tr>\n",
       "  </tbody>\n",
       "</table>\n",
       "</div>"
      ]
     },
     "execution_count": 837,
     "metadata": {},
     "output_type": "execute_result"
    }
   ],
   "execution_count": 837
  },
  {
   "metadata": {},
   "cell_type": "markdown",
   "source": "## How does the loudness score compare between Pop, Hip-Hop/Rap, Dance/Electronic, and Alternative/Indie genres?\n",
   "id": "be61217d4e6d932b"
  },
  {
   "metadata": {},
   "cell_type": "markdown",
   "source": [
    "Loudness tends to vary a lot (i.e there a lot of quiete and louder songs)\n",
    "- On average Dance/Electronic music is the loudest genre. This correlates with those songs being typically more energetic\n",
    "- Pop music  has the most varied loudness as that genre has the single loudest single track as well as the least loud track. The Std deviation for loudness is twice as big as Hip-Hop/Rap\n",
    "- Alternative has the most consistent loudness albeit with not much data\n",
    "\n",
    "In short, Dance/Electronic on average has the loudest music but much louder & queiter music can be found in other categories such as Pop and Hip-Hop/Rap. There is a wide variety of music loudness."
   ],
   "id": "b7f71adfdb982a6a"
  },
  {
   "metadata": {
    "ExecuteTime": {
     "end_time": "2025-08-12T13:21:34.646894Z",
     "start_time": "2025-08-12T13:21:34.638467Z"
    }
   },
   "cell_type": "code",
   "source": "df_genre_filtered[['genre','loudness','energy']].groupby(['genre']).agg(['mean','min','max','std','count']).reset_index()",
   "id": "7f6c77ff161228eb",
   "outputs": [
    {
     "data": {
      "text/plain": [
       "               genre  loudness                                   energy  \\\n",
       "                          mean     min    max       std count      mean   \n",
       "0  Alternative/Indie -5.421000  -6.401 -4.746  0.774502     4  0.551000   \n",
       "1   Dance/Electronic -5.338000  -7.567 -3.756  1.479047     5  0.762000   \n",
       "2        Hip-Hop/Rap -6.917846  -8.820 -3.370  1.891808    13  0.582615   \n",
       "3                Pop -6.460357 -14.454 -3.280  3.014281    14  0.587286   \n",
       "\n",
       "                                 \n",
       "     min    max       std count  \n",
       "0  0.405  0.631  0.100093     4  \n",
       "1  0.720  0.844  0.051073     5  \n",
       "2  0.427  0.745  0.111874    13  \n",
       "3  0.225  0.855  0.186485    14  "
      ],
      "text/html": [
       "<div>\n",
       "<style scoped>\n",
       "    .dataframe tbody tr th:only-of-type {\n",
       "        vertical-align: middle;\n",
       "    }\n",
       "\n",
       "    .dataframe tbody tr th {\n",
       "        vertical-align: top;\n",
       "    }\n",
       "\n",
       "    .dataframe thead tr th {\n",
       "        text-align: left;\n",
       "    }\n",
       "</style>\n",
       "<table border=\"1\" class=\"dataframe\">\n",
       "  <thead>\n",
       "    <tr>\n",
       "      <th></th>\n",
       "      <th>genre</th>\n",
       "      <th colspan=\"5\" halign=\"left\">loudness</th>\n",
       "      <th colspan=\"5\" halign=\"left\">energy</th>\n",
       "    </tr>\n",
       "    <tr>\n",
       "      <th></th>\n",
       "      <th></th>\n",
       "      <th>mean</th>\n",
       "      <th>min</th>\n",
       "      <th>max</th>\n",
       "      <th>std</th>\n",
       "      <th>count</th>\n",
       "      <th>mean</th>\n",
       "      <th>min</th>\n",
       "      <th>max</th>\n",
       "      <th>std</th>\n",
       "      <th>count</th>\n",
       "    </tr>\n",
       "  </thead>\n",
       "  <tbody>\n",
       "    <tr>\n",
       "      <th>0</th>\n",
       "      <td>Alternative/Indie</td>\n",
       "      <td>-5.421000</td>\n",
       "      <td>-6.401</td>\n",
       "      <td>-4.746</td>\n",
       "      <td>0.774502</td>\n",
       "      <td>4</td>\n",
       "      <td>0.551000</td>\n",
       "      <td>0.405</td>\n",
       "      <td>0.631</td>\n",
       "      <td>0.100093</td>\n",
       "      <td>4</td>\n",
       "    </tr>\n",
       "    <tr>\n",
       "      <th>1</th>\n",
       "      <td>Dance/Electronic</td>\n",
       "      <td>-5.338000</td>\n",
       "      <td>-7.567</td>\n",
       "      <td>-3.756</td>\n",
       "      <td>1.479047</td>\n",
       "      <td>5</td>\n",
       "      <td>0.762000</td>\n",
       "      <td>0.720</td>\n",
       "      <td>0.844</td>\n",
       "      <td>0.051073</td>\n",
       "      <td>5</td>\n",
       "    </tr>\n",
       "    <tr>\n",
       "      <th>2</th>\n",
       "      <td>Hip-Hop/Rap</td>\n",
       "      <td>-6.917846</td>\n",
       "      <td>-8.820</td>\n",
       "      <td>-3.370</td>\n",
       "      <td>1.891808</td>\n",
       "      <td>13</td>\n",
       "      <td>0.582615</td>\n",
       "      <td>0.427</td>\n",
       "      <td>0.745</td>\n",
       "      <td>0.111874</td>\n",
       "      <td>13</td>\n",
       "    </tr>\n",
       "    <tr>\n",
       "      <th>3</th>\n",
       "      <td>Pop</td>\n",
       "      <td>-6.460357</td>\n",
       "      <td>-14.454</td>\n",
       "      <td>-3.280</td>\n",
       "      <td>3.014281</td>\n",
       "      <td>14</td>\n",
       "      <td>0.587286</td>\n",
       "      <td>0.225</td>\n",
       "      <td>0.855</td>\n",
       "      <td>0.186485</td>\n",
       "      <td>14</td>\n",
       "    </tr>\n",
       "  </tbody>\n",
       "</table>\n",
       "</div>"
      ]
     },
     "execution_count": 838,
     "metadata": {},
     "output_type": "execute_result"
    }
   ],
   "execution_count": 838
  },
  {
   "metadata": {},
   "cell_type": "markdown",
   "source": "## How does the acousticness score compare between Pop, Hip-Hop/Rap, Dance/Electronic, and Alternative/Indie genres?\n",
   "id": "f2dae807433269fd"
  },
  {
   "metadata": {},
   "cell_type": "markdown",
   "source": "Alternative/Indie music is consistently the genre with the highest acousticness, which could be expected as it's a guitar heavy genre. The least acoustic Alternative/Indie song would have more acoutsiness than the average Dance/Electonic, Hip-Hop/Rap songs",
   "id": "25eea5caa8cc308a"
  },
  {
   "metadata": {
    "ExecuteTime": {
     "end_time": "2025-08-12T13:21:34.656653Z",
     "start_time": "2025-08-12T13:21:34.650541Z"
    }
   },
   "cell_type": "code",
   "source": "df_genre_filtered[['genre','acousticness']].groupby(['genre']).agg(['mean','min','max','std','count']).reset_index()",
   "id": "ef6c401ac1825ad3",
   "outputs": [
    {
     "data": {
      "text/plain": [
       "               genre acousticness                                \n",
       "                             mean      min    max       std count\n",
       "0  Alternative/Indie     0.583500  0.29100  0.751  0.204086     4\n",
       "1   Dance/Electronic     0.099440  0.01370  0.223  0.095828     5\n",
       "2        Hip-Hop/Rap     0.188741  0.00513  0.731  0.186396    13\n",
       "3                Pop     0.323843  0.02100  0.902  0.318142    14"
      ],
      "text/html": [
       "<div>\n",
       "<style scoped>\n",
       "    .dataframe tbody tr th:only-of-type {\n",
       "        vertical-align: middle;\n",
       "    }\n",
       "\n",
       "    .dataframe tbody tr th {\n",
       "        vertical-align: top;\n",
       "    }\n",
       "\n",
       "    .dataframe thead tr th {\n",
       "        text-align: left;\n",
       "    }\n",
       "</style>\n",
       "<table border=\"1\" class=\"dataframe\">\n",
       "  <thead>\n",
       "    <tr>\n",
       "      <th></th>\n",
       "      <th>genre</th>\n",
       "      <th colspan=\"5\" halign=\"left\">acousticness</th>\n",
       "    </tr>\n",
       "    <tr>\n",
       "      <th></th>\n",
       "      <th></th>\n",
       "      <th>mean</th>\n",
       "      <th>min</th>\n",
       "      <th>max</th>\n",
       "      <th>std</th>\n",
       "      <th>count</th>\n",
       "    </tr>\n",
       "  </thead>\n",
       "  <tbody>\n",
       "    <tr>\n",
       "      <th>0</th>\n",
       "      <td>Alternative/Indie</td>\n",
       "      <td>0.583500</td>\n",
       "      <td>0.29100</td>\n",
       "      <td>0.751</td>\n",
       "      <td>0.204086</td>\n",
       "      <td>4</td>\n",
       "    </tr>\n",
       "    <tr>\n",
       "      <th>1</th>\n",
       "      <td>Dance/Electronic</td>\n",
       "      <td>0.099440</td>\n",
       "      <td>0.01370</td>\n",
       "      <td>0.223</td>\n",
       "      <td>0.095828</td>\n",
       "      <td>5</td>\n",
       "    </tr>\n",
       "    <tr>\n",
       "      <th>2</th>\n",
       "      <td>Hip-Hop/Rap</td>\n",
       "      <td>0.188741</td>\n",
       "      <td>0.00513</td>\n",
       "      <td>0.731</td>\n",
       "      <td>0.186396</td>\n",
       "      <td>13</td>\n",
       "    </tr>\n",
       "    <tr>\n",
       "      <th>3</th>\n",
       "      <td>Pop</td>\n",
       "      <td>0.323843</td>\n",
       "      <td>0.02100</td>\n",
       "      <td>0.902</td>\n",
       "      <td>0.318142</td>\n",
       "      <td>14</td>\n",
       "    </tr>\n",
       "  </tbody>\n",
       "</table>\n",
       "</div>"
      ]
     },
     "execution_count": 839,
     "metadata": {},
     "output_type": "execute_result"
    }
   ],
   "execution_count": 839
  },
  {
   "metadata": {},
   "cell_type": "markdown",
   "source": "# Exploratory Data Analysis",
   "id": "c5fdb1ea2942c794"
  },
  {
   "metadata": {
    "ExecuteTime": {
     "end_time": "2025-08-12T13:21:34.663982Z",
     "start_time": "2025-08-12T13:21:34.661219Z"
    }
   },
   "cell_type": "code",
   "source": [
    "columns = ['energy','danceability','key','loudness','acousticness','speechiness','instrumentalness','liveness','valence','tempo','duration_s']\n",
    "\n",
    "del_columns = ['Genre_Alternative','Genre_Dance','Genre_Dance-pop','Genre_Disco','Genre_Disco-pop','Genre_Dreampop','Genre_Electro-pop','Genre_Electronic','Genre_Hip-Hop','Genre_Hip-Hop','Genre_Indie','Genre_Nu-disco','Genre_Pop','Genre_Pop','Genre_R&B','Genre_Rap','Genre_Soft Rock','Genre_Soul','Genre_Trap','Genre_experimental','Genre_reggaeton','Genre_Chamber pop','Genre_Hip-Hop alternative','Genre_Pop rap']\n",
    "\n",
    "data = data.drop(del_columns, axis='columns')\n"
   ],
   "id": "8c38343814c0d59a",
   "outputs": [],
   "execution_count": 840
  },
  {
   "metadata": {
    "ExecuteTime": {
     "end_time": "2025-08-12T13:21:35.077473Z",
     "start_time": "2025-08-12T13:21:34.673921Z"
    }
   },
   "cell_type": "code",
   "source": [
    "import matplotlib.pyplot as plt\n",
    "\n",
    "for col in columns:\n",
    "    data[col].hist()\n",
    "    plt.title(col)\n",
    "    plt.show()"
   ],
   "id": "2b0cc3abd1387d9",
   "outputs": [
    {
     "data": {
      "text/plain": [
       "<Figure size 640x480 with 1 Axes>"
      ],
      "image/png": "[encoded data removed]"
     },
     "metadata": {},
     "output_type": "display_data"
    },
    {
     "data": {
      "text/plain": [
       "<Figure size 640x480 with 1 Axes>"
      ],
      "image/png": "[encoded data removed]"
     },
     "metadata": {},
     "output_type": "display_data"
    },
    {
     "data": {
      "text/plain": [
       "<Figure size 640x480 with 1 Axes>"
      ],
      "image/png": "[encoded data removed]"
     },
     "metadata": {},
     "output_type": "display_data"
    },
    {
     "data": {
      "text/plain": [
       "<Figure size 640x480 with 1 Axes>"
      ],
      "image/png": "[encoded data removed]"
     },
     "metadata": {},
     "output_type": "display_data"
    },
    {
     "data": {
      "text/plain": [
       "<Figure size 640x480 with 1 Axes>"
      ],
      "image/png": "[encoded data removed]"
     },
     "metadata": {},
     "output_type": "display_data"
    },
    {
     "data": {
      "text/plain": [
       "<Figure size 640x480 with 1 Axes>"
      ],
      "image/png": "[encoded data removed]"
     },
     "metadata": {},
     "output_type": "display_data"
    },
    {
     "data": {
      "text/plain": [
       "<Figure size 640x480 with 1 Axes>"
      ],
      "image/png": "[encoded data removed]"
     },
     "metadata": {},
     "output_type": "display_data"
    },
    {
     "data": {
      "text/plain": [
       "<Figure size 640x480 with 1 Axes>"
      ],
      "image/png": "[encoded data removed]"
     },
     "metadata": {},
     "output_type": "display_data"
    },
    {
     "data": {
      "text/plain": [
       "<Figure size 640x480 with 1 Axes>"
      ],
      "image/png": "[encoded data removed]"
     },
     "metadata": {},
     "output_type": "display_data"
    },
    {
     "data": {
      "text/plain": [
       "<Figure size 640x480 with 1 Axes>"
      ],
      "image/png": "[encoded data removed]"
     },
     "metadata": {},
     "output_type": "display_data"
    },
    {
     "data": {
      "text/plain": [
       "<Figure size 640x480 with 1 Axes>"
      ],
      "image/png": "[encoded data removed]"
     },
     "metadata": {},
     "output_type": "display_data"
    }
   ],
   "execution_count": 841
  },
  {
   "metadata": {
    "ExecuteTime": {
     "end_time": "2025-08-12T13:21:35.088469Z",
     "start_time": "2025-08-12T13:21:35.085642Z"
    }
   },
   "cell_type": "code",
   "source": "data['broad_genre'].value_counts()",
   "id": "f605dccc35de8550",
   "outputs": [
    {
     "data": {
      "text/plain": [
       "broad_genre\n",
       "Pop                                   20\n",
       "Hip-Hop/Rap                           15\n",
       "Dance/Electronic                       7\n",
       "Alternative/Indie                      4\n",
       "R&B/Soul                               2\n",
       "Dreampop/Hip-Hop/R&B                   1\n",
       "Alternative/reggaeton/experimental     1\n",
       "Name: count, dtype: int64"
      ]
     },
     "execution_count": 842,
     "metadata": {},
     "output_type": "execute_result"
    }
   ],
   "execution_count": 842
  },
  {
   "metadata": {
    "ExecuteTime": {
     "end_time": "2025-08-12T13:21:35.522956Z",
     "start_time": "2025-08-12T13:21:35.096317Z"
    }
   },
   "cell_type": "code",
   "source": [
    "df_genre_filtered = data[data['genre'] == 'Hip-Hop/Rap']\n",
    "\n",
    "for col in columns:\n",
    "    df_genre_filtered[col].hist()\n",
    "    plt.title(col)\n",
    "    plt.show()"
   ],
   "id": "8e2054564cec6ac5",
   "outputs": [
    {
     "data": {
      "text/plain": [
       "<Figure size 640x480 with 1 Axes>"
      ],
      "image/png": "[encoded data removed]"
     },
     "metadata": {},
     "output_type": "display_data"
    },
    {
     "data": {
      "text/plain": [
       "<Figure size 640x480 with 1 Axes>"
      ],
      "image/png": "[encoded data removed]"
     },
     "metadata": {},
     "output_type": "display_data"
    },
    {
     "data": {
      "text/plain": [
       "<Figure size 640x480 with 1 Axes>"
      ],
      "image/png": "[encoded data removed]"
     },
     "metadata": {},
     "output_type": "display_data"
    },
    {
     "data": {
      "text/plain": [
       "<Figure size 640x480 with 1 Axes>"
      ],
      "image/png": "[encoded data removed]"
     },
     "metadata": {},
     "output_type": "display_data"
    },
    {
     "data": {
      "text/plain": [
       "<Figure size 640x480 with 1 Axes>"
      ],
      "image/png": "[encoded data removed]"
     },
     "metadata": {},
     "output_type": "display_data"
    },
    {
     "data": {
      "text/plain": [
       "<Figure size 640x480 with 1 Axes>"
      ],
      "image/png": "[encoded data removed]"
     },
     "metadata": {},
     "output_type": "display_data"
    },
    {
     "data": {
      "text/plain": [
       "<Figure size 640x480 with 1 Axes>"
      ],
      "image/png": "[encoded data removed]"
     },
     "metadata": {},
     "output_type": "display_data"
    },
    {
     "data": {
      "text/plain": [
       "<Figure size 640x480 with 1 Axes>"
      ],
      "image/png": "[encoded data removed]"
     },
     "metadata": {},
     "output_type": "display_data"
    },
    {
     "data": {
      "text/plain": [
       "<Figure size 640x480 with 1 Axes>"
      ],
      "image/png": "[encoded data removed]"
     },
     "metadata": {},
     "output_type": "display_data"
    },
    {
     "data": {
      "text/plain": [
       "<Figure size 640x480 with 1 Axes>"
      ],
      "image/png": "[encoded data removed]"
     },
     "metadata": {},
     "output_type": "display_data"
    },
    {
     "data": {
      "text/plain": [
       "<Figure size 640x480 with 1 Axes>"
      ],
      "image/png": "[encoded data removed]"
     },
     "metadata": {},
     "output_type": "display_data"
    }
   ],
   "execution_count": 843
  },
  {
   "metadata": {
    "ExecuteTime": {
     "end_time": "2025-08-12T13:21:35.544347Z",
     "start_time": "2025-08-12T13:21:35.532039Z"
    }
   },
   "cell_type": "code",
   "source": "data.describe().T",
   "id": "676f9862ba3ac4f5",
   "outputs": [
    {
     "data": {
      "text/plain": [
       "                  count        mean        std        min         25%  \\\n",
       "rank               50.0   25.500000  14.577380    1.00000   13.250000   \n",
       "energy             50.0    0.609300   0.154348    0.22500    0.494000   \n",
       "danceability       50.0    0.716720   0.124975    0.35100    0.672500   \n",
       "key                50.0    5.720000   3.709007    0.00000    2.000000   \n",
       "loudness           50.0   -6.225900   2.349744  -14.45400   -7.552500   \n",
       "acousticness       50.0    0.256206   0.265250    0.00146    0.052800   \n",
       "speechiness        50.0    0.124158   0.116836    0.02900    0.048325   \n",
       "instrumentalness   50.0    0.015962   0.094312    0.00000    0.000000   \n",
       "liveness           50.0    0.196552   0.176610    0.05740    0.093950   \n",
       "valence            50.0    0.555710   0.216386    0.06050    0.434000   \n",
       "tempo              50.0  119.690460  25.414778   75.80100   99.557250   \n",
       "duration_s         50.0  199.955360  33.996122  140.52600  175.845500   \n",
       "\n",
       "                        50%        75%      max  \n",
       "rank               25.50000   37.75000   50.000  \n",
       "energy              0.59700    0.72975    0.855  \n",
       "danceability        0.74600    0.79450    0.935  \n",
       "key                 6.50000    8.75000   11.000  \n",
       "loudness           -5.99150   -4.28550   -3.280  \n",
       "acousticness        0.18850    0.29875    0.934  \n",
       "speechiness         0.07005    0.15550    0.487  \n",
       "instrumentalness    0.00000    0.00002    0.657  \n",
       "liveness            0.11100    0.27125    0.792  \n",
       "valence             0.56000    0.72625    0.925  \n",
       "tempo             116.96900  132.31700  180.067  \n",
       "duration_s        197.85350  215.06400  312.820  "
      ],
      "text/html": [
       "<div>\n",
       "<style scoped>\n",
       "    .dataframe tbody tr th:only-of-type {\n",
       "        vertical-align: middle;\n",
       "    }\n",
       "\n",
       "    .dataframe tbody tr th {\n",
       "        vertical-align: top;\n",
       "    }\n",
       "\n",
       "    .dataframe thead th {\n",
       "        text-align: right;\n",
       "    }\n",
       "</style>\n",
       "<table border=\"1\" class=\"dataframe\">\n",
       "  <thead>\n",
       "    <tr style=\"text-align: right;\">\n",
       "      <th></th>\n",
       "      <th>count</th>\n",
       "      <th>mean</th>\n",
       "      <th>std</th>\n",
       "      <th>min</th>\n",
       "      <th>25%</th>\n",
       "      <th>50%</th>\n",
       "      <th>75%</th>\n",
       "      <th>max</th>\n",
       "    </tr>\n",
       "  </thead>\n",
       "  <tbody>\n",
       "    <tr>\n",
       "      <th>rank</th>\n",
       "      <td>50.0</td>\n",
       "      <td>25.500000</td>\n",
       "      <td>14.577380</td>\n",
       "      <td>1.00000</td>\n",
       "      <td>13.250000</td>\n",
       "      <td>25.50000</td>\n",
       "      <td>37.75000</td>\n",
       "      <td>50.000</td>\n",
       "    </tr>\n",
       "    <tr>\n",
       "      <th>energy</th>\n",
       "      <td>50.0</td>\n",
       "      <td>0.609300</td>\n",
       "      <td>0.154348</td>\n",
       "      <td>0.22500</td>\n",
       "      <td>0.494000</td>\n",
       "      <td>0.59700</td>\n",
       "      <td>0.72975</td>\n",
       "      <td>0.855</td>\n",
       "    </tr>\n",
       "    <tr>\n",
       "      <th>danceability</th>\n",
       "      <td>50.0</td>\n",
       "      <td>0.716720</td>\n",
       "      <td>0.124975</td>\n",
       "      <td>0.35100</td>\n",
       "      <td>0.672500</td>\n",
       "      <td>0.74600</td>\n",
       "      <td>0.79450</td>\n",
       "      <td>0.935</td>\n",
       "    </tr>\n",
       "    <tr>\n",
       "      <th>key</th>\n",
       "      <td>50.0</td>\n",
       "      <td>5.720000</td>\n",
       "      <td>3.709007</td>\n",
       "      <td>0.00000</td>\n",
       "      <td>2.000000</td>\n",
       "      <td>6.50000</td>\n",
       "      <td>8.75000</td>\n",
       "      <td>11.000</td>\n",
       "    </tr>\n",
       "    <tr>\n",
       "      <th>loudness</th>\n",
       "      <td>50.0</td>\n",
       "      <td>-6.225900</td>\n",
       "      <td>2.349744</td>\n",
       "      <td>-14.45400</td>\n",
       "      <td>-7.552500</td>\n",
       "      <td>-5.99150</td>\n",
       "      <td>-4.28550</td>\n",
       "      <td>-3.280</td>\n",
       "    </tr>\n",
       "    <tr>\n",
       "      <th>acousticness</th>\n",
       "      <td>50.0</td>\n",
       "      <td>0.256206</td>\n",
       "      <td>0.265250</td>\n",
       "      <td>0.00146</td>\n",
       "      <td>0.052800</td>\n",
       "      <td>0.18850</td>\n",
       "      <td>0.29875</td>\n",
       "      <td>0.934</td>\n",
       "    </tr>\n",
       "    <tr>\n",
       "      <th>speechiness</th>\n",
       "      <td>50.0</td>\n",
       "      <td>0.124158</td>\n",
       "      <td>0.116836</td>\n",
       "      <td>0.02900</td>\n",
       "      <td>0.048325</td>\n",
       "      <td>0.07005</td>\n",
       "      <td>0.15550</td>\n",
       "      <td>0.487</td>\n",
       "    </tr>\n",
       "    <tr>\n",
       "      <th>instrumentalness</th>\n",
       "      <td>50.0</td>\n",
       "      <td>0.015962</td>\n",
       "      <td>0.094312</td>\n",
       "      <td>0.00000</td>\n",
       "      <td>0.000000</td>\n",
       "      <td>0.00000</td>\n",
       "      <td>0.00002</td>\n",
       "      <td>0.657</td>\n",
       "    </tr>\n",
       "    <tr>\n",
       "      <th>liveness</th>\n",
       "      <td>50.0</td>\n",
       "      <td>0.196552</td>\n",
       "      <td>0.176610</td>\n",
       "      <td>0.05740</td>\n",
       "      <td>0.093950</td>\n",
       "      <td>0.11100</td>\n",
       "      <td>0.27125</td>\n",
       "      <td>0.792</td>\n",
       "    </tr>\n",
       "    <tr>\n",
       "      <th>valence</th>\n",
       "      <td>50.0</td>\n",
       "      <td>0.555710</td>\n",
       "      <td>0.216386</td>\n",
       "      <td>0.06050</td>\n",
       "      <td>0.434000</td>\n",
       "      <td>0.56000</td>\n",
       "      <td>0.72625</td>\n",
       "      <td>0.925</td>\n",
       "    </tr>\n",
       "    <tr>\n",
       "      <th>tempo</th>\n",
       "      <td>50.0</td>\n",
       "      <td>119.690460</td>\n",
       "      <td>25.414778</td>\n",
       "      <td>75.80100</td>\n",
       "      <td>99.557250</td>\n",
       "      <td>116.96900</td>\n",
       "      <td>132.31700</td>\n",
       "      <td>180.067</td>\n",
       "    </tr>\n",
       "    <tr>\n",
       "      <th>duration_s</th>\n",
       "      <td>50.0</td>\n",
       "      <td>199.955360</td>\n",
       "      <td>33.996122</td>\n",
       "      <td>140.52600</td>\n",
       "      <td>175.845500</td>\n",
       "      <td>197.85350</td>\n",
       "      <td>215.06400</td>\n",
       "      <td>312.820</td>\n",
       "    </tr>\n",
       "  </tbody>\n",
       "</table>\n",
       "</div>"
      ]
     },
     "execution_count": 844,
     "metadata": {},
     "output_type": "execute_result"
    }
   ],
   "execution_count": 844
  },
  {
   "metadata": {
    "ExecuteTime": {
     "end_time": "2025-08-12T13:21:35.554943Z",
     "start_time": "2025-08-12T13:21:35.549089Z"
    }
   },
   "cell_type": "code",
   "source": "data.groupby('single_release_only')['rank'].describe().T",
   "id": "77aa536e8a1a7750",
   "outputs": [
    {
     "data": {
      "text/plain": [
       "single_release_only      False      True \n",
       "count                35.000000  15.000000\n",
       "mean                 25.771429  24.866667\n",
       "std                  15.302990  13.206420\n",
       "min                   1.000000   2.000000\n",
       "25%                  13.500000  15.500000\n",
       "50%                  27.000000  24.000000\n",
       "75%                  38.500000  36.000000\n",
       "max                  50.000000  45.000000"
      ],
      "text/html": [
       "<div>\n",
       "<style scoped>\n",
       "    .dataframe tbody tr th:only-of-type {\n",
       "        vertical-align: middle;\n",
       "    }\n",
       "\n",
       "    .dataframe tbody tr th {\n",
       "        vertical-align: top;\n",
       "    }\n",
       "\n",
       "    .dataframe thead th {\n",
       "        text-align: right;\n",
       "    }\n",
       "</style>\n",
       "<table border=\"1\" class=\"dataframe\">\n",
       "  <thead>\n",
       "    <tr style=\"text-align: right;\">\n",
       "      <th>single_release_only</th>\n",
       "      <th>False</th>\n",
       "      <th>True</th>\n",
       "    </tr>\n",
       "  </thead>\n",
       "  <tbody>\n",
       "    <tr>\n",
       "      <th>count</th>\n",
       "      <td>35.000000</td>\n",
       "      <td>15.000000</td>\n",
       "    </tr>\n",
       "    <tr>\n",
       "      <th>mean</th>\n",
       "      <td>25.771429</td>\n",
       "      <td>24.866667</td>\n",
       "    </tr>\n",
       "    <tr>\n",
       "      <th>std</th>\n",
       "      <td>15.302990</td>\n",
       "      <td>13.206420</td>\n",
       "    </tr>\n",
       "    <tr>\n",
       "      <th>min</th>\n",
       "      <td>1.000000</td>\n",
       "      <td>2.000000</td>\n",
       "    </tr>\n",
       "    <tr>\n",
       "      <th>25%</th>\n",
       "      <td>13.500000</td>\n",
       "      <td>15.500000</td>\n",
       "    </tr>\n",
       "    <tr>\n",
       "      <th>50%</th>\n",
       "      <td>27.000000</td>\n",
       "      <td>24.000000</td>\n",
       "    </tr>\n",
       "    <tr>\n",
       "      <th>75%</th>\n",
       "      <td>38.500000</td>\n",
       "      <td>36.000000</td>\n",
       "    </tr>\n",
       "    <tr>\n",
       "      <th>max</th>\n",
       "      <td>50.000000</td>\n",
       "      <td>45.000000</td>\n",
       "    </tr>\n",
       "  </tbody>\n",
       "</table>\n",
       "</div>"
      ]
     },
     "execution_count": 845,
     "metadata": {},
     "output_type": "execute_result"
    }
   ],
   "execution_count": 845
  },
  {
   "metadata": {
    "ExecuteTime": {
     "end_time": "2025-08-12T13:21:35.573603Z",
     "start_time": "2025-08-12T13:21:35.563557Z"
    }
   },
   "cell_type": "code",
   "source": "data.groupby('broad_genre')['rank'].describe().reset_index().sort_values(by=['count'], ascending=False)",
   "id": "79f32275b5f6a7ed",
   "outputs": [
    {
     "data": {
      "text/plain": [
       "                          broad_genre  count       mean        std   min  \\\n",
       "5                                 Pop   20.0  29.250000  12.627768   7.0   \n",
       "4                         Hip-Hop/Rap   15.0  22.533333  14.865428   3.0   \n",
       "2                    Dance/Electronic    7.0  26.857143  17.179722   4.0   \n",
       "0                   Alternative/Indie    4.0  15.750000  13.622897   2.0   \n",
       "6                            R&B/Soul    2.0   9.500000  12.020815   1.0   \n",
       "1  Alternative/reggaeton/experimental    1.0  44.000000        NaN  44.0   \n",
       "3                Dreampop/Hip-Hop/R&B    1.0  38.000000        NaN  38.0   \n",
       "\n",
       "     25%   50%    75%   max  \n",
       "5  21.25  28.0  39.75  48.0  \n",
       "4  10.50  20.0  33.50  50.0  \n",
       "2  14.00  32.0  37.50  49.0  \n",
       "0   8.00  13.5  21.25  34.0  \n",
       "6   5.25   9.5  13.75  18.0  \n",
       "1  44.00  44.0  44.00  44.0  \n",
       "3  38.00  38.0  38.00  38.0  "
      ],
      "text/html": [
       "<div>\n",
       "<style scoped>\n",
       "    .dataframe tbody tr th:only-of-type {\n",
       "        vertical-align: middle;\n",
       "    }\n",
       "\n",
       "    .dataframe tbody tr th {\n",
       "        vertical-align: top;\n",
       "    }\n",
       "\n",
       "    .dataframe thead th {\n",
       "        text-align: right;\n",
       "    }\n",
       "</style>\n",
       "<table border=\"1\" class=\"dataframe\">\n",
       "  <thead>\n",
       "    <tr style=\"text-align: right;\">\n",
       "      <th></th>\n",
       "      <th>broad_genre</th>\n",
       "      <th>count</th>\n",
       "      <th>mean</th>\n",
       "      <th>std</th>\n",
       "      <th>min</th>\n",
       "      <th>25%</th>\n",
       "      <th>50%</th>\n",
       "      <th>75%</th>\n",
       "      <th>max</th>\n",
       "    </tr>\n",
       "  </thead>\n",
       "  <tbody>\n",
       "    <tr>\n",
       "      <th>5</th>\n",
       "      <td>Pop</td>\n",
       "      <td>20.0</td>\n",
       "      <td>29.250000</td>\n",
       "      <td>12.627768</td>\n",
       "      <td>7.0</td>\n",
       "      <td>21.25</td>\n",
       "      <td>28.0</td>\n",
       "      <td>39.75</td>\n",
       "      <td>48.0</td>\n",
       "    </tr>\n",
       "    <tr>\n",
       "      <th>4</th>\n",
       "      <td>Hip-Hop/Rap</td>\n",
       "      <td>15.0</td>\n",
       "      <td>22.533333</td>\n",
       "      <td>14.865428</td>\n",
       "      <td>3.0</td>\n",
       "      <td>10.50</td>\n",
       "      <td>20.0</td>\n",
       "      <td>33.50</td>\n",
       "      <td>50.0</td>\n",
       "    </tr>\n",
       "    <tr>\n",
       "      <th>2</th>\n",
       "      <td>Dance/Electronic</td>\n",
       "      <td>7.0</td>\n",
       "      <td>26.857143</td>\n",
       "      <td>17.179722</td>\n",
       "      <td>4.0</td>\n",
       "      <td>14.00</td>\n",
       "      <td>32.0</td>\n",
       "      <td>37.50</td>\n",
       "      <td>49.0</td>\n",
       "    </tr>\n",
       "    <tr>\n",
       "      <th>0</th>\n",
       "      <td>Alternative/Indie</td>\n",
       "      <td>4.0</td>\n",
       "      <td>15.750000</td>\n",
       "      <td>13.622897</td>\n",
       "      <td>2.0</td>\n",
       "      <td>8.00</td>\n",
       "      <td>13.5</td>\n",
       "      <td>21.25</td>\n",
       "      <td>34.0</td>\n",
       "    </tr>\n",
       "    <tr>\n",
       "      <th>6</th>\n",
       "      <td>R&amp;B/Soul</td>\n",
       "      <td>2.0</td>\n",
       "      <td>9.500000</td>\n",
       "      <td>12.020815</td>\n",
       "      <td>1.0</td>\n",
       "      <td>5.25</td>\n",
       "      <td>9.5</td>\n",
       "      <td>13.75</td>\n",
       "      <td>18.0</td>\n",
       "    </tr>\n",
       "    <tr>\n",
       "      <th>1</th>\n",
       "      <td>Alternative/reggaeton/experimental</td>\n",
       "      <td>1.0</td>\n",
       "      <td>44.000000</td>\n",
       "      <td>NaN</td>\n",
       "      <td>44.0</td>\n",
       "      <td>44.00</td>\n",
       "      <td>44.0</td>\n",
       "      <td>44.00</td>\n",
       "      <td>44.0</td>\n",
       "    </tr>\n",
       "    <tr>\n",
       "      <th>3</th>\n",
       "      <td>Dreampop/Hip-Hop/R&amp;B</td>\n",
       "      <td>1.0</td>\n",
       "      <td>38.000000</td>\n",
       "      <td>NaN</td>\n",
       "      <td>38.0</td>\n",
       "      <td>38.00</td>\n",
       "      <td>38.0</td>\n",
       "      <td>38.00</td>\n",
       "      <td>38.0</td>\n",
       "    </tr>\n",
       "  </tbody>\n",
       "</table>\n",
       "</div>"
      ]
     },
     "execution_count": 846,
     "metadata": {},
     "output_type": "execute_result"
    }
   ],
   "execution_count": 846
  },
  {
   "metadata": {
    "ExecuteTime": {
     "end_time": "2025-08-12T13:21:35.587471Z",
     "start_time": "2025-08-12T13:21:35.577622Z"
    }
   },
   "cell_type": "code",
   "source": "data.groupby('broad_genre')['duration_s'].describe().reset_index().sort_values(by=['count'], ascending=False)",
   "id": "c0659500af359ea0",
   "outputs": [
    {
     "data": {
      "text/plain": [
       "                          broad_genre  count        mean        std      min  \\\n",
       "5                                 Pop   20.0  200.507450  24.875123  140.526   \n",
       "4                         Hip-Hop/Rap   15.0  199.355533  43.560514  159.382   \n",
       "2                    Dance/Electronic    7.0  182.300714  20.880747  157.606   \n",
       "0                   Alternative/Indie    4.0  207.627750  17.893828  182.161   \n",
       "6                            R&B/Soul    2.0  218.966500  26.766113  200.040   \n",
       "1  Alternative/reggaeton/experimental    1.0  295.177000        NaN  295.177   \n",
       "3                Dreampop/Hip-Hop/R&B    1.0  157.560000        NaN  157.560   \n",
       "\n",
       "         25%       50%        75%      max  \n",
       "5  190.47150  200.5730  213.38400  245.426  \n",
       "4  168.67650  181.7330  224.35900  312.820  \n",
       "2  171.50650  176.5470  188.55950  221.820  \n",
       "0  202.85650  212.4310  217.20225  223.488  \n",
       "6  209.50325  218.9665  228.42975  237.893  \n",
       "1  295.17700  295.1770  295.17700  295.177  \n",
       "3  157.56000  157.5600  157.56000  157.560  "
      ],
      "text/html": [
       "<div>\n",
       "<style scoped>\n",
       "    .dataframe tbody tr th:only-of-type {\n",
       "        vertical-align: middle;\n",
       "    }\n",
       "\n",
       "    .dataframe tbody tr th {\n",
       "        vertical-align: top;\n",
       "    }\n",
       "\n",
       "    .dataframe thead th {\n",
       "        text-align: right;\n",
       "    }\n",
       "</style>\n",
       "<table border=\"1\" class=\"dataframe\">\n",
       "  <thead>\n",
       "    <tr style=\"text-align: right;\">\n",
       "      <th></th>\n",
       "      <th>broad_genre</th>\n",
       "      <th>count</th>\n",
       "      <th>mean</th>\n",
       "      <th>std</th>\n",
       "      <th>min</th>\n",
       "      <th>25%</th>\n",
       "      <th>50%</th>\n",
       "      <th>75%</th>\n",
       "      <th>max</th>\n",
       "    </tr>\n",
       "  </thead>\n",
       "  <tbody>\n",
       "    <tr>\n",
       "      <th>5</th>\n",
       "      <td>Pop</td>\n",
       "      <td>20.0</td>\n",
       "      <td>200.507450</td>\n",
       "      <td>24.875123</td>\n",
       "      <td>140.526</td>\n",
       "      <td>190.47150</td>\n",
       "      <td>200.5730</td>\n",
       "      <td>213.38400</td>\n",
       "      <td>245.426</td>\n",
       "    </tr>\n",
       "    <tr>\n",
       "      <th>4</th>\n",
       "      <td>Hip-Hop/Rap</td>\n",
       "      <td>15.0</td>\n",
       "      <td>199.355533</td>\n",
       "      <td>43.560514</td>\n",
       "      <td>159.382</td>\n",
       "      <td>168.67650</td>\n",
       "      <td>181.7330</td>\n",
       "      <td>224.35900</td>\n",
       "      <td>312.820</td>\n",
       "    </tr>\n",
       "    <tr>\n",
       "      <th>2</th>\n",
       "      <td>Dance/Electronic</td>\n",
       "      <td>7.0</td>\n",
       "      <td>182.300714</td>\n",
       "      <td>20.880747</td>\n",
       "      <td>157.606</td>\n",
       "      <td>171.50650</td>\n",
       "      <td>176.5470</td>\n",
       "      <td>188.55950</td>\n",
       "      <td>221.820</td>\n",
       "    </tr>\n",
       "    <tr>\n",
       "      <th>0</th>\n",
       "      <td>Alternative/Indie</td>\n",
       "      <td>4.0</td>\n",
       "      <td>207.627750</td>\n",
       "      <td>17.893828</td>\n",
       "      <td>182.161</td>\n",
       "      <td>202.85650</td>\n",
       "      <td>212.4310</td>\n",
       "      <td>217.20225</td>\n",
       "      <td>223.488</td>\n",
       "    </tr>\n",
       "    <tr>\n",
       "      <th>6</th>\n",
       "      <td>R&amp;B/Soul</td>\n",
       "      <td>2.0</td>\n",
       "      <td>218.966500</td>\n",
       "      <td>26.766113</td>\n",
       "      <td>200.040</td>\n",
       "      <td>209.50325</td>\n",
       "      <td>218.9665</td>\n",
       "      <td>228.42975</td>\n",
       "      <td>237.893</td>\n",
       "    </tr>\n",
       "    <tr>\n",
       "      <th>1</th>\n",
       "      <td>Alternative/reggaeton/experimental</td>\n",
       "      <td>1.0</td>\n",
       "      <td>295.177000</td>\n",
       "      <td>NaN</td>\n",
       "      <td>295.177</td>\n",
       "      <td>295.17700</td>\n",
       "      <td>295.1770</td>\n",
       "      <td>295.17700</td>\n",
       "      <td>295.177</td>\n",
       "    </tr>\n",
       "    <tr>\n",
       "      <th>3</th>\n",
       "      <td>Dreampop/Hip-Hop/R&amp;B</td>\n",
       "      <td>1.0</td>\n",
       "      <td>157.560000</td>\n",
       "      <td>NaN</td>\n",
       "      <td>157.560</td>\n",
       "      <td>157.56000</td>\n",
       "      <td>157.5600</td>\n",
       "      <td>157.56000</td>\n",
       "      <td>157.560</td>\n",
       "    </tr>\n",
       "  </tbody>\n",
       "</table>\n",
       "</div>"
      ]
     },
     "execution_count": 847,
     "metadata": {},
     "output_type": "execute_result"
    }
   ],
   "execution_count": 847
  },
  {
   "metadata": {
    "ExecuteTime": {
     "end_time": "2025-08-12T13:21:35.594954Z",
     "start_time": "2025-08-12T13:21:35.592246Z"
    }
   },
   "cell_type": "code",
   "source": "data.dtypes",
   "id": "b301edc018184d92",
   "outputs": [
    {
     "data": {
      "text/plain": [
       "rank                     int64\n",
       "artist                  object\n",
       "album                   object\n",
       "track_name              object\n",
       "track_id                object\n",
       "energy                 float64\n",
       "danceability           float64\n",
       "key                      int64\n",
       "loudness               float64\n",
       "acousticness           float64\n",
       "speechiness            float64\n",
       "instrumentalness       float64\n",
       "liveness               float64\n",
       "valence                float64\n",
       "tempo                  float64\n",
       "genre                   object\n",
       "single_release_only       bool\n",
       "duration                object\n",
       "duration_s             float64\n",
       "broad_genre             object\n",
       "dtype: object"
      ]
     },
     "execution_count": 848,
     "metadata": {},
     "output_type": "execute_result"
    }
   ],
   "execution_count": 848
  },
  {
   "metadata": {
    "ExecuteTime": {
     "end_time": "2025-08-12T14:20:04.292583Z",
     "start_time": "2025-08-12T14:20:04.285400Z"
    }
   },
   "cell_type": "code",
   "source": "data[['danceability','rank']].corr()",
   "id": "333d29ca42656def",
   "outputs": [
    {
     "data": {
      "text/plain": [
       "              danceability      rank\n",
       "danceability      1.000000 -0.176321\n",
       "rank             -0.176321  1.000000"
      ],
      "text/html": [
       "<div>\n",
       "<style scoped>\n",
       "    .dataframe tbody tr th:only-of-type {\n",
       "        vertical-align: middle;\n",
       "    }\n",
       "\n",
       "    .dataframe tbody tr th {\n",
       "        vertical-align: top;\n",
       "    }\n",
       "\n",
       "    .dataframe thead th {\n",
       "        text-align: right;\n",
       "    }\n",
       "</style>\n",
       "<table border=\"1\" class=\"dataframe\">\n",
       "  <thead>\n",
       "    <tr style=\"text-align: right;\">\n",
       "      <th></th>\n",
       "      <th>danceability</th>\n",
       "      <th>rank</th>\n",
       "    </tr>\n",
       "  </thead>\n",
       "  <tbody>\n",
       "    <tr>\n",
       "      <th>danceability</th>\n",
       "      <td>1.000000</td>\n",
       "      <td>-0.176321</td>\n",
       "    </tr>\n",
       "    <tr>\n",
       "      <th>rank</th>\n",
       "      <td>-0.176321</td>\n",
       "      <td>1.000000</td>\n",
       "    </tr>\n",
       "  </tbody>\n",
       "</table>\n",
       "</div>"
      ]
     },
     "execution_count": 853,
     "metadata": {},
     "output_type": "execute_result"
    }
   ],
   "execution_count": 853
  },
  {
   "metadata": {
    "ExecuteTime": {
     "end_time": "2025-08-12T13:21:35.616156Z",
     "start_time": "2025-08-12T13:21:35.614819Z"
    }
   },
   "cell_type": "code",
   "source": "",
   "id": "f296bf104e386ee0",
   "outputs": [],
   "execution_count": null
  }
 ],
 "metadata": {
  "kernelspec": {
   "display_name": "Python 3",
   "language": "python",
   "name": "python3"
  },
  "language_info": {
   "codemirror_mode": {
    "name": "ipython",
    "version": 2
   },
   "file_extension": ".py",
   "mimetype": "text/x-python",
   "name": "python",
   "nbconvert_exporter": "python",
   "pygments_lexer": "ipython2",
   "version": "2.7.6"
  }
 },
 "nbformat": 4,
 "nbformat_minor": 5
}
