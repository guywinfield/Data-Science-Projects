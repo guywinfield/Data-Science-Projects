{
 "cells": [
  {
   "metadata": {},
   "cell_type": "markdown",
   "source": "Source Material: https://ds1.datascience.uchicago.edu/10/1/causality.html",
   "id": "2cf10798aabb53f7"
  },
  {
   "metadata": {
    "ExecuteTime": {
     "end_time": "2025-09-29T13:24:40.691758Z",
     "start_time": "2025-09-29T13:24:40.634192Z"
    }
   },
   "cell_type": "code",
   "source": [
    "import pandas as pd\n",
    "\n",
    "covid = pd.read_csv(\"/Users/guywinfield/PycharmProjects/Data/Statistics/simpsons_paradox_covid.csv\")\n",
    "\n",
    "covid.head()"
   ],
   "id": "447670fbf737c2b",
   "outputs": [
    {
     "data": {
      "text/plain": [
       "  age_group vaccine_status outcome\n",
       "0  under 50     vaccinated   death\n",
       "1  under 50     vaccinated   death\n",
       "2  under 50     vaccinated   death\n",
       "3  under 50     vaccinated   death\n",
       "4  under 50     vaccinated   death"
      ],
      "text/html": [
       "<div>\n",
       "<style scoped>\n",
       "    .dataframe tbody tr th:only-of-type {\n",
       "        vertical-align: middle;\n",
       "    }\n",
       "\n",
       "    .dataframe tbody tr th {\n",
       "        vertical-align: top;\n",
       "    }\n",
       "\n",
       "    .dataframe thead th {\n",
       "        text-align: right;\n",
       "    }\n",
       "</style>\n",
       "<table border=\"1\" class=\"dataframe\">\n",
       "  <thead>\n",
       "    <tr style=\"text-align: right;\">\n",
       "      <th></th>\n",
       "      <th>age_group</th>\n",
       "      <th>vaccine_status</th>\n",
       "      <th>outcome</th>\n",
       "    </tr>\n",
       "  </thead>\n",
       "  <tbody>\n",
       "    <tr>\n",
       "      <th>0</th>\n",
       "      <td>under 50</td>\n",
       "      <td>vaccinated</td>\n",
       "      <td>death</td>\n",
       "    </tr>\n",
       "    <tr>\n",
       "      <th>1</th>\n",
       "      <td>under 50</td>\n",
       "      <td>vaccinated</td>\n",
       "      <td>death</td>\n",
       "    </tr>\n",
       "    <tr>\n",
       "      <th>2</th>\n",
       "      <td>under 50</td>\n",
       "      <td>vaccinated</td>\n",
       "      <td>death</td>\n",
       "    </tr>\n",
       "    <tr>\n",
       "      <th>3</th>\n",
       "      <td>under 50</td>\n",
       "      <td>vaccinated</td>\n",
       "      <td>death</td>\n",
       "    </tr>\n",
       "    <tr>\n",
       "      <th>4</th>\n",
       "      <td>under 50</td>\n",
       "      <td>vaccinated</td>\n",
       "      <td>death</td>\n",
       "    </tr>\n",
       "  </tbody>\n",
       "</table>\n",
       "</div>"
      ]
     },
     "execution_count": 31,
     "metadata": {},
     "output_type": "execute_result"
    }
   ],
   "execution_count": 31
  },
  {
   "metadata": {
    "ExecuteTime": {
     "end_time": "2025-09-29T13:24:41.171977Z",
     "start_time": "2025-09-29T13:24:41.132932Z"
    }
   },
   "cell_type": "code",
   "source": [
    "outcome_vax_table = covid.groupby([\"vaccine_status\",\"outcome\"]).count().rename(columns={\"age_group\":\"counts\"})\n",
    "\n",
    "# There are 151052 unvaccinated patients and 117114 vaccinated patients in the dataset\n",
    "outcome_vax_table[\"proportion\"] = outcome_vax_table['counts'] / [151052, 151052, 117114, 117114]\n",
    "outcome_vax_table"
   ],
   "id": "f7e92582bf2dcd7a",
   "outputs": [
    {
     "data": {
      "text/plain": [
       "                         counts  proportion\n",
       "vaccine_status outcome                     \n",
       "unvaccinated   death        253    0.001675\n",
       "               survived  150799    0.998325\n",
       "vaccinated     death        481    0.004107\n",
       "               survived  116633    0.995893"
      ],
      "text/html": [
       "<div>\n",
       "<style scoped>\n",
       "    .dataframe tbody tr th:only-of-type {\n",
       "        vertical-align: middle;\n",
       "    }\n",
       "\n",
       "    .dataframe tbody tr th {\n",
       "        vertical-align: top;\n",
       "    }\n",
       "\n",
       "    .dataframe thead th {\n",
       "        text-align: right;\n",
       "    }\n",
       "</style>\n",
       "<table border=\"1\" class=\"dataframe\">\n",
       "  <thead>\n",
       "    <tr style=\"text-align: right;\">\n",
       "      <th></th>\n",
       "      <th></th>\n",
       "      <th>counts</th>\n",
       "      <th>proportion</th>\n",
       "    </tr>\n",
       "    <tr>\n",
       "      <th>vaccine_status</th>\n",
       "      <th>outcome</th>\n",
       "      <th></th>\n",
       "      <th></th>\n",
       "    </tr>\n",
       "  </thead>\n",
       "  <tbody>\n",
       "    <tr>\n",
       "      <th rowspan=\"2\" valign=\"top\">unvaccinated</th>\n",
       "      <th>death</th>\n",
       "      <td>253</td>\n",
       "      <td>0.001675</td>\n",
       "    </tr>\n",
       "    <tr>\n",
       "      <th>survived</th>\n",
       "      <td>150799</td>\n",
       "      <td>0.998325</td>\n",
       "    </tr>\n",
       "    <tr>\n",
       "      <th rowspan=\"2\" valign=\"top\">vaccinated</th>\n",
       "      <th>death</th>\n",
       "      <td>481</td>\n",
       "      <td>0.004107</td>\n",
       "    </tr>\n",
       "    <tr>\n",
       "      <th>survived</th>\n",
       "      <td>116633</td>\n",
       "      <td>0.995893</td>\n",
       "    </tr>\n",
       "  </tbody>\n",
       "</table>\n",
       "</div>"
      ]
     },
     "execution_count": 32,
     "metadata": {},
     "output_type": "execute_result"
    }
   ],
   "execution_count": 32
  },
  {
   "metadata": {
    "ExecuteTime": {
     "end_time": "2025-09-29T13:24:41.378653Z",
     "start_time": "2025-09-29T13:24:41.345485Z"
    }
   },
   "cell_type": "code",
   "source": [
    "age_vax_table = covid.groupby([\"age_group\",\"vaccine_status\"]).count().rename(columns={\"outcome\":\"counts\"})\n",
    "\n",
    "# There are 30747 patients over 50 and 237419 patients under 50 in the dataset\n",
    "age_vax_table[\"proportion\"] = age_vax_table['counts'] / [30747, 30747, 237419, 237419]\n",
    "age_vax_table"
   ],
   "id": "491a40a42a07f943",
   "outputs": [
    {
     "data": {
      "text/plain": [
       "                          counts  proportion\n",
       "age_group vaccine_status                    \n",
       "50 +      unvaccinated      3440    0.111881\n",
       "          vaccinated       27307    0.888119\n",
       "under 50  unvaccinated    147612    0.621736\n",
       "          vaccinated       89807    0.378264"
      ],
      "text/html": [
       "<div>\n",
       "<style scoped>\n",
       "    .dataframe tbody tr th:only-of-type {\n",
       "        vertical-align: middle;\n",
       "    }\n",
       "\n",
       "    .dataframe tbody tr th {\n",
       "        vertical-align: top;\n",
       "    }\n",
       "\n",
       "    .dataframe thead th {\n",
       "        text-align: right;\n",
       "    }\n",
       "</style>\n",
       "<table border=\"1\" class=\"dataframe\">\n",
       "  <thead>\n",
       "    <tr style=\"text-align: right;\">\n",
       "      <th></th>\n",
       "      <th></th>\n",
       "      <th>counts</th>\n",
       "      <th>proportion</th>\n",
       "    </tr>\n",
       "    <tr>\n",
       "      <th>age_group</th>\n",
       "      <th>vaccine_status</th>\n",
       "      <th></th>\n",
       "      <th></th>\n",
       "    </tr>\n",
       "  </thead>\n",
       "  <tbody>\n",
       "    <tr>\n",
       "      <th rowspan=\"2\" valign=\"top\">50 +</th>\n",
       "      <th>unvaccinated</th>\n",
       "      <td>3440</td>\n",
       "      <td>0.111881</td>\n",
       "    </tr>\n",
       "    <tr>\n",
       "      <th>vaccinated</th>\n",
       "      <td>27307</td>\n",
       "      <td>0.888119</td>\n",
       "    </tr>\n",
       "    <tr>\n",
       "      <th rowspan=\"2\" valign=\"top\">under 50</th>\n",
       "      <th>unvaccinated</th>\n",
       "      <td>147612</td>\n",
       "      <td>0.621736</td>\n",
       "    </tr>\n",
       "    <tr>\n",
       "      <th>vaccinated</th>\n",
       "      <td>89807</td>\n",
       "      <td>0.378264</td>\n",
       "    </tr>\n",
       "  </tbody>\n",
       "</table>\n",
       "</div>"
      ]
     },
     "execution_count": 33,
     "metadata": {},
     "output_type": "execute_result"
    }
   ],
   "execution_count": 33
  },
  {
   "metadata": {
    "ExecuteTime": {
     "end_time": "2025-09-29T13:24:41.543540Z",
     "start_time": "2025-09-29T13:24:41.509834Z"
    }
   },
   "cell_type": "code",
   "source": [
    "covid['counter'] = 1 # Create this fourth variable since we will be grouping on all other variables\n",
    "conditioned = covid.groupby([\"age_group\",\"vaccine_status\",\"outcome\"]).count()\n",
    "\n",
    "\n",
    "conditioned[\"proportion\"] = conditioned['counter'] / [3440, 3440, 27307, 27307, 147612, 147612, 89807, 89807]\n",
    "conditioned"
   ],
   "id": "440b3e3748064f73",
   "outputs": [
    {
     "data": {
      "text/plain": [
       "                                   counter  proportion\n",
       "age_group vaccine_status outcome                      \n",
       "50 +      unvaccinated   death         205    0.059593\n",
       "                         survived     3235    0.940407\n",
       "          vaccinated     death         460    0.016845\n",
       "                         survived    26847    0.983155\n",
       "under 50  unvaccinated   death          48    0.000325\n",
       "                         survived   147564    0.999675\n",
       "          vaccinated     death          21    0.000234\n",
       "                         survived    89786    0.999766"
      ],
      "text/html": [
       "<div>\n",
       "<style scoped>\n",
       "    .dataframe tbody tr th:only-of-type {\n",
       "        vertical-align: middle;\n",
       "    }\n",
       "\n",
       "    .dataframe tbody tr th {\n",
       "        vertical-align: top;\n",
       "    }\n",
       "\n",
       "    .dataframe thead th {\n",
       "        text-align: right;\n",
       "    }\n",
       "</style>\n",
       "<table border=\"1\" class=\"dataframe\">\n",
       "  <thead>\n",
       "    <tr style=\"text-align: right;\">\n",
       "      <th></th>\n",
       "      <th></th>\n",
       "      <th></th>\n",
       "      <th>counter</th>\n",
       "      <th>proportion</th>\n",
       "    </tr>\n",
       "    <tr>\n",
       "      <th>age_group</th>\n",
       "      <th>vaccine_status</th>\n",
       "      <th>outcome</th>\n",
       "      <th></th>\n",
       "      <th></th>\n",
       "    </tr>\n",
       "  </thead>\n",
       "  <tbody>\n",
       "    <tr>\n",
       "      <th rowspan=\"4\" valign=\"top\">50 +</th>\n",
       "      <th rowspan=\"2\" valign=\"top\">unvaccinated</th>\n",
       "      <th>death</th>\n",
       "      <td>205</td>\n",
       "      <td>0.059593</td>\n",
       "    </tr>\n",
       "    <tr>\n",
       "      <th>survived</th>\n",
       "      <td>3235</td>\n",
       "      <td>0.940407</td>\n",
       "    </tr>\n",
       "    <tr>\n",
       "      <th rowspan=\"2\" valign=\"top\">vaccinated</th>\n",
       "      <th>death</th>\n",
       "      <td>460</td>\n",
       "      <td>0.016845</td>\n",
       "    </tr>\n",
       "    <tr>\n",
       "      <th>survived</th>\n",
       "      <td>26847</td>\n",
       "      <td>0.983155</td>\n",
       "    </tr>\n",
       "    <tr>\n",
       "      <th rowspan=\"4\" valign=\"top\">under 50</th>\n",
       "      <th rowspan=\"2\" valign=\"top\">unvaccinated</th>\n",
       "      <th>death</th>\n",
       "      <td>48</td>\n",
       "      <td>0.000325</td>\n",
       "    </tr>\n",
       "    <tr>\n",
       "      <th>survived</th>\n",
       "      <td>147564</td>\n",
       "      <td>0.999675</td>\n",
       "    </tr>\n",
       "    <tr>\n",
       "      <th rowspan=\"2\" valign=\"top\">vaccinated</th>\n",
       "      <th>death</th>\n",
       "      <td>21</td>\n",
       "      <td>0.000234</td>\n",
       "    </tr>\n",
       "    <tr>\n",
       "      <th>survived</th>\n",
       "      <td>89786</td>\n",
       "      <td>0.999766</td>\n",
       "    </tr>\n",
       "  </tbody>\n",
       "</table>\n",
       "</div>"
      ]
     },
     "execution_count": 34,
     "metadata": {},
     "output_type": "execute_result"
    }
   ],
   "execution_count": 34
  },
  {
   "metadata": {
    "ExecuteTime": {
     "end_time": "2025-09-29T13:25:11.642415Z",
     "start_time": "2025-09-29T13:25:11.614623Z"
    }
   },
   "cell_type": "code",
   "source": [
    "covid['counter'] = 1 # Create this fourth variable since we will be grouping on all other variables\n",
    "conditioned = covid.groupby([\"age_group\",\"vaccine_status\",\"outcome\"]).count()\n",
    "\n",
    "\n",
    "conditioned[\"proportion\"] = conditioned['counter'] / [3440, 3440, 27307, 27307, 147612, 147612, 89807, 89807]\n",
    "conditioned"
   ],
   "id": "370b06c745c337e6",
   "outputs": [
    {
     "data": {
      "text/plain": [
       "                                   counter  proportion\n",
       "age_group vaccine_status outcome                      \n",
       "50 +      unvaccinated   death         205    0.059593\n",
       "                         survived     3235    0.940407\n",
       "          vaccinated     death         460    0.016845\n",
       "                         survived    26847    0.983155\n",
       "under 50  unvaccinated   death          48    0.000325\n",
       "                         survived   147564    0.999675\n",
       "          vaccinated     death          21    0.000234\n",
       "                         survived    89786    0.999766"
      ],
      "text/html": [
       "<div>\n",
       "<style scoped>\n",
       "    .dataframe tbody tr th:only-of-type {\n",
       "        vertical-align: middle;\n",
       "    }\n",
       "\n",
       "    .dataframe tbody tr th {\n",
       "        vertical-align: top;\n",
       "    }\n",
       "\n",
       "    .dataframe thead th {\n",
       "        text-align: right;\n",
       "    }\n",
       "</style>\n",
       "<table border=\"1\" class=\"dataframe\">\n",
       "  <thead>\n",
       "    <tr style=\"text-align: right;\">\n",
       "      <th></th>\n",
       "      <th></th>\n",
       "      <th></th>\n",
       "      <th>counter</th>\n",
       "      <th>proportion</th>\n",
       "    </tr>\n",
       "    <tr>\n",
       "      <th>age_group</th>\n",
       "      <th>vaccine_status</th>\n",
       "      <th>outcome</th>\n",
       "      <th></th>\n",
       "      <th></th>\n",
       "    </tr>\n",
       "  </thead>\n",
       "  <tbody>\n",
       "    <tr>\n",
       "      <th rowspan=\"4\" valign=\"top\">50 +</th>\n",
       "      <th rowspan=\"2\" valign=\"top\">unvaccinated</th>\n",
       "      <th>death</th>\n",
       "      <td>205</td>\n",
       "      <td>0.059593</td>\n",
       "    </tr>\n",
       "    <tr>\n",
       "      <th>survived</th>\n",
       "      <td>3235</td>\n",
       "      <td>0.940407</td>\n",
       "    </tr>\n",
       "    <tr>\n",
       "      <th rowspan=\"2\" valign=\"top\">vaccinated</th>\n",
       "      <th>death</th>\n",
       "      <td>460</td>\n",
       "      <td>0.016845</td>\n",
       "    </tr>\n",
       "    <tr>\n",
       "      <th>survived</th>\n",
       "      <td>26847</td>\n",
       "      <td>0.983155</td>\n",
       "    </tr>\n",
       "    <tr>\n",
       "      <th rowspan=\"4\" valign=\"top\">under 50</th>\n",
       "      <th rowspan=\"2\" valign=\"top\">unvaccinated</th>\n",
       "      <th>death</th>\n",
       "      <td>48</td>\n",
       "      <td>0.000325</td>\n",
       "    </tr>\n",
       "    <tr>\n",
       "      <th>survived</th>\n",
       "      <td>147564</td>\n",
       "      <td>0.999675</td>\n",
       "    </tr>\n",
       "    <tr>\n",
       "      <th rowspan=\"2\" valign=\"top\">vaccinated</th>\n",
       "      <th>death</th>\n",
       "      <td>21</td>\n",
       "      <td>0.000234</td>\n",
       "    </tr>\n",
       "    <tr>\n",
       "      <th>survived</th>\n",
       "      <td>89786</td>\n",
       "      <td>0.999766</td>\n",
       "    </tr>\n",
       "  </tbody>\n",
       "</table>\n",
       "</div>"
      ]
     },
     "execution_count": 36,
     "metadata": {},
     "output_type": "execute_result"
    }
   ],
   "execution_count": 36
  },
  {
   "metadata": {
    "ExecuteTime": {
     "end_time": "2025-09-29T13:25:17.514116Z",
     "start_time": "2025-09-29T13:25:17.488659Z"
    }
   },
   "cell_type": "code",
   "source": [
    "collider = covid.groupby([\"outcome\",\"age_group\",\"vaccine_status\"]).count()\n",
    "\n",
    "collider[\"proportion\"] = collider['counter'] / [665, 665, 69, 69, 30082, 30082, 237350, 237350]\n",
    "collider"
   ],
   "id": "e7493e2eb6dbd894",
   "outputs": [
    {
     "data": {
      "text/plain": [
       "                                   counter  proportion\n",
       "outcome  age_group vaccine_status                     \n",
       "death    50 +      unvaccinated        205    0.308271\n",
       "                   vaccinated          460    0.691729\n",
       "         under 50  unvaccinated         48    0.695652\n",
       "                   vaccinated           21    0.304348\n",
       "survived 50 +      unvaccinated       3235    0.107539\n",
       "                   vaccinated        26847    0.892461\n",
       "         under 50  unvaccinated     147564    0.621715\n",
       "                   vaccinated        89786    0.378285"
      ],
      "text/html": [
       "<div>\n",
       "<style scoped>\n",
       "    .dataframe tbody tr th:only-of-type {\n",
       "        vertical-align: middle;\n",
       "    }\n",
       "\n",
       "    .dataframe tbody tr th {\n",
       "        vertical-align: top;\n",
       "    }\n",
       "\n",
       "    .dataframe thead th {\n",
       "        text-align: right;\n",
       "    }\n",
       "</style>\n",
       "<table border=\"1\" class=\"dataframe\">\n",
       "  <thead>\n",
       "    <tr style=\"text-align: right;\">\n",
       "      <th></th>\n",
       "      <th></th>\n",
       "      <th></th>\n",
       "      <th>counter</th>\n",
       "      <th>proportion</th>\n",
       "    </tr>\n",
       "    <tr>\n",
       "      <th>outcome</th>\n",
       "      <th>age_group</th>\n",
       "      <th>vaccine_status</th>\n",
       "      <th></th>\n",
       "      <th></th>\n",
       "    </tr>\n",
       "  </thead>\n",
       "  <tbody>\n",
       "    <tr>\n",
       "      <th rowspan=\"4\" valign=\"top\">death</th>\n",
       "      <th rowspan=\"2\" valign=\"top\">50 +</th>\n",
       "      <th>unvaccinated</th>\n",
       "      <td>205</td>\n",
       "      <td>0.308271</td>\n",
       "    </tr>\n",
       "    <tr>\n",
       "      <th>vaccinated</th>\n",
       "      <td>460</td>\n",
       "      <td>0.691729</td>\n",
       "    </tr>\n",
       "    <tr>\n",
       "      <th rowspan=\"2\" valign=\"top\">under 50</th>\n",
       "      <th>unvaccinated</th>\n",
       "      <td>48</td>\n",
       "      <td>0.695652</td>\n",
       "    </tr>\n",
       "    <tr>\n",
       "      <th>vaccinated</th>\n",
       "      <td>21</td>\n",
       "      <td>0.304348</td>\n",
       "    </tr>\n",
       "    <tr>\n",
       "      <th rowspan=\"4\" valign=\"top\">survived</th>\n",
       "      <th rowspan=\"2\" valign=\"top\">50 +</th>\n",
       "      <th>unvaccinated</th>\n",
       "      <td>3235</td>\n",
       "      <td>0.107539</td>\n",
       "    </tr>\n",
       "    <tr>\n",
       "      <th>vaccinated</th>\n",
       "      <td>26847</td>\n",
       "      <td>0.892461</td>\n",
       "    </tr>\n",
       "    <tr>\n",
       "      <th rowspan=\"2\" valign=\"top\">under 50</th>\n",
       "      <th>unvaccinated</th>\n",
       "      <td>147564</td>\n",
       "      <td>0.621715</td>\n",
       "    </tr>\n",
       "    <tr>\n",
       "      <th>vaccinated</th>\n",
       "      <td>89786</td>\n",
       "      <td>0.378285</td>\n",
       "    </tr>\n",
       "  </tbody>\n",
       "</table>\n",
       "</div>"
      ]
     },
     "execution_count": 37,
     "metadata": {},
     "output_type": "execute_result"
    }
   ],
   "execution_count": 37
  },
  {
   "metadata": {},
   "cell_type": "markdown",
   "source": "# Sampling",
   "id": "e608384bbb29dfa5"
  },
  {
   "metadata": {
    "ExecuteTime": {
     "end_time": "2025-09-29T13:37:26.713552Z",
     "start_time": "2025-09-29T13:37:26.708933Z"
    }
   },
   "cell_type": "code",
   "source": [
    "import numpy as np\n",
    "\n",
    "np.random.seed(1890)\n",
    "\n",
    "marbles = [\"red\", \"blue\", \"yellow\", \"green\", \"brown\"]\n",
    "\n",
    "np.random.choice(marbles)"
   ],
   "id": "177e60385c1de592",
   "outputs": [
    {
     "data": {
      "text/plain": [
       "np.str_('brown')"
      ]
     },
     "execution_count": 39,
     "metadata": {},
     "output_type": "execute_result"
    }
   ],
   "execution_count": 39
  },
  {
   "metadata": {
    "ExecuteTime": {
     "end_time": "2025-09-29T13:38:01.041054Z",
     "start_time": "2025-09-29T13:38:01.038815Z"
    }
   },
   "cell_type": "code",
   "source": [
    "np.random.seed(123)\n",
    "\n",
    "marbles = [\"red\", \"blue\", \"yellow\", \"green\", \"brown\"]\n",
    "\n",
    "np.random.choice(marbles)"
   ],
   "id": "9452aebf1decb999",
   "outputs": [
    {
     "data": {
      "text/plain": [
       "np.str_('yellow')"
      ]
     },
     "execution_count": 40,
     "metadata": {},
     "output_type": "execute_result"
    }
   ],
   "execution_count": 40
  },
  {
   "metadata": {
    "ExecuteTime": {
     "end_time": "2025-09-29T13:38:35.923703Z",
     "start_time": "2025-09-29T13:38:35.919674Z"
    }
   },
   "cell_type": "code",
   "source": [
    "marbles = [\"red\", \"blue\", \"yellow\", \"green\", \"brown\"]\n",
    "\n",
    "np.random.choice(marbles, p=[0.5, 0.5, 0, 0, 0])"
   ],
   "id": "10afb9832dd81f5a",
   "outputs": [
    {
     "data": {
      "text/plain": [
       "np.str_('red')"
      ]
     },
     "execution_count": 41,
     "metadata": {},
     "output_type": "execute_result"
    }
   ],
   "execution_count": 41
  },
  {
   "metadata": {
    "ExecuteTime": {
     "end_time": "2025-09-29T13:39:08.147967Z",
     "start_time": "2025-09-29T13:39:08.143632Z"
    }
   },
   "cell_type": "code",
   "source": [
    "marbles = [\"red\", \"blue\", \"yellow\", \"green\", \"brown\"]\n",
    "\n",
    "np.random.choice(marbles, size=4)"
   ],
   "id": "453111cb8f3f37d5",
   "outputs": [
    {
     "data": {
      "text/plain": [
       "array(['blue', 'green', 'yellow', 'green'], dtype='<U6')"
      ]
     },
     "execution_count": 42,
     "metadata": {},
     "output_type": "execute_result"
    }
   ],
   "execution_count": 42
  },
  {
   "metadata": {
    "ExecuteTime": {
     "end_time": "2025-09-29T13:39:35.823448Z",
     "start_time": "2025-09-29T13:39:35.818892Z"
    }
   },
   "cell_type": "code",
   "source": [
    "marbles = [\"red\", \"blue\", \"yellow\", \"green\", \"brown\"]\n",
    "\n",
    "np.random.choice(marbles, size=4, replace=False)"
   ],
   "id": "62ffd48be62864ae",
   "outputs": [
    {
     "data": {
      "text/plain": [
       "array(['green', 'red', 'brown', 'yellow'], dtype='<U6')"
      ]
     },
     "execution_count": 43,
     "metadata": {},
     "output_type": "execute_result"
    }
   ],
   "execution_count": 43
  },
  {
   "metadata": {},
   "cell_type": "markdown",
   "source": "# Biais",
   "id": "68ea1fa313d4e15f"
  },
  {
   "metadata": {
    "ExecuteTime": {
     "end_time": "2025-09-29T13:47:11.232184Z",
     "start_time": "2025-09-29T13:47:11.230219Z"
    }
   },
   "cell_type": "code",
   "source": [
    "import numpy as np\n",
    "\n",
    "np.random.seed(1890)\n",
    "\n",
    "truth = np.random.choice([\"Yes\", \"No\"], 100, p=[0.3, 0.7])\n",
    "flip1 = np.random.choice([\"Heads\", \"Tails\"], 100)\n",
    "flip2 = np.random.choice([\"Heads\", \"Tails\"], 100)"
   ],
   "id": "f9c8fc3c5fec00bd",
   "outputs": [],
   "execution_count": 45
  },
  {
   "metadata": {
    "ExecuteTime": {
     "end_time": "2025-09-29T13:47:16.194543Z",
     "start_time": "2025-09-29T13:47:16.190782Z"
    }
   },
   "cell_type": "code",
   "source": [
    "reported = truth.copy()\n",
    "\n",
    "reported[(flip1 == \"Tails\") & (flip2 == \"Heads\")] = \"Yes\"\n",
    "reported[(flip1 == \"Tails\") & (flip2 == \"Tails\")] = \"No\"\n",
    "\n",
    "sum(reported == \"Yes\") / 100"
   ],
   "id": "82dc3a9a2c9f5605",
   "outputs": [
    {
     "data": {
      "text/plain": [
       "np.float64(0.43)"
      ]
     },
     "execution_count": 46,
     "metadata": {},
     "output_type": "execute_result"
    }
   ],
   "execution_count": 46
  },
  {
   "metadata": {
    "ExecuteTime": {
     "end_time": "2025-09-29T13:47:42.019821Z",
     "start_time": "2025-09-29T13:47:42.016093Z"
    }
   },
   "cell_type": "code",
   "source": "sum(truth == \"Yes\") / 100",
   "id": "5cd0c3cbf22b9335",
   "outputs": [
    {
     "data": {
      "text/plain": [
       "np.float64(0.27)"
      ]
     },
     "execution_count": 47,
     "metadata": {},
     "output_type": "execute_result"
    }
   ],
   "execution_count": 47
  },
  {
   "metadata": {},
   "cell_type": "markdown",
   "source": [
    "Based on the coinflips about half of the participants responded truthfully. We also know that about a quarter of the participants falsely responded “yes” and a quarter falsely responded “no”. Therefore, if we call the chance of someone truthfully responding “yes”\n",
    ", the chance of seeing a response of “yes” (truthful or not truthful) is\n",
    "\n",
    "\n",
    ". Solving for\n",
    " the chance of a truthful yes is\n",
    "\n",
    "."
   ],
   "id": "cb8ad621fad90a94"
  },
  {
   "metadata": {
    "ExecuteTime": {
     "end_time": "2025-09-29T13:48:12.287640Z",
     "start_time": "2025-09-29T13:48:12.284624Z"
    }
   },
   "cell_type": "code",
   "source": "2 * (sum(reported == \"Yes\") / 100) - (1 / 2)",
   "id": "8904a8abca3b3e87",
   "outputs": [
    {
     "data": {
      "text/plain": [
       "np.float64(0.36)"
      ]
     },
     "execution_count": 48,
     "metadata": {},
     "output_type": "execute_result"
    }
   ],
   "execution_count": 48
  },
  {
   "metadata": {},
   "cell_type": "code",
   "outputs": [],
   "execution_count": null,
   "source": "",
   "id": "378b9f2c4c301233"
  }
 ],
 "metadata": {
  "kernelspec": {
   "display_name": "Python 3",
   "language": "python",
   "name": "python3"
  },
  "language_info": {
   "codemirror_mode": {
    "name": "ipython",
    "version": 2
   },
   "file_extension": ".py",
   "mimetype": "text/x-python",
   "name": "python",
   "nbconvert_exporter": "python",
   "pygments_lexer": "ipython2",
   "version": "2.7.6"
  }
 },
 "nbformat": 4,
 "nbformat_minor": 5
}
