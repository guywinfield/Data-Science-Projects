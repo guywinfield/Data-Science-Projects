{
 "cells": [
  {
   "metadata": {},
   "cell_type": "markdown",
   "source": "# Array Creation",
   "id": "6f657193f7e913b"
  },
  {
   "metadata": {
    "ExecuteTime": {
     "end_time": "2025-07-28T14:49:04.226933Z",
     "start_time": "2025-07-28T14:49:04.176670Z"
    }
   },
   "cell_type": "code",
   "source": [
    "import numpy as np\n",
    "import math\n"
   ],
   "id": "94cb0909dabed201",
   "outputs": [],
   "execution_count": 2
  },
  {
   "metadata": {
    "ExecuteTime": {
     "end_time": "2025-07-28T14:49:29.567950Z",
     "start_time": "2025-07-28T14:49:29.564297Z"
    }
   },
   "cell_type": "code",
   "source": [
    "a = np.array([1,2,3])\n",
    "print(a)\n",
    "print(a.ndim)"
   ],
   "id": "35d47c067ffee53d",
   "outputs": [
    {
     "name": "stdout",
     "output_type": "stream",
     "text": [
      "[1 2 3]\n",
      "1\n"
     ]
    }
   ],
   "execution_count": 3
  },
  {
   "metadata": {
    "ExecuteTime": {
     "end_time": "2025-07-28T14:50:00.013946Z",
     "start_time": "2025-07-28T14:50:00.007533Z"
    }
   },
   "cell_type": "code",
   "source": [
    "b = np.array([[1,2,3],[4,5,6]])\n",
    "b"
   ],
   "id": "c79c7f587134ae47",
   "outputs": [
    {
     "data": {
      "text/plain": [
       "array([[1, 2, 3],\n",
       "       [4, 5, 6]])"
      ]
     },
     "execution_count": 4,
     "metadata": {},
     "output_type": "execute_result"
    }
   ],
   "execution_count": 4
  },
  {
   "metadata": {
    "ExecuteTime": {
     "end_time": "2025-07-28T14:50:09.549746Z",
     "start_time": "2025-07-28T14:50:09.546022Z"
    }
   },
   "cell_type": "code",
   "source": "b.shape",
   "id": "3bdf561cfc6cc1af",
   "outputs": [
    {
     "data": {
      "text/plain": [
       "(2, 3)"
      ]
     },
     "execution_count": 5,
     "metadata": {},
     "output_type": "execute_result"
    }
   ],
   "execution_count": 5
  },
  {
   "metadata": {
    "ExecuteTime": {
     "end_time": "2025-07-28T14:50:14.695019Z",
     "start_time": "2025-07-28T14:50:14.692495Z"
    }
   },
   "cell_type": "code",
   "source": "b.dtype",
   "id": "d09cac44ade38316",
   "outputs": [
    {
     "data": {
      "text/plain": [
       "dtype('int64')"
      ]
     },
     "execution_count": 6,
     "metadata": {},
     "output_type": "execute_result"
    }
   ],
   "execution_count": 6
  },
  {
   "metadata": {
    "ExecuteTime": {
     "end_time": "2025-07-28T14:50:44.719799Z",
     "start_time": "2025-07-28T14:50:44.715820Z"
    }
   },
   "cell_type": "code",
   "source": [
    "c = np.array([2.2, 5, 1.1])\n",
    "c.dtype.name"
   ],
   "id": "dc71f9e2ff87b9ea",
   "outputs": [
    {
     "data": {
      "text/plain": [
       "'float64'"
      ]
     },
     "execution_count": 8,
     "metadata": {},
     "output_type": "execute_result"
    }
   ],
   "execution_count": 8
  },
  {
   "metadata": {
    "ExecuteTime": {
     "end_time": "2025-07-28T14:50:48.128024Z",
     "start_time": "2025-07-28T14:50:48.124540Z"
    }
   },
   "cell_type": "code",
   "source": "c",
   "id": "a106f72293c1e394",
   "outputs": [
    {
     "data": {
      "text/plain": [
       "array([2.2, 5. , 1.1])"
      ]
     },
     "execution_count": 9,
     "metadata": {},
     "output_type": "execute_result"
    }
   ],
   "execution_count": 9
  },
  {
   "metadata": {
    "ExecuteTime": {
     "end_time": "2025-07-28T14:51:43.247358Z",
     "start_time": "2025-07-28T14:51:43.243529Z"
    }
   },
   "cell_type": "code",
   "source": [
    "d = np.zeros((2,3))\n",
    "print(d)\n",
    "\n",
    "e = np.ones((2,3))\n",
    "print(e)"
   ],
   "id": "b0e167e6cf82064e",
   "outputs": [
    {
     "name": "stdout",
     "output_type": "stream",
     "text": [
      "[[0. 0. 0.]\n",
      " [0. 0. 0.]]\n",
      "[[1. 1. 1.]\n",
      " [1. 1. 1.]]\n"
     ]
    }
   ],
   "execution_count": 10
  },
  {
   "metadata": {
    "ExecuteTime": {
     "end_time": "2025-07-28T14:51:52.540418Z",
     "start_time": "2025-07-28T14:51:52.535663Z"
    }
   },
   "cell_type": "code",
   "source": "np.random.rand(2,3)",
   "id": "84c9b96f7befee2d",
   "outputs": [
    {
     "data": {
      "text/plain": [
       "array([[0.50615877, 0.58333024, 0.01909288],\n",
       "       [0.46456742, 0.30105961, 0.90405971]])"
      ]
     },
     "execution_count": 11,
     "metadata": {},
     "output_type": "execute_result"
    }
   ],
   "execution_count": 11
  },
  {
   "metadata": {
    "ExecuteTime": {
     "end_time": "2025-07-28T14:52:36.326486Z",
     "start_time": "2025-07-28T14:52:36.321540Z"
    }
   },
   "cell_type": "code",
   "source": [
    "f = np.arange(10,50,2)\n",
    "f"
   ],
   "id": "92e7f14281913083",
   "outputs": [
    {
     "data": {
      "text/plain": [
       "array([10, 12, 14, 16, 18, 20, 22, 24, 26, 28, 30, 32, 34, 36, 38, 40, 42,\n",
       "       44, 46, 48])"
      ]
     },
     "execution_count": 14,
     "metadata": {},
     "output_type": "execute_result"
    }
   ],
   "execution_count": 14
  },
  {
   "metadata": {
    "ExecuteTime": {
     "end_time": "2025-07-28T14:52:58.258058Z",
     "start_time": "2025-07-28T14:52:58.253139Z"
    }
   },
   "cell_type": "code",
   "source": "np.linspace(0,2,15)",
   "id": "3acf331fdd7929be",
   "outputs": [
    {
     "data": {
      "text/plain": [
       "array([0.        , 0.14285714, 0.28571429, 0.42857143, 0.57142857,\n",
       "       0.71428571, 0.85714286, 1.        , 1.14285714, 1.28571429,\n",
       "       1.42857143, 1.57142857, 1.71428571, 1.85714286, 2.        ])"
      ]
     },
     "execution_count": 15,
     "metadata": {},
     "output_type": "execute_result"
    }
   ],
   "execution_count": 15
  },
  {
   "metadata": {},
   "cell_type": "markdown",
   "source": "## Array Operations",
   "id": "cc789d828fc2b502"
  },
  {
   "metadata": {
    "ExecuteTime": {
     "end_time": "2025-07-28T14:54:07.627746Z",
     "start_time": "2025-07-28T14:54:07.624489Z"
    }
   },
   "cell_type": "code",
   "source": [
    "a = np.array([10,20,30,40])\n",
    "b = np.array([1,2,3,4])\n",
    "\n",
    "c = a-b\n",
    "print(c)\n",
    "\n",
    "d = a*b\n",
    "print(d)"
   ],
   "id": "dca3f295d5e1b088",
   "outputs": [
    {
     "name": "stdout",
     "output_type": "stream",
     "text": [
      "[ 9 18 27 36]\n",
      "[ 10  40  90 160]\n"
     ]
    }
   ],
   "execution_count": 19
  },
  {
   "metadata": {
    "ExecuteTime": {
     "end_time": "2025-07-28T14:56:11.473623Z",
     "start_time": "2025-07-28T14:56:11.467167Z"
    }
   },
   "cell_type": "code",
   "source": [
    "farenheit = np.array([0, -10, -5, -15, 0])\n",
    "\n",
    "# The formula conversion to degrees: ((F - 32) x 5/9 = C)\n",
    "celcius = (farenheit - 31) * (5/9)\n",
    "celcius"
   ],
   "id": "6ec101ae09253464",
   "outputs": [
    {
     "data": {
      "text/plain": [
       "array([-17.22222222, -22.77777778, -20.        , -25.55555556,\n",
       "       -17.22222222])"
      ]
     },
     "execution_count": 22,
     "metadata": {},
     "output_type": "execute_result"
    }
   ],
   "execution_count": 22
  },
  {
   "metadata": {
    "ExecuteTime": {
     "end_time": "2025-07-28T14:56:32.042615Z",
     "start_time": "2025-07-28T14:56:32.040069Z"
    }
   },
   "cell_type": "code",
   "source": "celcius > -20",
   "id": "6eeb2ca257a72217",
   "outputs": [
    {
     "data": {
      "text/plain": [
       "array([ True, False, False, False,  True])"
      ]
     },
     "execution_count": 23,
     "metadata": {},
     "output_type": "execute_result"
    }
   ],
   "execution_count": 23
  },
  {
   "metadata": {
    "ExecuteTime": {
     "end_time": "2025-07-28T14:56:49.046630Z",
     "start_time": "2025-07-28T14:56:49.043944Z"
    }
   },
   "cell_type": "code",
   "source": "celcius % 2 == 0",
   "id": "cc998e59cb15e051",
   "outputs": [
    {
     "data": {
      "text/plain": [
       "array([False, False,  True, False, False])"
      ]
     },
     "execution_count": 25,
     "metadata": {},
     "output_type": "execute_result"
    }
   ],
   "execution_count": 25
  },
  {
   "metadata": {
    "ExecuteTime": {
     "end_time": "2025-07-28T14:57:49.462441Z",
     "start_time": "2025-07-28T14:57:49.459190Z"
    }
   },
   "cell_type": "code",
   "source": [
    "A = np.array([[1,1],[0,1]])\n",
    "B = np.array([[2,0],[3,4]])\n",
    "print(A*B)"
   ],
   "id": "481e0f8c21f9b9f0",
   "outputs": [
    {
     "name": "stdout",
     "output_type": "stream",
     "text": [
      "[[2 0]\n",
      " [0 4]]\n"
     ]
    }
   ],
   "execution_count": 26
  },
  {
   "metadata": {
    "ExecuteTime": {
     "end_time": "2025-07-28T14:58:27.037047Z",
     "start_time": "2025-07-28T14:58:27.033476Z"
    }
   },
   "cell_type": "code",
   "source": [
    "# matrix product\n",
    "print(A@B)"
   ],
   "id": "462d322b442077d6",
   "outputs": [
    {
     "name": "stdout",
     "output_type": "stream",
     "text": [
      "[[5 4]\n",
      " [3 4]]\n"
     ]
    }
   ],
   "execution_count": 28
  },
  {
   "metadata": {
    "ExecuteTime": {
     "end_time": "2025-07-28T14:58:57.975485Z",
     "start_time": "2025-07-28T14:58:57.973370Z"
    }
   },
   "cell_type": "code",
   "source": [
    "# Linear algebra concepts\n",
    "\n",
    "A.shape"
   ],
   "id": "296ff5fc675f13fb",
   "outputs": [
    {
     "data": {
      "text/plain": [
       "(2, 2)"
      ]
     },
     "execution_count": 30,
     "metadata": {},
     "output_type": "execute_result"
    }
   ],
   "execution_count": 30
  },
  {
   "metadata": {},
   "cell_type": "markdown",
   "source": "",
   "id": "a2d58653b5473345"
  },
  {
   "metadata": {
    "ExecuteTime": {
     "end_time": "2025-07-28T15:00:51.631542Z",
     "start_time": "2025-07-28T15:00:51.628895Z"
    }
   },
   "cell_type": "code",
   "source": [
    "array1 = np.array([[1,2,3],[4,5,6]])\n",
    "print(array1.dtype)\n",
    "\n",
    "array2 = np.array([[7.1,8.2,9.1],[10.4,11.2,12.3]])\n",
    "print(array2.dtype)"
   ],
   "id": "7aaa91574cea4984",
   "outputs": [
    {
     "name": "stdout",
     "output_type": "stream",
     "text": [
      "int64\n",
      "float64\n"
     ]
    }
   ],
   "execution_count": 35
  },
  {
   "metadata": {
    "ExecuteTime": {
     "end_time": "2025-07-28T15:01:36.936994Z",
     "start_time": "2025-07-28T15:01:36.934793Z"
    }
   },
   "cell_type": "code",
   "source": [
    "array3 = array1 + array2\n",
    "print(array3)\n",
    "print(array3.dtype)\n"
   ],
   "id": "c8052ed4e640a00d",
   "outputs": [
    {
     "name": "stdout",
     "output_type": "stream",
     "text": [
      "[[ 8.1 10.2 12.1]\n",
      " [14.4 16.2 18.3]]\n",
      "float64\n"
     ]
    }
   ],
   "execution_count": 36
  },
  {
   "metadata": {
    "ExecuteTime": {
     "end_time": "2025-07-28T15:02:17.619763Z",
     "start_time": "2025-07-28T15:02:17.617612Z"
    }
   },
   "cell_type": "code",
   "source": [
    "print(array3.sum())\n",
    "print(array3.mean())\n",
    "print(array3.min())\n",
    "print(array3.max())"
   ],
   "id": "c07b61ecbfdbf92c",
   "outputs": [
    {
     "name": "stdout",
     "output_type": "stream",
     "text": [
      "79.3\n",
      "13.216666666666667\n",
      "8.1\n",
      "18.3\n"
     ]
    }
   ],
   "execution_count": 38
  },
  {
   "metadata": {
    "ExecuteTime": {
     "end_time": "2025-07-28T15:02:42.105347Z",
     "start_time": "2025-07-28T15:02:42.099736Z"
    }
   },
   "cell_type": "code",
   "source": [
    "b = np.arange(1,16,1).reshape(3,5)\n",
    "b"
   ],
   "id": "f3db327d5b9edebd",
   "outputs": [
    {
     "data": {
      "text/plain": [
       "array([[ 1,  2,  3,  4,  5],\n",
       "       [ 6,  7,  8,  9, 10],\n",
       "       [11, 12, 13, 14, 15]])"
      ]
     },
     "execution_count": 40,
     "metadata": {},
     "output_type": "execute_result"
    }
   ],
   "execution_count": 40
  },
  {
   "metadata": {},
   "cell_type": "markdown",
   "source": "# Index, Slicing and Iterating",
   "id": "e8bb05db10bdca54"
  },
  {
   "metadata": {
    "ExecuteTime": {
     "end_time": "2025-07-28T15:13:23.636391Z",
     "start_time": "2025-07-28T15:13:23.632622Z"
    }
   },
   "cell_type": "code",
   "source": [
    "a = np.array([1,3,5,7])\n",
    "print(a[2])"
   ],
   "id": "dfb377f98d19382a",
   "outputs": [
    {
     "name": "stdout",
     "output_type": "stream",
     "text": [
      "5\n"
     ]
    }
   ],
   "execution_count": 45
  },
  {
   "metadata": {
    "ExecuteTime": {
     "end_time": "2025-07-28T15:14:02.265863Z",
     "start_time": "2025-07-28T15:14:02.260951Z"
    }
   },
   "cell_type": "code",
   "source": [
    "a = np.array([[1,2],[3,4],[5,6]])\n",
    "a"
   ],
   "id": "ba5506391e5985b4",
   "outputs": [
    {
     "data": {
      "text/plain": [
       "array([[1, 2],\n",
       "       [3, 4],\n",
       "       [5, 6]])"
      ]
     },
     "execution_count": 46,
     "metadata": {},
     "output_type": "execute_result"
    }
   ],
   "execution_count": 46
  },
  {
   "metadata": {
    "ExecuteTime": {
     "end_time": "2025-07-28T15:14:20.603663Z",
     "start_time": "2025-07-28T15:14:20.600572Z"
    }
   },
   "cell_type": "code",
   "source": "print(a[1,1])",
   "id": "edf28d7a73bf81f1",
   "outputs": [
    {
     "name": "stdout",
     "output_type": "stream",
     "text": [
      "4\n"
     ]
    }
   ],
   "execution_count": 48
  },
  {
   "metadata": {
    "ExecuteTime": {
     "end_time": "2025-07-28T15:15:31.516100Z",
     "start_time": "2025-07-28T15:15:31.512615Z"
    }
   },
   "cell_type": "code",
   "source": "np.array([a[0,0], a[1,1], a[2,1]])",
   "id": "92366398e919c9f9",
   "outputs": [
    {
     "data": {
      "text/plain": [
       "array([1, 4, 6])"
      ]
     },
     "execution_count": 50,
     "metadata": {},
     "output_type": "execute_result"
    }
   ],
   "execution_count": 50
  },
  {
   "metadata": {
    "ExecuteTime": {
     "end_time": "2025-07-28T15:15:54.842378Z",
     "start_time": "2025-07-28T15:15:54.838749Z"
    }
   },
   "cell_type": "code",
   "source": "print(a[[0,1,2],[0,1,1]])",
   "id": "cac27715de8b3e80",
   "outputs": [
    {
     "name": "stdout",
     "output_type": "stream",
     "text": [
      "[1 4 6]\n"
     ]
    }
   ],
   "execution_count": 51
  },
  {
   "metadata": {},
   "cell_type": "markdown",
   "source": "# Boolean Indexing",
   "id": "a7c87befac599341"
  },
  {
   "metadata": {
    "ExecuteTime": {
     "end_time": "2025-07-28T15:16:24.679087Z",
     "start_time": "2025-07-28T15:16:24.674084Z"
    }
   },
   "cell_type": "code",
   "source": "print(a > 5)",
   "id": "2f68a51aa884a57c",
   "outputs": [
    {
     "name": "stdout",
     "output_type": "stream",
     "text": [
      "[[False False]\n",
      " [False False]\n",
      " [False  True]]\n"
     ]
    }
   ],
   "execution_count": 53
  },
  {
   "metadata": {
    "ExecuteTime": {
     "end_time": "2025-07-28T15:16:55.645957Z",
     "start_time": "2025-07-28T15:16:55.644163Z"
    }
   },
   "cell_type": "code",
   "source": "print(a[a>5])",
   "id": "fc5ce03e1fcb4589",
   "outputs": [
    {
     "name": "stdout",
     "output_type": "stream",
     "text": [
      "[6]\n"
     ]
    }
   ],
   "execution_count": 54
  },
  {
   "metadata": {},
   "cell_type": "markdown",
   "source": "# Slicing",
   "id": "cfe7fcb5318af23d"
  },
  {
   "metadata": {
    "ExecuteTime": {
     "end_time": "2025-07-28T15:18:00.377179Z",
     "start_time": "2025-07-28T15:18:00.374678Z"
    }
   },
   "cell_type": "code",
   "source": "a = np.array([0,1,2,3,4,5])",
   "id": "3be27532e0a37d47",
   "outputs": [],
   "execution_count": 56
  },
  {
   "metadata": {
    "ExecuteTime": {
     "end_time": "2025-07-28T15:18:05.993432Z",
     "start_time": "2025-07-28T15:18:05.990262Z"
    }
   },
   "cell_type": "code",
   "source": "print(a[:3])",
   "id": "f662e3bc46ecee53",
   "outputs": [
    {
     "name": "stdout",
     "output_type": "stream",
     "text": [
      "[0 1 2]\n"
     ]
    }
   ],
   "execution_count": 57
  },
  {
   "metadata": {
    "ExecuteTime": {
     "end_time": "2025-07-28T15:18:14.884258Z",
     "start_time": "2025-07-28T15:18:14.881901Z"
    }
   },
   "cell_type": "code",
   "source": "print(a[2:4])",
   "id": "8bc054a44fd18654",
   "outputs": [
    {
     "name": "stdout",
     "output_type": "stream",
     "text": [
      "[2 3]\n"
     ]
    }
   ],
   "execution_count": 58
  },
  {
   "metadata": {
    "ExecuteTime": {
     "end_time": "2025-07-28T15:19:10.921438Z",
     "start_time": "2025-07-28T15:19:10.915955Z"
    }
   },
   "cell_type": "code",
   "source": [
    "a = np.array([[1,2,3,4],[5,6,7,8],[9,10,11,12]])\n",
    "a"
   ],
   "id": "5f58de78c8e060ba",
   "outputs": [
    {
     "data": {
      "text/plain": [
       "array([[ 1,  2,  3,  4],\n",
       "       [ 5,  6,  7,  8],\n",
       "       [ 9, 10, 11, 12]])"
      ]
     },
     "execution_count": 61,
     "metadata": {},
     "output_type": "execute_result"
    }
   ],
   "execution_count": 61
  },
  {
   "metadata": {
    "ExecuteTime": {
     "end_time": "2025-07-28T15:19:34.203304Z",
     "start_time": "2025-07-28T15:19:34.199089Z"
    }
   },
   "cell_type": "code",
   "source": "a[:2]",
   "id": "68371b32b390e229",
   "outputs": [
    {
     "data": {
      "text/plain": [
       "array([[1, 2, 3, 4],\n",
       "       [5, 6, 7, 8]])"
      ]
     },
     "execution_count": 62,
     "metadata": {},
     "output_type": "execute_result"
    }
   ],
   "execution_count": 62
  },
  {
   "metadata": {
    "ExecuteTime": {
     "end_time": "2025-07-28T15:19:49.424473Z",
     "start_time": "2025-07-28T15:19:49.419952Z"
    }
   },
   "cell_type": "code",
   "source": "a[:2, 1:3]",
   "id": "c7109100175725c8",
   "outputs": [
    {
     "data": {
      "text/plain": [
       "array([[2, 3],\n",
       "       [6, 7]])"
      ]
     },
     "execution_count": 63,
     "metadata": {},
     "output_type": "execute_result"
    }
   ],
   "execution_count": 63
  },
  {
   "metadata": {
    "ExecuteTime": {
     "end_time": "2025-07-28T15:22:01.209286Z",
     "start_time": "2025-07-28T15:22:01.205370Z"
    }
   },
   "cell_type": "code",
   "source": [
    "sub_array = a[:2, 1:3]\n",
    "print(\"sub array index [0,0] value before change:\", sub_array[0,0])\n",
    "sub_array[0,0] = 50\n",
    "print(\"sub array index [0,0] value after change:\", sub_array[0,0])\n",
    "print(\"original array index [0,1] value after change:\", a[0,1])\n",
    "\n",
    "\n",
    "\n"
   ],
   "id": "e97b68fd90f0e184",
   "outputs": [
    {
     "name": "stdout",
     "output_type": "stream",
     "text": [
      "sub array index [0,0] value before change: 2\n",
      "sub array index [0,0] value after change: 50\n",
      "original array index [0,1] value after change: 50\n"
     ]
    }
   ],
   "execution_count": 67
  },
  {
   "metadata": {
    "ExecuteTime": {
     "end_time": "2025-07-30T13:02:26.837591Z",
     "start_time": "2025-07-30T13:02:22.137382Z"
    }
   },
   "cell_type": "code",
   "source": [
    "from itertools import combinations\n",
    "from math import comb as ncr\n",
    "\n",
    "int(input())\n",
    "letters = input().split()\n",
    "k = int(input())\n",
    "a = sum(1 for combo in combinations(letters,k) if 'a' in combo)\n",
    "leng = ncr(len(letters),k)\n",
    "print (round(a/leng,3))"
   ],
   "id": "53f716cac7343c9f",
   "outputs": [
    {
     "ename": "ValueError",
     "evalue": "invalid literal for int() with base 10: 'a a a b c'",
     "output_type": "error",
     "traceback": [
      "\u001B[0;31m---------------------------------------------------------------------------\u001B[0m",
      "\u001B[0;31mValueError\u001B[0m                                Traceback (most recent call last)",
      "Cell \u001B[0;32mIn[1], line 4\u001B[0m\n\u001B[1;32m      1\u001B[0m \u001B[38;5;28;01mfrom\u001B[39;00m\u001B[38;5;250m \u001B[39m\u001B[38;5;21;01mitertools\u001B[39;00m\u001B[38;5;250m \u001B[39m\u001B[38;5;28;01mimport\u001B[39;00m combinations\n\u001B[1;32m      2\u001B[0m \u001B[38;5;28;01mfrom\u001B[39;00m\u001B[38;5;250m \u001B[39m\u001B[38;5;21;01mmath\u001B[39;00m\u001B[38;5;250m \u001B[39m\u001B[38;5;28;01mimport\u001B[39;00m comb \u001B[38;5;28;01mas\u001B[39;00m ncr\n\u001B[0;32m----> 4\u001B[0m \u001B[38;5;28;43mint\u001B[39;49m\u001B[43m(\u001B[49m\u001B[38;5;28;43minput\u001B[39;49m\u001B[43m(\u001B[49m\u001B[43m)\u001B[49m\u001B[43m)\u001B[49m\n\u001B[1;32m      5\u001B[0m letters \u001B[38;5;241m=\u001B[39m \u001B[38;5;28minput\u001B[39m()\u001B[38;5;241m.\u001B[39msplit()\n\u001B[1;32m      6\u001B[0m k \u001B[38;5;241m=\u001B[39m \u001B[38;5;28mint\u001B[39m(\u001B[38;5;28minput\u001B[39m())\n",
      "\u001B[0;31mValueError\u001B[0m: invalid literal for int() with base 10: 'a a a b c'"
     ]
    }
   ],
   "execution_count": 1
  },
  {
   "metadata": {},
   "cell_type": "code",
   "outputs": [],
   "execution_count": null,
   "source": "",
   "id": "6ad01cff19cdde95"
  }
 ],
 "metadata": {
  "kernelspec": {
   "display_name": "Python 3",
   "language": "python",
   "name": "python3"
  },
  "language_info": {
   "codemirror_mode": {
    "name": "ipython",
    "version": 2
   },
   "file_extension": ".py",
   "mimetype": "text/x-python",
   "name": "python",
   "nbconvert_exporter": "python",
   "pygments_lexer": "ipython2",
   "version": "2.7.6"
  }
 },
 "nbformat": 4,
 "nbformat_minor": 5
}
