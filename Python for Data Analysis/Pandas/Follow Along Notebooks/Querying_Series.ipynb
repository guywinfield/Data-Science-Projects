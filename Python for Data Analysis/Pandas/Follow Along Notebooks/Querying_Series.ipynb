{
 "cells": [
  {
   "cell_type": "code",
   "id": "initial_id",
   "metadata": {
    "collapsed": true,
    "ExecuteTime": {
     "end_time": "2025-08-04T09:59:29.778589Z",
     "start_time": "2025-08-04T09:59:29.573207Z"
    }
   },
   "source": [
    "import pandas as pd\n",
    "\n",
    "student_classes= {\"Alice\": \"Physics\",\"Jack\": \"Chemistry\",\"Molly\": \"English\", \"Sam\":\"History\"}\n",
    "\n",
    "s = pd.Series(student_classes)\n",
    "s\n"
   ],
   "outputs": [
    {
     "data": {
      "text/plain": [
       "Alice      Physics\n",
       "Jack     Chemistry\n",
       "Molly      English\n",
       "Sam        History\n",
       "dtype: object"
      ]
     },
     "execution_count": 1,
     "metadata": {},
     "output_type": "execute_result"
    }
   ],
   "execution_count": 1
  },
  {
   "metadata": {
    "ExecuteTime": {
     "end_time": "2025-08-04T09:59:39.563394Z",
     "start_time": "2025-08-04T09:59:39.558991Z"
    }
   },
   "cell_type": "code",
   "source": "s.iloc[3]",
   "id": "d7a7cdc477f5e3eb",
   "outputs": [
    {
     "data": {
      "text/plain": [
       "'History'"
      ]
     },
     "execution_count": 2,
     "metadata": {},
     "output_type": "execute_result"
    }
   ],
   "execution_count": 2
  },
  {
   "metadata": {
    "ExecuteTime": {
     "end_time": "2025-08-04T10:00:13.309220Z",
     "start_time": "2025-08-04T10:00:13.305149Z"
    }
   },
   "cell_type": "code",
   "source": "s.loc[\"Molly\"]",
   "id": "f37e2774b6d838e3",
   "outputs": [
    {
     "data": {
      "text/plain": [
       "'English'"
      ]
     },
     "execution_count": 4,
     "metadata": {},
     "output_type": "execute_result"
    }
   ],
   "execution_count": 4
  },
  {
   "metadata": {
    "ExecuteTime": {
     "end_time": "2025-08-04T10:00:58.077581Z",
     "start_time": "2025-08-04T10:00:58.073075Z"
    }
   },
   "cell_type": "code",
   "source": "s[3]",
   "id": "ca9cc6e15fd62c30",
   "outputs": [
    {
     "name": "stderr",
     "output_type": "stream",
     "text": [
      "/var/folders/kn/24kjgmss2yzfjngp_zf6x8vr0000gn/T/ipykernel_2985/3028526611.py:1: FutureWarning: Series.__getitem__ treating keys as positions is deprecated. In a future version, integer keys will always be treated as labels (consistent with DataFrame behavior). To access a value by position, use `ser.iloc[pos]`\n",
      "  s[3]\n"
     ]
    },
    {
     "data": {
      "text/plain": [
       "'History'"
      ]
     },
     "execution_count": 5,
     "metadata": {},
     "output_type": "execute_result"
    }
   ],
   "execution_count": 5
  },
  {
   "metadata": {
    "ExecuteTime": {
     "end_time": "2025-08-04T10:01:12.795286Z",
     "start_time": "2025-08-04T10:01:12.790830Z"
    }
   },
   "cell_type": "code",
   "source": "s[\"Molly\"]",
   "id": "8483f006a280e2fc",
   "outputs": [
    {
     "data": {
      "text/plain": [
       "'English'"
      ]
     },
     "execution_count": 6,
     "metadata": {},
     "output_type": "execute_result"
    }
   ],
   "execution_count": 6
  },
  {
   "metadata": {
    "ExecuteTime": {
     "end_time": "2025-08-04T10:02:26.659228Z",
     "start_time": "2025-08-04T10:02:26.654915Z"
    }
   },
   "cell_type": "code",
   "source": [
    "class_code = {99: \"Physics\", 100: \"Chemistry\", 101: \"English\", 102: \"History\"}\n",
    "\n",
    "s = pd.Series(class_code)"
   ],
   "id": "6ebf352fa543acf6",
   "outputs": [],
   "execution_count": 8
  },
  {
   "metadata": {
    "ExecuteTime": {
     "end_time": "2025-08-04T10:02:50.647454Z",
     "start_time": "2025-08-04T10:02:50.602748Z"
    }
   },
   "cell_type": "code",
   "source": "s[0]",
   "id": "9708b575c9fb1bf9",
   "outputs": [
    {
     "ename": "KeyError",
     "evalue": "0",
     "output_type": "error",
     "traceback": [
      "\u001B[0;31m---------------------------------------------------------------------------\u001B[0m",
      "\u001B[0;31mKeyError\u001B[0m                                  Traceback (most recent call last)",
      "File \u001B[0;32m~/Library/Python/3.9/lib/python/site-packages/pandas/core/indexes/base.py:3812\u001B[0m, in \u001B[0;36mIndex.get_loc\u001B[0;34m(self, key)\u001B[0m\n\u001B[1;32m   3811\u001B[0m \u001B[38;5;28;01mtry\u001B[39;00m:\n\u001B[0;32m-> 3812\u001B[0m     \u001B[38;5;28;01mreturn\u001B[39;00m \u001B[38;5;28;43mself\u001B[39;49m\u001B[38;5;241;43m.\u001B[39;49m\u001B[43m_engine\u001B[49m\u001B[38;5;241;43m.\u001B[39;49m\u001B[43mget_loc\u001B[49m\u001B[43m(\u001B[49m\u001B[43mcasted_key\u001B[49m\u001B[43m)\u001B[49m\n\u001B[1;32m   3813\u001B[0m \u001B[38;5;28;01mexcept\u001B[39;00m \u001B[38;5;167;01mKeyError\u001B[39;00m \u001B[38;5;28;01mas\u001B[39;00m err:\n",
      "File \u001B[0;32mpandas/_libs/index.pyx:167\u001B[0m, in \u001B[0;36mpandas._libs.index.IndexEngine.get_loc\u001B[0;34m()\u001B[0m\n",
      "File \u001B[0;32mpandas/_libs/index.pyx:196\u001B[0m, in \u001B[0;36mpandas._libs.index.IndexEngine.get_loc\u001B[0;34m()\u001B[0m\n",
      "File \u001B[0;32mpandas/_libs/hashtable_class_helper.pxi:2606\u001B[0m, in \u001B[0;36mpandas._libs.hashtable.Int64HashTable.get_item\u001B[0;34m()\u001B[0m\n",
      "File \u001B[0;32mpandas/_libs/hashtable_class_helper.pxi:2630\u001B[0m, in \u001B[0;36mpandas._libs.hashtable.Int64HashTable.get_item\u001B[0;34m()\u001B[0m\n",
      "\u001B[0;31mKeyError\u001B[0m: 0",
      "\nThe above exception was the direct cause of the following exception:\n",
      "\u001B[0;31mKeyError\u001B[0m                                  Traceback (most recent call last)",
      "Cell \u001B[0;32mIn[11], line 1\u001B[0m\n\u001B[0;32m----> 1\u001B[0m \u001B[43ms\u001B[49m\u001B[43m[\u001B[49m\u001B[38;5;241;43m0\u001B[39;49m\u001B[43m]\u001B[49m\n",
      "File \u001B[0;32m~/Library/Python/3.9/lib/python/site-packages/pandas/core/series.py:1130\u001B[0m, in \u001B[0;36mSeries.__getitem__\u001B[0;34m(self, key)\u001B[0m\n\u001B[1;32m   1127\u001B[0m     \u001B[38;5;28;01mreturn\u001B[39;00m \u001B[38;5;28mself\u001B[39m\u001B[38;5;241m.\u001B[39m_values[key]\n\u001B[1;32m   1129\u001B[0m \u001B[38;5;28;01melif\u001B[39;00m key_is_scalar:\n\u001B[0;32m-> 1130\u001B[0m     \u001B[38;5;28;01mreturn\u001B[39;00m \u001B[38;5;28;43mself\u001B[39;49m\u001B[38;5;241;43m.\u001B[39;49m\u001B[43m_get_value\u001B[49m\u001B[43m(\u001B[49m\u001B[43mkey\u001B[49m\u001B[43m)\u001B[49m\n\u001B[1;32m   1132\u001B[0m \u001B[38;5;66;03m# Convert generator to list before going through hashable part\u001B[39;00m\n\u001B[1;32m   1133\u001B[0m \u001B[38;5;66;03m# (We will iterate through the generator there to check for slices)\u001B[39;00m\n\u001B[1;32m   1134\u001B[0m \u001B[38;5;28;01mif\u001B[39;00m is_iterator(key):\n",
      "File \u001B[0;32m~/Library/Python/3.9/lib/python/site-packages/pandas/core/series.py:1246\u001B[0m, in \u001B[0;36mSeries._get_value\u001B[0;34m(self, label, takeable)\u001B[0m\n\u001B[1;32m   1243\u001B[0m     \u001B[38;5;28;01mreturn\u001B[39;00m \u001B[38;5;28mself\u001B[39m\u001B[38;5;241m.\u001B[39m_values[label]\n\u001B[1;32m   1245\u001B[0m \u001B[38;5;66;03m# Similar to Index.get_value, but we do not fall back to positional\u001B[39;00m\n\u001B[0;32m-> 1246\u001B[0m loc \u001B[38;5;241m=\u001B[39m \u001B[38;5;28;43mself\u001B[39;49m\u001B[38;5;241;43m.\u001B[39;49m\u001B[43mindex\u001B[49m\u001B[38;5;241;43m.\u001B[39;49m\u001B[43mget_loc\u001B[49m\u001B[43m(\u001B[49m\u001B[43mlabel\u001B[49m\u001B[43m)\u001B[49m\n\u001B[1;32m   1248\u001B[0m \u001B[38;5;28;01mif\u001B[39;00m is_integer(loc):\n\u001B[1;32m   1249\u001B[0m     \u001B[38;5;28;01mreturn\u001B[39;00m \u001B[38;5;28mself\u001B[39m\u001B[38;5;241m.\u001B[39m_values[loc]\n",
      "File \u001B[0;32m~/Library/Python/3.9/lib/python/site-packages/pandas/core/indexes/base.py:3819\u001B[0m, in \u001B[0;36mIndex.get_loc\u001B[0;34m(self, key)\u001B[0m\n\u001B[1;32m   3814\u001B[0m     \u001B[38;5;28;01mif\u001B[39;00m \u001B[38;5;28misinstance\u001B[39m(casted_key, \u001B[38;5;28mslice\u001B[39m) \u001B[38;5;129;01mor\u001B[39;00m (\n\u001B[1;32m   3815\u001B[0m         \u001B[38;5;28misinstance\u001B[39m(casted_key, abc\u001B[38;5;241m.\u001B[39mIterable)\n\u001B[1;32m   3816\u001B[0m         \u001B[38;5;129;01mand\u001B[39;00m \u001B[38;5;28many\u001B[39m(\u001B[38;5;28misinstance\u001B[39m(x, \u001B[38;5;28mslice\u001B[39m) \u001B[38;5;28;01mfor\u001B[39;00m x \u001B[38;5;129;01min\u001B[39;00m casted_key)\n\u001B[1;32m   3817\u001B[0m     ):\n\u001B[1;32m   3818\u001B[0m         \u001B[38;5;28;01mraise\u001B[39;00m InvalidIndexError(key)\n\u001B[0;32m-> 3819\u001B[0m     \u001B[38;5;28;01mraise\u001B[39;00m \u001B[38;5;167;01mKeyError\u001B[39;00m(key) \u001B[38;5;28;01mfrom\u001B[39;00m\u001B[38;5;250m \u001B[39m\u001B[38;5;21;01merr\u001B[39;00m\n\u001B[1;32m   3820\u001B[0m \u001B[38;5;28;01mexcept\u001B[39;00m \u001B[38;5;167;01mTypeError\u001B[39;00m:\n\u001B[1;32m   3821\u001B[0m     \u001B[38;5;66;03m# If we have a listlike key, _check_indexing_error will raise\u001B[39;00m\n\u001B[1;32m   3822\u001B[0m     \u001B[38;5;66;03m#  InvalidIndexError. Otherwise we fall through and re-raise\u001B[39;00m\n\u001B[1;32m   3823\u001B[0m     \u001B[38;5;66;03m#  the TypeError.\u001B[39;00m\n\u001B[1;32m   3824\u001B[0m     \u001B[38;5;28mself\u001B[39m\u001B[38;5;241m.\u001B[39m_check_indexing_error(key)\n",
      "\u001B[0;31mKeyError\u001B[0m: 0"
     ]
    }
   ],
   "execution_count": 11
  },
  {
   "metadata": {
    "ExecuteTime": {
     "end_time": "2025-08-04T10:03:53.596989Z",
     "start_time": "2025-08-04T10:03:53.593387Z"
    }
   },
   "cell_type": "code",
   "source": [
    "grades = pd.Series([90,80,70,60])\n",
    "\n",
    "total = 0\n",
    "for grade in grades:\n",
    "    total += grade\n",
    "print(total/len(grades))"
   ],
   "id": "3646d772f3aa61e",
   "outputs": [
    {
     "name": "stdout",
     "output_type": "stream",
     "text": [
      "75.0\n"
     ]
    }
   ],
   "execution_count": 12
  },
  {
   "metadata": {
    "ExecuteTime": {
     "end_time": "2025-08-04T10:04:34.142526Z",
     "start_time": "2025-08-04T10:04:34.139183Z"
    }
   },
   "cell_type": "code",
   "source": [
    "import numpy as np\n",
    "\n",
    "total = np.sum(grades)\n",
    "print(total/len(grades))"
   ],
   "id": "344e1052e1f0fbbe",
   "outputs": [
    {
     "name": "stdout",
     "output_type": "stream",
     "text": [
      "75.0\n"
     ]
    }
   ],
   "execution_count": 15
  },
  {
   "metadata": {
    "ExecuteTime": {
     "end_time": "2025-08-04T10:05:15.406703Z",
     "start_time": "2025-08-04T10:05:15.401365Z"
    }
   },
   "cell_type": "code",
   "source": "numbers = pd.Series(np.random.randint(0,1000,10000))",
   "id": "97f562fe7c7841e3",
   "outputs": [],
   "execution_count": 16
  },
  {
   "metadata": {
    "ExecuteTime": {
     "end_time": "2025-08-04T10:05:18.677775Z",
     "start_time": "2025-08-04T10:05:18.673022Z"
    }
   },
   "cell_type": "code",
   "source": "numbers.head()",
   "id": "db0dfe8b1c55218a",
   "outputs": [
    {
     "data": {
      "text/plain": [
       "0     58\n",
       "1      7\n",
       "2    793\n",
       "3    127\n",
       "4    983\n",
       "dtype: int64"
      ]
     },
     "execution_count": 17,
     "metadata": {},
     "output_type": "execute_result"
    }
   ],
   "execution_count": 17
  },
  {
   "metadata": {
    "ExecuteTime": {
     "end_time": "2025-08-04T10:05:30.983796Z",
     "start_time": "2025-08-04T10:05:30.981345Z"
    }
   },
   "cell_type": "code",
   "source": "len(numbers)",
   "id": "4d23b7d256f484db",
   "outputs": [
    {
     "data": {
      "text/plain": [
       "10000"
      ]
     },
     "execution_count": 18,
     "metadata": {},
     "output_type": "execute_result"
    }
   ],
   "execution_count": 18
  },
  {
   "metadata": {
    "ExecuteTime": {
     "end_time": "2025-08-04T10:06:55.370610Z",
     "start_time": "2025-08-04T10:06:54.928156Z"
    }
   },
   "cell_type": "code",
   "source": [
    "%%timeit -n 100\n",
    "\n",
    "total = 0\n",
    "for number in numbers:\n",
    "    total+=number\n",
    "total/len(numbers)"
   ],
   "id": "77038056b118d6e1",
   "outputs": [
    {
     "name": "stdout",
     "output_type": "stream",
     "text": [
      "626 µs ± 53.1 µs per loop (mean ± std. dev. of 7 runs, 100 loops each)\n"
     ]
    }
   ],
   "execution_count": 19
  },
  {
   "metadata": {
    "ExecuteTime": {
     "end_time": "2025-08-04T10:07:20.325352Z",
     "start_time": "2025-08-04T10:07:20.310681Z"
    }
   },
   "cell_type": "code",
   "source": [
    "%%timeit -n 100\n",
    "\n",
    "total= np.sum(numbers)\n",
    "total/len(numbers)"
   ],
   "id": "b25bd65edf3618b0",
   "outputs": [
    {
     "name": "stdout",
     "output_type": "stream",
     "text": [
      "16.5 µs ± 1.7 µs per loop (mean ± std. dev. of 7 runs, 100 loops each)\n"
     ]
    }
   ],
   "execution_count": 20
  },
  {
   "metadata": {
    "ExecuteTime": {
     "end_time": "2025-08-04T10:08:07.415127Z",
     "start_time": "2025-08-04T10:08:07.410514Z"
    }
   },
   "cell_type": "code",
   "source": "numbers.head()",
   "id": "5891337e626fe72e",
   "outputs": [
    {
     "data": {
      "text/plain": [
       "0     58\n",
       "1      7\n",
       "2    793\n",
       "3    127\n",
       "4    983\n",
       "dtype: int64"
      ]
     },
     "execution_count": 22,
     "metadata": {},
     "output_type": "execute_result"
    }
   ],
   "execution_count": 22
  },
  {
   "metadata": {
    "ExecuteTime": {
     "end_time": "2025-08-04T10:08:12.662959Z",
     "start_time": "2025-08-04T10:08:12.660736Z"
    }
   },
   "cell_type": "code",
   "source": "numbers+=2",
   "id": "bf9991cdbdf9084b",
   "outputs": [],
   "execution_count": 23
  },
  {
   "metadata": {
    "ExecuteTime": {
     "end_time": "2025-08-04T10:08:16.973972Z",
     "start_time": "2025-08-04T10:08:16.968946Z"
    }
   },
   "cell_type": "code",
   "source": "numbers.head()",
   "id": "cee0a239733e703d",
   "outputs": [
    {
     "data": {
      "text/plain": [
       "0     60\n",
       "1      9\n",
       "2    795\n",
       "3    129\n",
       "4    985\n",
       "dtype: int64"
      ]
     },
     "execution_count": 24,
     "metadata": {},
     "output_type": "execute_result"
    }
   ],
   "execution_count": 24
  },
  {
   "metadata": {
    "ExecuteTime": {
     "end_time": "2025-08-04T10:09:15.281215Z",
     "start_time": "2025-08-04T10:09:15.266977Z"
    }
   },
   "cell_type": "code",
   "source": [
    "for label, value in numbers.iteritems():\n",
    "    numbers.set_value(label, value+2)\n",
    "numbers.head()"
   ],
   "id": "d44f30979e3ff6c5",
   "outputs": [
    {
     "ename": "AttributeError",
     "evalue": "'Series' object has no attribute 'iteritems'",
     "output_type": "error",
     "traceback": [
      "\u001B[0;31m---------------------------------------------------------------------------\u001B[0m",
      "\u001B[0;31mAttributeError\u001B[0m                            Traceback (most recent call last)",
      "\u001B[0;32m/var/folders/kn/24kjgmss2yzfjngp_zf6x8vr0000gn/T/ipykernel_2985/3730143902.py\u001B[0m in \u001B[0;36m?\u001B[0;34m()\u001B[0m\n\u001B[0;32m----> 1\u001B[0;31m \u001B[0;32mfor\u001B[0m \u001B[0mlabel\u001B[0m\u001B[0;34m,\u001B[0m \u001B[0mvalue\u001B[0m \u001B[0;32min\u001B[0m \u001B[0mnumbers\u001B[0m\u001B[0;34m.\u001B[0m\u001B[0miteritems\u001B[0m\u001B[0;34m(\u001B[0m\u001B[0;34m)\u001B[0m\u001B[0;34m:\u001B[0m\u001B[0;34m\u001B[0m\u001B[0;34m\u001B[0m\u001B[0m\n\u001B[0m\u001B[1;32m      2\u001B[0m     \u001B[0mnumbers\u001B[0m\u001B[0;34m.\u001B[0m\u001B[0mset_value\u001B[0m\u001B[0;34m(\u001B[0m\u001B[0mlabel\u001B[0m\u001B[0;34m,\u001B[0m \u001B[0mvalue\u001B[0m\u001B[0;34m+\u001B[0m\u001B[0;36m2\u001B[0m\u001B[0;34m)\u001B[0m\u001B[0;34m\u001B[0m\u001B[0;34m\u001B[0m\u001B[0m\n\u001B[1;32m      3\u001B[0m \u001B[0mnumbers\u001B[0m\u001B[0;34m.\u001B[0m\u001B[0mhead\u001B[0m\u001B[0;34m(\u001B[0m\u001B[0;34m)\u001B[0m\u001B[0;34m\u001B[0m\u001B[0;34m\u001B[0m\u001B[0m\n",
      "\u001B[0;32m~/Library/Python/3.9/lib/python/site-packages/pandas/core/generic.py\u001B[0m in \u001B[0;36m?\u001B[0;34m(self, name)\u001B[0m\n\u001B[1;32m   6314\u001B[0m             \u001B[0;32mand\u001B[0m \u001B[0mname\u001B[0m \u001B[0;32mnot\u001B[0m \u001B[0;32min\u001B[0m \u001B[0mself\u001B[0m\u001B[0;34m.\u001B[0m\u001B[0m_accessors\u001B[0m\u001B[0;34m\u001B[0m\u001B[0;34m\u001B[0m\u001B[0m\n\u001B[1;32m   6315\u001B[0m             \u001B[0;32mand\u001B[0m \u001B[0mself\u001B[0m\u001B[0;34m.\u001B[0m\u001B[0m_info_axis\u001B[0m\u001B[0;34m.\u001B[0m\u001B[0m_can_hold_identifiers_and_holds_name\u001B[0m\u001B[0;34m(\u001B[0m\u001B[0mname\u001B[0m\u001B[0;34m)\u001B[0m\u001B[0;34m\u001B[0m\u001B[0;34m\u001B[0m\u001B[0m\n\u001B[1;32m   6316\u001B[0m         ):\n\u001B[1;32m   6317\u001B[0m             \u001B[0;32mreturn\u001B[0m \u001B[0mself\u001B[0m\u001B[0;34m[\u001B[0m\u001B[0mname\u001B[0m\u001B[0;34m]\u001B[0m\u001B[0;34m\u001B[0m\u001B[0;34m\u001B[0m\u001B[0m\n\u001B[0;32m-> 6318\u001B[0;31m         \u001B[0;32mreturn\u001B[0m \u001B[0mobject\u001B[0m\u001B[0;34m.\u001B[0m\u001B[0m__getattribute__\u001B[0m\u001B[0;34m(\u001B[0m\u001B[0mself\u001B[0m\u001B[0;34m,\u001B[0m \u001B[0mname\u001B[0m\u001B[0;34m)\u001B[0m\u001B[0;34m\u001B[0m\u001B[0;34m\u001B[0m\u001B[0m\n\u001B[0m",
      "\u001B[0;31mAttributeError\u001B[0m: 'Series' object has no attribute 'iteritems'"
     ]
    }
   ],
   "execution_count": 26
  },
  {
   "metadata": {
    "ExecuteTime": {
     "end_time": "2025-08-04T10:11:50.914676Z",
     "start_time": "2025-08-04T10:11:50.904041Z"
    }
   },
   "cell_type": "code",
   "source": [
    "%%timeit -n 10\n",
    "\n",
    "s = pd.Series(np.random.randint(0,1000,1000))\n",
    "\n",
    "for label, value in s.iteritems():\n",
    "    s.loc[label]= value+2"
   ],
   "id": "9becf73dd28302f0",
   "outputs": [
    {
     "name": "stdout",
     "output_type": "stream",
     "text": [
      "Unexpected exception formatting exception. Falling back to standard exception\n"
     ]
    },
    {
     "name": "stderr",
     "output_type": "stream",
     "text": [
      "Traceback (most recent call last):\n",
      "  File \"/Users/guywinfield/Library/Python/3.9/lib/python/site-packages/IPython/core/interactiveshell.py\", line 3550, in run_code\n",
      "    exec(code_obj, self.user_global_ns, self.user_ns)\n",
      "  File \"/var/folders/kn/24kjgmss2yzfjngp_zf6x8vr0000gn/T/ipykernel_2985/1136173210.py\", line 1, in <module>\n",
      "    get_ipython().run_cell_magic('timeit', '-n 10', '\\ns = pd.Series(np.random.randint(0,1000,1000))\\n\\nfor label, value in s.iteritems():\\n    s.loc[label]= value+2\\n')\n",
      "  File \"/Users/guywinfield/Library/Python/3.9/lib/python/site-packages/IPython/core/interactiveshell.py\", line 2517, in run_cell_magic\n",
      "    result = fn(*args, **kwargs)\n",
      "  File \"/Users/guywinfield/Library/Python/3.9/lib/python/site-packages/IPython/core/magics/execution.py\", line 1189, in timeit\n",
      "    all_runs = timer.repeat(repeat, number)\n",
      "  File \"/Library/Developer/CommandLineTools/Library/Frameworks/Python3.framework/Versions/3.9/lib/python3.9/timeit.py\", line 205, in repeat\n",
      "    t = self.timeit(number)\n",
      "  File \"/Users/guywinfield/Library/Python/3.9/lib/python/site-packages/IPython/core/magics/execution.py\", line 173, in timeit\n",
      "    timing = self.inner(it, self.timer)\n",
      "  File \"<magic-timeit>\", line 3, in inner\n",
      "  File \"/Users/guywinfield/Library/Python/3.9/lib/python/site-packages/pandas/core/generic.py\", line 6318, in __getattr__\n",
      "    return object.__getattribute__(self, name)\n",
      "AttributeError: 'Series' object has no attribute 'iteritems'\n",
      "\n",
      "During handling of the above exception, another exception occurred:\n",
      "\n",
      "Traceback (most recent call last):\n",
      "  File \"/Users/guywinfield/Library/Python/3.9/lib/python/site-packages/IPython/core/interactiveshell.py\", line 2144, in showtraceback\n",
      "    stb = self.InteractiveTB.structured_traceback(\n",
      "  File \"/Users/guywinfield/Library/Python/3.9/lib/python/site-packages/IPython/core/ultratb.py\", line 1435, in structured_traceback\n",
      "    return FormattedTB.structured_traceback(\n",
      "  File \"/Users/guywinfield/Library/Python/3.9/lib/python/site-packages/IPython/core/ultratb.py\", line 1326, in structured_traceback\n",
      "    return VerboseTB.structured_traceback(\n",
      "  File \"/Users/guywinfield/Library/Python/3.9/lib/python/site-packages/IPython/core/ultratb.py\", line 1173, in structured_traceback\n",
      "    formatted_exception = self.format_exception_as_a_whole(etype, evalue, etb, number_of_lines_of_context,\n",
      "  File \"/Users/guywinfield/Library/Python/3.9/lib/python/site-packages/IPython/core/ultratb.py\", line 1063, in format_exception_as_a_whole\n",
      "    self.get_records(etb, number_of_lines_of_context, tb_offset) if etb else []\n",
      "  File \"/Users/guywinfield/Library/Python/3.9/lib/python/site-packages/IPython/core/ultratb.py\", line 1155, in get_records\n",
      "    FrameInfo(\n",
      "  File \"/Users/guywinfield/Library/Python/3.9/lib/python/site-packages/IPython/core/ultratb.py\", line 780, in __init__\n",
      "    ix = inspect.getsourcelines(frame)\n",
      "  File \"/Library/Developer/CommandLineTools/Library/Frameworks/Python3.framework/Versions/3.9/lib/python3.9/inspect.py\", line 1006, in getsourcelines\n",
      "    lines, lnum = findsource(object)\n",
      "  File \"/Library/Developer/CommandLineTools/Library/Frameworks/Python3.framework/Versions/3.9/lib/python3.9/inspect.py\", line 835, in findsource\n",
      "    raise OSError('could not get source code')\n",
      "OSError: could not get source code\n"
     ]
    }
   ],
   "execution_count": 30
  },
  {
   "metadata": {
    "ExecuteTime": {
     "end_time": "2025-08-04T10:12:23.292385Z",
     "start_time": "2025-08-04T10:12:23.284196Z"
    }
   },
   "cell_type": "code",
   "source": [
    "%%timeit -n 10\n",
    "\n",
    "s = pd.Series(np.random.randint(0,1000,1000))\n",
    "\n",
    "s+=2"
   ],
   "id": "74eacca97f8b964d",
   "outputs": [
    {
     "name": "stdout",
     "output_type": "stream",
     "text": [
      "85.2 µs ± 19.3 µs per loop (mean ± std. dev. of 7 runs, 10 loops each)\n"
     ]
    }
   ],
   "execution_count": 31
  },
  {
   "metadata": {
    "ExecuteTime": {
     "end_time": "2025-08-04T10:13:29.595357Z",
     "start_time": "2025-08-04T10:13:29.590544Z"
    }
   },
   "cell_type": "code",
   "source": [
    "s = pd.Series([1,2,3])\n",
    "\n",
    "s.loc[\"History\"] = 102\n",
    "s"
   ],
   "id": "858ea8d78029b2d9",
   "outputs": [
    {
     "data": {
      "text/plain": [
       "0            1\n",
       "1            2\n",
       "2            3\n",
       "History    102\n",
       "dtype: int64"
      ]
     },
     "execution_count": 32,
     "metadata": {},
     "output_type": "execute_result"
    }
   ],
   "execution_count": 32
  },
  {
   "metadata": {
    "ExecuteTime": {
     "end_time": "2025-08-04T10:16:02.799665Z",
     "start_time": "2025-08-04T10:16:02.794082Z"
    }
   },
   "cell_type": "code",
   "source": [
    "student_classes = pd.Series({\"Alice\": \"Physics\",\"Jack\":\"Chemistry\",\"Molly\":\"English\",\"Sam\":\"History\"})\n",
    "\n",
    "student_classes"
   ],
   "id": "a409b67f5e8b6b26",
   "outputs": [
    {
     "data": {
      "text/plain": [
       "Alice      Physics\n",
       "Jack     Chemistry\n",
       "Molly      English\n",
       "Sam        History\n",
       "dtype: object"
      ]
     },
     "execution_count": 38,
     "metadata": {},
     "output_type": "execute_result"
    }
   ],
   "execution_count": 38
  },
  {
   "metadata": {
    "ExecuteTime": {
     "end_time": "2025-08-04T10:17:01.206849Z",
     "start_time": "2025-08-04T10:17:01.200498Z"
    }
   },
   "cell_type": "code",
   "source": [
    "kelly_classes = pd.Series([\"Philosophy\",\"Arts\",\"Math\"], index=[\"Kelly\",\"Kelly\",\"Kelly\"])\n",
    "kelly_classes"
   ],
   "id": "281fb0446be328",
   "outputs": [
    {
     "data": {
      "text/plain": [
       "Kelly    Philosophy\n",
       "Kelly          Arts\n",
       "Kelly          Math\n",
       "dtype: object"
      ]
     },
     "execution_count": 40,
     "metadata": {},
     "output_type": "execute_result"
    }
   ],
   "execution_count": 40
  },
  {
   "metadata": {
    "ExecuteTime": {
     "end_time": "2025-08-04T10:17:55.970787Z",
     "start_time": "2025-08-04T10:17:55.964379Z"
    }
   },
   "cell_type": "code",
   "source": "student_classes",
   "id": "39a9416441d70cd7",
   "outputs": [
    {
     "data": {
      "text/plain": [
       "Alice      Physics\n",
       "Jack     Chemistry\n",
       "Molly      English\n",
       "Sam        History\n",
       "dtype: object"
      ]
     },
     "execution_count": 43,
     "metadata": {},
     "output_type": "execute_result"
    }
   ],
   "execution_count": 43
  },
  {
   "metadata": {
    "ExecuteTime": {
     "end_time": "2025-08-04T10:18:01.732401Z",
     "start_time": "2025-08-04T10:18:01.727593Z"
    }
   },
   "cell_type": "code",
   "source": "kelly_classes",
   "id": "6283ac00c0ea7d31",
   "outputs": [
    {
     "data": {
      "text/plain": [
       "Kelly    Philosophy\n",
       "Kelly          Arts\n",
       "Kelly          Math\n",
       "dtype: object"
      ]
     },
     "execution_count": 44,
     "metadata": {},
     "output_type": "execute_result"
    }
   ],
   "execution_count": 44
  },
  {
   "metadata": {
    "ExecuteTime": {
     "end_time": "2025-08-04T10:19:26.342578Z",
     "start_time": "2025-08-04T10:19:26.339676Z"
    }
   },
   "cell_type": "code",
   "source": [
    "all_student_classes = pd.concat([student_classes, kelly_classes])\n",
    "\n",
    "all_student_classes"
   ],
   "id": "6a454ce132e60ca0",
   "outputs": [
    {
     "data": {
      "text/plain": [
       "Alice       Physics\n",
       "Jack      Chemistry\n",
       "Molly       English\n",
       "Sam         History\n",
       "Kelly    Philosophy\n",
       "Kelly          Arts\n",
       "Kelly          Math\n",
       "dtype: object"
      ]
     },
     "execution_count": 46,
     "metadata": {},
     "output_type": "execute_result"
    }
   ],
   "execution_count": 46
  },
  {
   "metadata": {
    "ExecuteTime": {
     "end_time": "2025-08-04T10:21:06.545849Z",
     "start_time": "2025-08-04T10:21:06.540295Z"
    }
   },
   "cell_type": "code",
   "source": "all_student_classes.loc[\"Kelly\"]",
   "id": "77cabce584c1bcd9",
   "outputs": [
    {
     "data": {
      "text/plain": [
       "Kelly    Philosophy\n",
       "Kelly          Arts\n",
       "Kelly          Math\n",
       "dtype: object"
      ]
     },
     "execution_count": 51,
     "metadata": {},
     "output_type": "execute_result"
    }
   ],
   "execution_count": 51
  },
  {
   "metadata": {},
   "cell_type": "code",
   "outputs": [],
   "execution_count": null,
   "source": "",
   "id": "cb6826f7fdba29fe"
  }
 ],
 "metadata": {
  "kernelspec": {
   "display_name": "Python 3",
   "language": "python",
   "name": "python3"
  },
  "language_info": {
   "codemirror_mode": {
    "name": "ipython",
    "version": 2
   },
   "file_extension": ".py",
   "mimetype": "text/x-python",
   "name": "python",
   "nbconvert_exporter": "python",
   "pygments_lexer": "ipython2",
   "version": "2.7.6"
  }
 },
 "nbformat": 4,
 "nbformat_minor": 5
}
