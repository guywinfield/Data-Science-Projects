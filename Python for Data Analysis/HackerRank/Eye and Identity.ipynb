{
 "cells": [
  {
   "cell_type": "code",
   "id": "initial_id",
   "metadata": {
    "collapsed": true,
    "ExecuteTime": {
     "end_time": "2025-08-06T10:06:36.150493Z",
     "start_time": "2025-08-06T10:06:36.146539Z"
    }
   },
   "source": [
    "import numpy as np\n",
    "np.set_printoptions(legacy='1.13')\n"
   ],
   "outputs": [],
   "execution_count": 9
  },
  {
   "metadata": {
    "ExecuteTime": {
     "end_time": "2025-08-06T10:06:36.650694Z",
     "start_time": "2025-08-06T10:06:36.648605Z"
    }
   },
   "cell_type": "code",
   "source": "print(np.identity(3)) #3 is for  dimension 3 X 3",
   "id": "c7f0c0865b134cbf",
   "outputs": [
    {
     "name": "stdout",
     "output_type": "stream",
     "text": [
      "[[ 1.  0.  0.]\n",
      " [ 0.  1.  0.]\n",
      " [ 0.  0.  1.]]\n"
     ]
    }
   ],
   "execution_count": 10
  },
  {
   "metadata": {
    "ExecuteTime": {
     "end_time": "2025-08-06T10:06:37.052186Z",
     "start_time": "2025-08-06T10:06:37.049669Z"
    }
   },
   "cell_type": "code",
   "source": "print(np.eye(8, 7, k = 1))",
   "id": "f33fb9841d1e23f",
   "outputs": [
    {
     "name": "stdout",
     "output_type": "stream",
     "text": [
      "[[ 0.  1.  0.  0.  0.  0.  0.]\n",
      " [ 0.  0.  1.  0.  0.  0.  0.]\n",
      " [ 0.  0.  0.  1.  0.  0.  0.]\n",
      " [ 0.  0.  0.  0.  1.  0.  0.]\n",
      " [ 0.  0.  0.  0.  0.  1.  0.]\n",
      " [ 0.  0.  0.  0.  0.  0.  1.]\n",
      " [ 0.  0.  0.  0.  0.  0.  0.]\n",
      " [ 0.  0.  0.  0.  0.  0.  0.]]\n"
     ]
    }
   ],
   "execution_count": 11
  },
  {
   "metadata": {
    "ExecuteTime": {
     "end_time": "2025-08-06T10:06:37.661411Z",
     "start_time": "2025-08-06T10:06:37.657574Z"
    }
   },
   "cell_type": "code",
   "source": "print(np.eye(8, 7, k = -2))",
   "id": "ea2ebaa24f9e9e3b",
   "outputs": [
    {
     "name": "stdout",
     "output_type": "stream",
     "text": [
      "[[ 0.  0.  0.  0.  0.  0.  0.]\n",
      " [ 0.  0.  0.  0.  0.  0.  0.]\n",
      " [ 1.  0.  0.  0.  0.  0.  0.]\n",
      " [ 0.  1.  0.  0.  0.  0.  0.]\n",
      " [ 0.  0.  1.  0.  0.  0.  0.]\n",
      " [ 0.  0.  0.  1.  0.  0.  0.]\n",
      " [ 0.  0.  0.  0.  1.  0.  0.]\n",
      " [ 0.  0.  0.  0.  0.  1.  0.]]\n"
     ]
    }
   ],
   "execution_count": 12
  },
  {
   "metadata": {
    "ExecuteTime": {
     "end_time": "2025-08-06T10:18:29.248206Z",
     "start_time": "2025-08-06T10:18:27.099302Z"
    }
   },
   "cell_type": "code",
   "source": [
    "rows,columns = input().split(\" \")\n",
    "row = int(rows)\n",
    "columns = int(columns)"
   ],
   "id": "73dcabf26e79bf4b",
   "outputs": [],
   "execution_count": 27
  },
  {
   "metadata": {
    "ExecuteTime": {
     "end_time": "2025-08-06T10:21:04.453648Z",
     "start_time": "2025-08-06T10:21:04.451209Z"
    }
   },
   "cell_type": "code",
   "source": "matrix = np.zeros((row,columns)).astype(int)\n",
   "id": "469898aade7bc064",
   "outputs": [],
   "execution_count": 34
  },
  {
   "metadata": {
    "ExecuteTime": {
     "end_time": "2025-08-06T10:21:40.802344Z",
     "start_time": "2025-08-06T10:21:40.799117Z"
    }
   },
   "cell_type": "code",
   "source": [
    "for x in matrix:\n",
    "    x += 1\n",
    "\n"
   ],
   "id": "bbb1e0a546dd58e0",
   "outputs": [],
   "execution_count": 36
  },
  {
   "metadata": {
    "ExecuteTime": {
     "end_time": "2025-08-06T10:21:45.550829Z",
     "start_time": "2025-08-06T10:21:45.547889Z"
    }
   },
   "cell_type": "code",
   "source": "matrix",
   "id": "effb5227537876d",
   "outputs": [
    {
     "data": {
      "text/plain": [
       "array([[1, 1, 1],\n",
       "       [1, 1, 1],\n",
       "       [1, 1, 1]])"
      ]
     },
     "execution_count": 37,
     "metadata": {},
     "output_type": "execute_result"
    }
   ],
   "execution_count": 37
  },
  {
   "metadata": {},
   "cell_type": "code",
   "outputs": [],
   "execution_count": null,
   "source": "",
   "id": "713422b277f2e1b3"
  }
 ],
 "metadata": {
  "kernelspec": {
   "display_name": "Python 3",
   "language": "python",
   "name": "python3"
  },
  "language_info": {
   "codemirror_mode": {
    "name": "ipython",
    "version": 2
   },
   "file_extension": ".py",
   "mimetype": "text/x-python",
   "name": "python",
   "nbconvert_exporter": "python",
   "pygments_lexer": "ipython2",
   "version": "2.7.6"
  }
 },
 "nbformat": 4,
 "nbformat_minor": 5
}
