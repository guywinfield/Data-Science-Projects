{
 "cells": [
  {
   "cell_type": "code",
   "id": "initial_id",
   "metadata": {
    "collapsed": true,
    "ExecuteTime": {
     "end_time": "2025-08-18T12:36:13.666279Z",
     "start_time": "2025-08-18T12:36:13.238170Z"
    }
   },
   "source": [
    "import pandas as pd\n",
    "import matplotlib.pyplot as plt\n",
    "import numpy as np\n",
    "\n",
    "normal_sample = np.random.normal(loc=0.0, scale=1.0, size=10000)\n",
    "random_sample = np.random.random(size=10000)\n",
    "gamma_sample = np.random.gamma(2, size=10000)\n",
    "\n",
    "df = pd.DataFrame({'normal': normal_sample,\n",
    "                   'random': random_sample,\n",
    "                   'gamma': gamma_sample})"
   ],
   "outputs": [],
   "execution_count": 1
  },
  {
   "metadata": {
    "ExecuteTime": {
     "end_time": "2025-08-18T12:36:29.735421Z",
     "start_time": "2025-08-18T12:36:29.725619Z"
    }
   },
   "cell_type": "code",
   "source": [
    "print(df.shape)\n",
    "df.head()"
   ],
   "id": "132862e11cf3a2ac",
   "outputs": [
    {
     "name": "stdout",
     "output_type": "stream",
     "text": [
      "(10000, 3)\n"
     ]
    },
    {
     "data": {
      "text/plain": [
       "     normal    random     gamma\n",
       "0  1.292943  0.220168  1.501247\n",
       "1  0.566983  0.335543  1.361412\n",
       "2 -0.935427  0.285963  2.149514\n",
       "3 -0.354267  0.331570  1.110697\n",
       "4  0.125984  0.238768  0.631932"
      ],
      "text/html": [
       "<div>\n",
       "<style scoped>\n",
       "    .dataframe tbody tr th:only-of-type {\n",
       "        vertical-align: middle;\n",
       "    }\n",
       "\n",
       "    .dataframe tbody tr th {\n",
       "        vertical-align: top;\n",
       "    }\n",
       "\n",
       "    .dataframe thead th {\n",
       "        text-align: right;\n",
       "    }\n",
       "</style>\n",
       "<table border=\"1\" class=\"dataframe\">\n",
       "  <thead>\n",
       "    <tr style=\"text-align: right;\">\n",
       "      <th></th>\n",
       "      <th>normal</th>\n",
       "      <th>random</th>\n",
       "      <th>gamma</th>\n",
       "    </tr>\n",
       "  </thead>\n",
       "  <tbody>\n",
       "    <tr>\n",
       "      <th>0</th>\n",
       "      <td>1.292943</td>\n",
       "      <td>0.220168</td>\n",
       "      <td>1.501247</td>\n",
       "    </tr>\n",
       "    <tr>\n",
       "      <th>1</th>\n",
       "      <td>0.566983</td>\n",
       "      <td>0.335543</td>\n",
       "      <td>1.361412</td>\n",
       "    </tr>\n",
       "    <tr>\n",
       "      <th>2</th>\n",
       "      <td>-0.935427</td>\n",
       "      <td>0.285963</td>\n",
       "      <td>2.149514</td>\n",
       "    </tr>\n",
       "    <tr>\n",
       "      <th>3</th>\n",
       "      <td>-0.354267</td>\n",
       "      <td>0.331570</td>\n",
       "      <td>1.110697</td>\n",
       "    </tr>\n",
       "    <tr>\n",
       "      <th>4</th>\n",
       "      <td>0.125984</td>\n",
       "      <td>0.238768</td>\n",
       "      <td>0.631932</td>\n",
       "    </tr>\n",
       "  </tbody>\n",
       "</table>\n",
       "</div>"
      ]
     },
     "execution_count": 3,
     "metadata": {},
     "output_type": "execute_result"
    }
   ],
   "execution_count": 3
  },
  {
   "metadata": {
    "ExecuteTime": {
     "end_time": "2025-08-18T12:37:42.097212Z",
     "start_time": "2025-08-18T12:37:42.088027Z"
    }
   },
   "cell_type": "code",
   "source": "df.describe()",
   "id": "7ea6e419fe7a0336",
   "outputs": [
    {
     "data": {
      "text/plain": [
       "             normal        random         gamma\n",
       "count  10000.000000  10000.000000  10000.000000\n",
       "mean      -0.000767      0.498304      1.988716\n",
       "std        0.986041      0.290676      1.392961\n",
       "min       -4.033470      0.000069      0.016610\n",
       "25%       -0.666919      0.244249      0.961421\n",
       "50%        0.003522      0.498693      1.661721\n",
       "75%        0.660976      0.752264      2.696536\n",
       "max        3.599526      0.999996     11.836730"
      ],
      "text/html": [
       "<div>\n",
       "<style scoped>\n",
       "    .dataframe tbody tr th:only-of-type {\n",
       "        vertical-align: middle;\n",
       "    }\n",
       "\n",
       "    .dataframe tbody tr th {\n",
       "        vertical-align: top;\n",
       "    }\n",
       "\n",
       "    .dataframe thead th {\n",
       "        text-align: right;\n",
       "    }\n",
       "</style>\n",
       "<table border=\"1\" class=\"dataframe\">\n",
       "  <thead>\n",
       "    <tr style=\"text-align: right;\">\n",
       "      <th></th>\n",
       "      <th>normal</th>\n",
       "      <th>random</th>\n",
       "      <th>gamma</th>\n",
       "    </tr>\n",
       "  </thead>\n",
       "  <tbody>\n",
       "    <tr>\n",
       "      <th>count</th>\n",
       "      <td>10000.000000</td>\n",
       "      <td>10000.000000</td>\n",
       "      <td>10000.000000</td>\n",
       "    </tr>\n",
       "    <tr>\n",
       "      <th>mean</th>\n",
       "      <td>-0.000767</td>\n",
       "      <td>0.498304</td>\n",
       "      <td>1.988716</td>\n",
       "    </tr>\n",
       "    <tr>\n",
       "      <th>std</th>\n",
       "      <td>0.986041</td>\n",
       "      <td>0.290676</td>\n",
       "      <td>1.392961</td>\n",
       "    </tr>\n",
       "    <tr>\n",
       "      <th>min</th>\n",
       "      <td>-4.033470</td>\n",
       "      <td>0.000069</td>\n",
       "      <td>0.016610</td>\n",
       "    </tr>\n",
       "    <tr>\n",
       "      <th>25%</th>\n",
       "      <td>-0.666919</td>\n",
       "      <td>0.244249</td>\n",
       "      <td>0.961421</td>\n",
       "    </tr>\n",
       "    <tr>\n",
       "      <th>50%</th>\n",
       "      <td>0.003522</td>\n",
       "      <td>0.498693</td>\n",
       "      <td>1.661721</td>\n",
       "    </tr>\n",
       "    <tr>\n",
       "      <th>75%</th>\n",
       "      <td>0.660976</td>\n",
       "      <td>0.752264</td>\n",
       "      <td>2.696536</td>\n",
       "    </tr>\n",
       "    <tr>\n",
       "      <th>max</th>\n",
       "      <td>3.599526</td>\n",
       "      <td>0.999996</td>\n",
       "      <td>11.836730</td>\n",
       "    </tr>\n",
       "  </tbody>\n",
       "</table>\n",
       "</div>"
      ]
     },
     "execution_count": 6,
     "metadata": {},
     "output_type": "execute_result"
    }
   ],
   "execution_count": 6
  },
  {
   "metadata": {
    "ExecuteTime": {
     "end_time": "2025-08-18T12:39:32.897534Z",
     "start_time": "2025-08-18T12:39:32.846888Z"
    }
   },
   "cell_type": "code",
   "source": "plt.boxplot(df['normal']);",
   "id": "397c3a6d53f0db6e",
   "outputs": [
    {
     "data": {
      "text/plain": [
       "<Figure size 640x480 with 1 Axes>"
      ],
      "image/png": "[encoded data removed]"
     },
     "metadata": {},
     "output_type": "display_data"
    }
   ],
   "execution_count": 14
  },
  {
   "metadata": {
    "ExecuteTime": {
     "end_time": "2025-08-18T12:40:26.271096Z",
     "start_time": "2025-08-18T12:40:26.217981Z"
    }
   },
   "cell_type": "code",
   "source": "plt.boxplot([df['normal'],df['random'],df['gamma']], whis=[0,100]) ;",
   "id": "fba6c24cc980c962",
   "outputs": [
    {
     "data": {
      "text/plain": [
       "<Figure size 640x480 with 1 Axes>"
      ],
      "image/png": "[encoded data removed]"
     },
     "metadata": {},
     "output_type": "display_data"
    }
   ],
   "execution_count": 15
  },
  {
   "metadata": {
    "ExecuteTime": {
     "end_time": "2025-08-18T12:40:57.092722Z",
     "start_time": "2025-08-18T12:40:57.007495Z"
    }
   },
   "cell_type": "code",
   "source": "plt.hist(df['gamma'],bins=100)",
   "id": "58f329d5354555fc",
   "outputs": [
    {
     "data": {
      "text/plain": [
       "(array([ 79., 175., 267., 274., 375., 436., 460., 435., 417., 486., 434.,\n",
       "        413., 400., 388., 344., 347., 319., 275., 299., 262., 250., 212.,\n",
       "        216., 218., 220., 183., 150., 151., 131., 107., 131.,  86., 103.,\n",
       "         83.,  83.,  66.,  76.,  67.,  51.,  44.,  56.,  36.,  40.,  34.,\n",
       "         42.,  23.,  27.,  30.,  16.,  15.,  27.,   4.,  12.,  15.,  13.,\n",
       "         10.,   9.,   6.,   9.,   6.,   7.,   4.,   5.,   5.,   3.,   6.,\n",
       "          2.,   2.,   1.,   2.,   0.,   0.,   1.,   0.,   2.,   2.,   2.,\n",
       "          4.,   0.,   1.,   0.,   1.,   0.,   1.,   1.,   0.,   0.,   1.,\n",
       "          0.,   2.,   0.,   1.,   0.,   0.,   0.,   0.,   0.,   0.,   0.,\n",
       "          1.]),\n",
       " array([ 0.01660995,  0.13481116,  0.25301236,  0.37121356,  0.48941477,\n",
       "         0.60761597,  0.72581718,  0.84401838,  0.96221958,  1.08042079,\n",
       "         1.19862199,  1.3168232 ,  1.4350244 ,  1.5532256 ,  1.67142681,\n",
       "         1.78962801,  1.90782921,  2.02603042,  2.14423162,  2.26243283,\n",
       "         2.38063403,  2.49883523,  2.61703644,  2.73523764,  2.85343884,\n",
       "         2.97164005,  3.08984125,  3.20804246,  3.32624366,  3.44444486,\n",
       "         3.56264607,  3.68084727,  3.79904848,  3.91724968,  4.03545088,\n",
       "         4.15365209,  4.27185329,  4.39005449,  4.5082557 ,  4.6264569 ,\n",
       "         4.74465811,  4.86285931,  4.98106051,  5.09926172,  5.21746292,\n",
       "         5.33566413,  5.45386533,  5.57206653,  5.69026774,  5.80846894,\n",
       "         5.92667014,  6.04487135,  6.16307255,  6.28127376,  6.39947496,\n",
       "         6.51767616,  6.63587737,  6.75407857,  6.87227978,  6.99048098,\n",
       "         7.10868218,  7.22688339,  7.34508459,  7.46328579,  7.581487  ,\n",
       "         7.6996882 ,  7.81788941,  7.93609061,  8.05429181,  8.17249302,\n",
       "         8.29069422,  8.40889542,  8.52709663,  8.64529783,  8.76349904,\n",
       "         8.88170024,  8.99990144,  9.11810265,  9.23630385,  9.35450506,\n",
       "         9.47270626,  9.59090746,  9.70910867,  9.82730987,  9.94551107,\n",
       "        10.06371228, 10.18191348, 10.30011469, 10.41831589, 10.53651709,\n",
       "        10.6547183 , 10.7729195 , 10.89112071, 11.00932191, 11.12752311,\n",
       "        11.24572432, 11.36392552, 11.48212672, 11.60032793, 11.71852913,\n",
       "        11.83673034]),\n",
       " <BarContainer object of 100 artists>)"
      ]
     },
     "execution_count": 16,
     "metadata": {},
     "output_type": "execute_result"
    },
    {
     "data": {
      "text/plain": [
       "<Figure size 640x480 with 1 Axes>"
      ],
      "image/png": "[encoded data removed]"
     },
     "metadata": {},
     "output_type": "display_data"
    }
   ],
   "execution_count": 16
  },
  {
   "metadata": {
    "ExecuteTime": {
     "end_time": "2025-08-18T12:43:37.175193Z",
     "start_time": "2025-08-18T12:43:37.049311Z"
    }
   },
   "cell_type": "code",
   "source": [
    "plt.figure(figsize=(9,9))\n",
    "\n",
    "plt.boxplot([df['normal'],df['random'],df['gamma']], whis=[0,100])\n",
    "\n",
    "ax2 = plt.gca().inset_axes([0,0.6,0.6,0.4])\n",
    "ax2.hist(df['gamma'], bins=100, density=True)\n",
    "\n",
    "ax2.yaxis.tick_right();"
   ],
   "id": "6f4944f6ab66f9ea",
   "outputs": [
    {
     "data": {
      "text/plain": [
       "<Figure size 900x900 with 1 Axes>"
      ],
      "image/png": "[encoded data removed]"
     },
     "metadata": {},
     "output_type": "display_data"
    }
   ],
   "execution_count": 18
  },
  {
   "metadata": {},
   "cell_type": "code",
   "outputs": [],
   "execution_count": null,
   "source": "",
   "id": "79052509cad17d2b"
  }
 ],
 "metadata": {
  "kernelspec": {
   "display_name": "Python 3",
   "language": "python",
   "name": "python3"
  },
  "language_info": {
   "codemirror_mode": {
    "name": "ipython",
    "version": 2
   },
   "file_extension": ".py",
   "mimetype": "text/x-python",
   "name": "python",
   "nbconvert_exporter": "python",
   "pygments_lexer": "ipython2",
   "version": "2.7.6"
  }
 },
 "nbformat": 4,
 "nbformat_minor": 5
}
