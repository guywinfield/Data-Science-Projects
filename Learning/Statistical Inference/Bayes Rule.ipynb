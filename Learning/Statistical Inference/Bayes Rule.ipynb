{
 "cells": [
  {
   "cell_type": "code",
   "id": "initial_id",
   "metadata": {
    "collapsed": true,
    "ExecuteTime": {
     "end_time": "2025-09-03T15:27:03.721183Z",
     "start_time": "2025-09-03T15:27:03.719733Z"
    }
   },
   "source": "print(0.3)",
   "outputs": [
    {
     "name": "stdout",
     "output_type": "stream",
     "text": [
      "0.3\n"
     ]
    }
   ],
   "execution_count": 1
  },
  {
   "metadata": {
    "ExecuteTime": {
     "end_time": "2025-09-03T15:27:47.697375Z",
     "start_time": "2025-09-03T15:27:47.693496Z"
    }
   },
   "cell_type": "code",
   "source": [
    "def f(p):\n",
    "    return p-1\n",
    "\n",
    "print(f(0.3))"
   ],
   "id": "10980b28b035a08",
   "outputs": [
    {
     "name": "stdout",
     "output_type": "stream",
     "text": [
      "0.3\n"
     ]
    }
   ],
   "execution_count": 2
  },
  {
   "metadata": {},
   "cell_type": "markdown",
   "source": [
    "Coin p =0.5\n",
    "\n",
    "\n"
   ],
   "id": "a393cbacf14f00c4"
  },
  {
   "metadata": {
    "ExecuteTime": {
     "end_time": "2025-09-03T15:33:29.859489Z",
     "start_time": "2025-09-03T15:33:29.857431Z"
    }
   },
   "cell_type": "code",
   "source": [
    "def f(p):\n",
    "    return p * p\n",
    "\n",
    "print(f(0.8))\n"
   ],
   "id": "a75171477619cfb7",
   "outputs": [
    {
     "name": "stdout",
     "output_type": "stream",
     "text": [
      "0.6400000000000001\n"
     ]
    }
   ],
   "execution_count": 5
  },
  {
   "metadata": {
    "ExecuteTime": {
     "end_time": "2025-09-03T15:33:31.007440Z",
     "start_time": "2025-09-03T15:33:31.003898Z"
    }
   },
   "cell_type": "code",
   "source": [
    "def f(p):\n",
    "    return 3 * p * (1-p) * (1-p)\n",
    "\n",
    "print(f(0.8))"
   ],
   "id": "cfdf53856d7abcf7",
   "outputs": [
    {
     "name": "stdout",
     "output_type": "stream",
     "text": [
      "0.09599999999999997\n"
     ]
    }
   ],
   "execution_count": 6
  },
  {
   "metadata": {
    "ExecuteTime": {
     "end_time": "2025-09-03T15:35:39.517554Z",
     "start_time": "2025-09-03T15:35:39.514516Z"
    }
   },
   "cell_type": "code",
   "source": [
    "def f(coin_1, coin_2):\n",
    "    return coin_1 * coin_2\n",
    "\n",
    "print(f(0.5, 0.8))"
   ],
   "id": "5fbc2674709ada7b",
   "outputs": [
    {
     "name": "stdout",
     "output_type": "stream",
     "text": [
      "0.4\n"
     ]
    }
   ],
   "execution_count": 7
  },
  {
   "metadata": {
    "ExecuteTime": {
     "end_time": "2025-09-03T15:45:16.655419Z",
     "start_time": "2025-09-03T15:45:16.651683Z"
    }
   },
   "cell_type": "code",
   "source": [
    "def f(p0, p1, p2):\n",
    "    return (p0 * p1) + ((1 - p0) * p2)\n",
    "\n",
    "print(f(0.3, 0.5, 0.9))"
   ],
   "id": "3cf8e6665e49cb7d",
   "outputs": [
    {
     "name": "stdout",
     "output_type": "stream",
     "text": [
      "0.78\n"
     ]
    }
   ],
   "execution_count": 13
  },
  {
   "metadata": {},
   "cell_type": "markdown",
   "source": "# Cancer Example",
   "id": "59a801a2289a623d"
  },
  {
   "metadata": {},
   "cell_type": "markdown",
   "source": [
    "## Probability test will come out Positive\n",
    "\n",
    "P(C) = p0 <br>\n",
    "P( Pos | C) = p1 <br>\n",
    "P( Neg | >C) = p2 <br>\n",
    "\n",
    "p0 = 0.1 <br>\n",
    "p1 = 0.9 <br>\n",
    "p2 = 0.8\n"
   ],
   "id": "3aa96a3ffa723f7d"
  },
  {
   "metadata": {
    "ExecuteTime": {
     "end_time": "2025-09-03T16:04:45.844512Z",
     "start_time": "2025-09-03T16:04:45.841435Z"
    }
   },
   "cell_type": "code",
   "source": [
    "def f(p0, p1, p2):\n",
    "    return (p0 * p1) + ((1 - p0) * (1-p2))"
   ],
   "id": "432480b806a304",
   "outputs": [],
   "execution_count": 28
  },
  {
   "metadata": {
    "ExecuteTime": {
     "end_time": "2025-09-03T16:04:46.329822Z",
     "start_time": "2025-09-03T16:04:46.327029Z"
    }
   },
   "cell_type": "code",
   "source": "print(f(0.1, 0.9, 0.8))",
   "id": "a6ed11641c41bf70",
   "outputs": [
    {
     "name": "stdout",
     "output_type": "stream",
     "text": [
      "0.26999999999999996\n"
     ]
    }
   ],
   "execution_count": 29
  },
  {
   "metadata": {},
   "cell_type": "markdown",
   "source": [
    "## Posterior Probability of Cancer given we've received a Positive test result\n",
    "\n",
    "### P( C | Pos)\n",
    "\n",
    "P(C) = p0 <br>\n",
    "P( Pos | C) = p1 <br>\n",
    "P( Neg | >C) = p2 <br>\n",
    "\n",
    "p0 = 0.1 <br>\n",
    "p1 = 0.9 <br>\n",
    "p2 = 0.8\n"
   ],
   "id": "5ccb836bce87dbe3"
  },
  {
   "metadata": {
    "ExecuteTime": {
     "end_time": "2025-09-03T16:06:41.477126Z",
     "start_time": "2025-09-03T16:06:41.473912Z"
    }
   },
   "cell_type": "code",
   "source": [
    "def f(p0, p1, p2):\n",
    "    return (p0 * p1) / (p0 * p1 + (1 - p0) * (1 - p2))"
   ],
   "id": "e1c0a8823b017178",
   "outputs": [],
   "execution_count": 31
  },
  {
   "metadata": {
    "ExecuteTime": {
     "end_time": "2025-09-03T16:07:05.943490Z",
     "start_time": "2025-09-03T16:07:05.940599Z"
    }
   },
   "cell_type": "code",
   "source": "print(f(0.1, 0.9, 0.8))",
   "id": "1345451dd98c9edb",
   "outputs": [
    {
     "name": "stdout",
     "output_type": "stream",
     "text": [
      "0.3333333333333334\n"
     ]
    }
   ],
   "execution_count": 33
  },
  {
   "metadata": {},
   "cell_type": "markdown",
   "source": [
    "## Posterior Probability of Cancer given we've received a Negative test result\n",
    "\n",
    "### P( C | Neg)\n",
    "\n",
    "P(C) = p0 <br>\n",
    "P( Pos | C) = p1 <br>\n",
    "P( Neg | >C) = p2 <br>\n",
    "\n",
    "p0 = 0.1 <br>\n",
    "p1 = 0.9 <br>\n",
    "p2 = 0.8\n"
   ],
   "id": "a48d398a0510807a"
  },
  {
   "metadata": {
    "ExecuteTime": {
     "end_time": "2025-09-03T16:08:13.730647Z",
     "start_time": "2025-09-03T16:08:13.726950Z"
    }
   },
   "cell_type": "code",
   "source": [
    "def f(p0, p1, p2): # Negative\n",
    "    return p0 * (1-p1) / (p0 * (1-p1) + (1-p0) * p2)\n",
    "print(f(0.1, 0.9, 0.8))"
   ],
   "id": "26e9786d9daad382",
   "outputs": [
    {
     "name": "stdout",
     "output_type": "stream",
     "text": [
      "0.013698630136986297\n"
     ]
    }
   ],
   "execution_count": 34
  },
  {
   "metadata": {
    "ExecuteTime": {
     "end_time": "2025-09-03T16:08:13.906164Z",
     "start_time": "2025-09-03T16:08:13.904375Z"
    }
   },
   "cell_type": "code",
   "source": "",
   "id": "82d46e616c152d16",
   "outputs": [],
   "execution_count": null
  },
  {
   "metadata": {},
   "cell_type": "code",
   "outputs": [],
   "execution_count": null,
   "source": "",
   "id": "4464c9a5644ea5c1"
  },
  {
   "metadata": {},
   "cell_type": "code",
   "outputs": [],
   "execution_count": null,
   "source": [
    "from __future__ import division\n",
    "class FlipPredictor(object):\n",
    "    def __init__(self,coins):\n",
    "        self.coins=coins\n",
    "        n=len(coins)\n",
    "        self.probs=[1/n]*n\n",
    "    def pheads(self):\n",
    "        return sum(pcoin*p for pcoin,p in zip(self.coins,self.probs))\n",
    "\n",
    "    def update(self,result):\n",
    "        pheads=self.pheads()\n",
    "        if result=='H':\n",
    "            self.probs=[pcoin*p/pheads for pcoin,p in zip(self.coins,self.probs)]\n",
    "        else:\n",
    "            self.probs=[(1-pcoin)*p/(1-pheads) for pcoin,p in zip(self.coins,self.probs)]"
   ],
   "id": "a5f911920c02601"
  },
  {
   "metadata": {},
   "cell_type": "code",
   "outputs": [],
   "execution_count": null,
   "source": "",
   "id": "642d5209d4449af5"
  }
 ],
 "metadata": {
  "kernelspec": {
   "display_name": "Python 3",
   "language": "python",
   "name": "python3"
  },
  "language_info": {
   "codemirror_mode": {
    "name": "ipython",
    "version": 2
   },
   "file_extension": ".py",
   "mimetype": "text/x-python",
   "name": "python",
   "nbconvert_exporter": "python",
   "pygments_lexer": "ipython2",
   "version": "2.7.6"
  }
 },
 "nbformat": 4,
 "nbformat_minor": 5
}
