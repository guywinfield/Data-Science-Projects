{
 "cells": [
  {
   "metadata": {
    "ExecuteTime": {
     "end_time": "2025-08-11T10:11:11.136048Z",
     "start_time": "2025-08-11T10:11:11.065584Z"
    }
   },
   "cell_type": "code",
   "source": [
    "import numpy\n",
    "\n",
    "my_array = numpy.array([ [1, 2], [3, 4] ])\n",
    "\n",
    "print(numpy.mean(my_array, axis = 0))        #Output : [ 2.  3.]\n",
    "print(numpy.mean(my_array, axis = 1))        #Output : [ 1.5  3.5]\n",
    "print(numpy.mean(my_array, axis = None))     #Output : 2.5\n",
    "print(numpy.mean(my_array))                  #Output : 2.5"
   ],
   "id": "409454e4b956f91a",
   "outputs": [
    {
     "name": "stdout",
     "output_type": "stream",
     "text": [
      "[2. 3.]\n",
      "[1.5 3.5]\n",
      "2.5\n",
      "2.5\n"
     ]
    }
   ],
   "execution_count": 2
  },
  {
   "metadata": {
    "ExecuteTime": {
     "end_time": "2025-08-11T13:20:04.891938Z",
     "start_time": "2025-08-11T13:19:51.824231Z"
    }
   },
   "cell_type": "code",
   "source": [
    "import numpy as np\n",
    "\n",
    "prompt = input().rstrip().split(\"\\n\")\n",
    "\n",
    "array = [prompt.split(\" \") for prompt in prompt]\n",
    "array = np.array([[int(x) for x in sub] for sub in array])\n",
    "rows,cols = array[0][0],array[0][1]\n",
    "\n",
    "print(np.mean(array[(rows-1):], axis = 1))\n",
    "print(np.var(array[(cols-1):], axis = 0))\n",
    "print(np.std(array[(rows-1):], axis = None))"
   ],
   "id": "bb0689e299bd1ce0",
   "outputs": [
    {
     "name": "stdout",
     "output_type": "stream",
     "text": [
      "[1.5 3.5]\n",
      "[1. 1.]\n",
      "1.118033988749895\n"
     ]
    }
   ],
   "execution_count": 165
  }
 ],
 "metadata": {
  "kernelspec": {
   "display_name": "Python 3",
   "language": "python",
   "name": "python3"
  },
  "language_info": {
   "codemirror_mode": {
    "name": "ipython",
    "version": 2
   },
   "file_extension": ".py",
   "mimetype": "text/x-python",
   "name": "python",
   "nbconvert_exporter": "python",
   "pygments_lexer": "ipython2",
   "version": "2.7.6"
  }
 },
 "nbformat": 4,
 "nbformat_minor": 5
}
