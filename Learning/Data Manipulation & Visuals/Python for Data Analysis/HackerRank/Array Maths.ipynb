{
 "cells": [
  {
   "cell_type": "code",
   "id": "initial_id",
   "metadata": {
    "collapsed": true,
    "ExecuteTime": {
     "end_time": "2025-08-06T10:57:33.905045Z",
     "start_time": "2025-08-06T10:57:33.853355Z"
    }
   },
   "source": [
    "import numpy\n",
    "\n",
    "a = numpy.array([1,2,3,4], float)\n",
    "b = numpy.array([5,6,7,8], float)\n",
    "\n",
    "print(a + b)                     #[  6.   8.  10.  12.]\n",
    "print(numpy.add(a, b))           #[  6.   8.  10.  12.]\n",
    "\n",
    "print(a - b)                     #[-4. -4. -4. -4.]\n",
    "print(numpy.subtract(a, b))      #[-4. -4. -4. -4.]\n",
    "\n",
    "print(a * b)                     #[  5.  12.  21.  32.]\n",
    "print(numpy.multiply(a, b))      #[  5.  12.  21.  32.]\n",
    "\n",
    "print(a / b)                   #[ 0.2         0.33333333  0.42857143  0.5       ]\n",
    "print(numpy.divide(a, b))        #[ 0.2         0.33333333  0.42857143  0.5       ]\n",
    "\n",
    "print(a % b)                     #[ 1.  2.  3.  4.]\n",
    "print(numpy.mod(a, b))           #[ 1.  2.  3.  4.]\n",
    "\n",
    "print(a**b)                      #[  1.00000000e+00   6.40000000e+01   2.18700000e+03   6.55360000e+04]\n",
    "print(numpy.power(a, b))         #[  1.00000000e+00   6.40000000e+01   2.18700000e+03   6.55360000e+04]\n"
   ],
   "outputs": [
    {
     "name": "stdout",
     "output_type": "stream",
     "text": [
      "[ 6.  8. 10. 12.]\n",
      "[ 6.  8. 10. 12.]\n",
      "[-4. -4. -4. -4.]\n",
      "[-4. -4. -4. -4.]\n",
      "[ 5. 12. 21. 32.]\n",
      "[ 5. 12. 21. 32.]\n",
      "[0.2        0.33333333 0.42857143 0.5       ]\n",
      "[0.2        0.33333333 0.42857143 0.5       ]\n",
      "[1. 2. 3. 4.]\n",
      "[1. 2. 3. 4.]\n",
      "[1.0000e+00 6.4000e+01 2.1870e+03 6.5536e+04]\n",
      "[1.0000e+00 6.4000e+01 2.1870e+03 6.5536e+04]\n"
     ]
    }
   ],
   "execution_count": 2
  },
  {
   "metadata": {
    "ExecuteTime": {
     "end_time": "2025-08-06T11:03:07.360264Z",
     "start_time": "2025-08-06T11:03:03.798464Z"
    }
   },
   "cell_type": "code",
   "source": "ab_start, a, b = input().split(\"\\n\")",
   "id": "a7cbebf3c64c7661",
   "outputs": [],
   "execution_count": 4
  },
  {
   "metadata": {
    "ExecuteTime": {
     "end_time": "2025-08-06T11:03:12.770527Z",
     "start_time": "2025-08-06T11:03:12.768514Z"
    }
   },
   "cell_type": "code",
   "source": "ab_start",
   "id": "97a3668838fea486",
   "outputs": [
    {
     "data": {
      "text/plain": [
       "'1 4'"
      ]
     },
     "execution_count": 5,
     "metadata": {},
     "output_type": "execute_result"
    }
   ],
   "execution_count": 5
  },
  {
   "metadata": {
    "ExecuteTime": {
     "end_time": "2025-08-06T11:03:14.443147Z",
     "start_time": "2025-08-06T11:03:14.439669Z"
    }
   },
   "cell_type": "code",
   "source": "a",
   "id": "f0db9059f83ae1b",
   "outputs": [
    {
     "data": {
      "text/plain": [
       "'1 2 3 4'"
      ]
     },
     "execution_count": 6,
     "metadata": {},
     "output_type": "execute_result"
    }
   ],
   "execution_count": 6
  },
  {
   "metadata": {
    "ExecuteTime": {
     "end_time": "2025-08-06T11:03:15.594908Z",
     "start_time": "2025-08-06T11:03:15.591513Z"
    }
   },
   "cell_type": "code",
   "source": "b",
   "id": "bcb6033c96004780",
   "outputs": [
    {
     "data": {
      "text/plain": [
       "'5 6 7 8'"
      ]
     },
     "execution_count": 7,
     "metadata": {},
     "output_type": "execute_result"
    }
   ],
   "execution_count": 7
  },
  {
   "metadata": {
    "ExecuteTime": {
     "end_time": "2025-08-06T11:05:45.135571Z",
     "start_time": "2025-08-06T11:05:37.315735Z"
    }
   },
   "cell_type": "code",
   "source": [
    "import numpy as np\n",
    "\n",
    "n, m = map(int, input().split())\n",
    "A = []\n",
    "B = []\n",
    "\n",
    "for i in range(n):\n",
    "    A.append([*map(int, input().split())])\n",
    "A = np.array(A)\n",
    "\n",
    "for j in range(n):\n",
    "    B.append(list(map(int, input().split())))\n",
    "B = np.array(B)\n",
    "\n",
    "print(np.add(A, B))\n",
    "print(A - B)\n",
    "print(np.multiply(A, B))\n",
    "print(np.floor_divide(A, B))\n",
    "print(A % B)\n",
    "print(A ** B)"
   ],
   "id": "4700280d6a435437",
   "outputs": [
    {
     "ename": "ValueError",
     "evalue": "too many values to unpack (expected 2)",
     "output_type": "error",
     "traceback": [
      "\u001B[0;31m---------------------------------------------------------------------------\u001B[0m",
      "\u001B[0;31mValueError\u001B[0m                                Traceback (most recent call last)",
      "Cell \u001B[0;32mIn[11], line 3\u001B[0m\n\u001B[1;32m      1\u001B[0m \u001B[38;5;28;01mimport\u001B[39;00m\u001B[38;5;250m \u001B[39m\u001B[38;5;21;01mnumpy\u001B[39;00m\u001B[38;5;250m \u001B[39m\u001B[38;5;28;01mas\u001B[39;00m\u001B[38;5;250m \u001B[39m\u001B[38;5;21;01mnp\u001B[39;00m\n\u001B[0;32m----> 3\u001B[0m n, m \u001B[38;5;241m=\u001B[39m \u001B[38;5;28mmap\u001B[39m(\u001B[38;5;28mint\u001B[39m, \u001B[38;5;28minput\u001B[39m()\u001B[38;5;241m.\u001B[39msplit())\n\u001B[1;32m      4\u001B[0m A \u001B[38;5;241m=\u001B[39m []\n\u001B[1;32m      5\u001B[0m B \u001B[38;5;241m=\u001B[39m []\n",
      "\u001B[0;31mValueError\u001B[0m: too many values to unpack (expected 2)"
     ]
    }
   ],
   "execution_count": 11
  },
  {
   "metadata": {
    "ExecuteTime": {
     "end_time": "2025-08-06T12:50:53.410493Z",
     "start_time": "2025-08-06T12:50:53.218717Z"
    }
   },
   "cell_type": "code",
   "source": [
    "import pandas as pd\n",
    "\n",
    "data = pd.DataFrame({\"k1\": [\"one\", \"two\"] * 3 + [\"two\"],\"k2\": [1, 1, 2, 3, 3, 4, 4]})\n"
   ],
   "id": "32b4534fab4c6e32",
   "outputs": [],
   "execution_count": 13
  },
  {
   "metadata": {
    "ExecuteTime": {
     "end_time": "2025-08-06T12:51:16.263500Z",
     "start_time": "2025-08-06T12:51:16.257164Z"
    }
   },
   "cell_type": "code",
   "source": "data.duplicated().value_counts()",
   "id": "e38002fbf6b0095d",
   "outputs": [
    {
     "data": {
      "text/plain": [
       "False    6\n",
       "True     1\n",
       "Name: count, dtype: int64"
      ]
     },
     "execution_count": 16,
     "metadata": {},
     "output_type": "execute_result"
    }
   ],
   "execution_count": 16
  },
  {
   "metadata": {},
   "cell_type": "code",
   "outputs": [],
   "execution_count": null,
   "source": "",
   "id": "72cd4bf44642b551"
  }
 ],
 "metadata": {
  "kernelspec": {
   "display_name": "Python 3",
   "language": "python",
   "name": "python3"
  },
  "language_info": {
   "codemirror_mode": {
    "name": "ipython",
    "version": 2
   },
   "file_extension": ".py",
   "mimetype": "text/x-python",
   "name": "python",
   "nbconvert_exporter": "python",
   "pygments_lexer": "ipython2",
   "version": "2.7.6"
  }
 },
 "nbformat": 4,
 "nbformat_minor": 5
}
