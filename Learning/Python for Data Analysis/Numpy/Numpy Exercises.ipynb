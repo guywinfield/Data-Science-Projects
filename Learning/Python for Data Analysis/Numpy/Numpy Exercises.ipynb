{
 "cells": [
  {
   "cell_type": "code",
   "id": "5bd0af44-32cc-4f2f-9aea-38f5f17d7ae6",
   "metadata": {
    "ExecuteTime": {
     "end_time": "2025-07-28T12:38:51.092155Z",
     "start_time": "2025-07-28T12:38:51.090214Z"
    }
   },
   "source": [
    "import numpy\n",
    "\n",
    "my__1D_array = numpy.array([1, 2, 3, 4, 5])\n",
    "print(my__1D_array.shape)     #(5,) -> 1 row and 5 columns"
   ],
   "outputs": [
    {
     "name": "stdout",
     "output_type": "stream",
     "text": [
      "(5,)\n"
     ]
    }
   ],
   "execution_count": 7
  },
  {
   "metadata": {
    "ExecuteTime": {
     "end_time": "2025-07-28T12:39:01.237636Z",
     "start_time": "2025-07-28T12:39:01.235698Z"
    }
   },
   "cell_type": "code",
   "source": [
    "my__2D_array = numpy.array([[1, 2],[3, 4],[6,5]])\n",
    "print(my__2D_array.shape)     #(3, 2) -> 3 rows and 2 columns"
   ],
   "id": "7b0cf8a6570f1011",
   "outputs": [
    {
     "name": "stdout",
     "output_type": "stream",
     "text": [
      "(3, 2)\n"
     ]
    }
   ],
   "execution_count": 8
  },
  {
   "metadata": {
    "ExecuteTime": {
     "end_time": "2025-07-28T12:39:49.634220Z",
     "start_time": "2025-07-28T12:39:49.631837Z"
    }
   },
   "cell_type": "code",
   "source": [
    "import numpy\n",
    "\n",
    "change_array = numpy.array([1,2,3,4,5,6])\n",
    "change_array.shape = (3, 2)\n",
    "print(change_array)"
   ],
   "id": "2d7f0e95a920a814",
   "outputs": [
    {
     "name": "stdout",
     "output_type": "stream",
     "text": [
      "[[1 2]\n",
      " [3 4]\n",
      " [5 6]]\n"
     ]
    }
   ],
   "execution_count": 10
  },
  {
   "metadata": {
    "ExecuteTime": {
     "end_time": "2025-07-28T12:40:08.171382Z",
     "start_time": "2025-07-28T12:40:08.168866Z"
    }
   },
   "cell_type": "code",
   "source": [
    "import numpy\n",
    "\n",
    "my_array = numpy.array([1,2,3,4,5,6])\n",
    "print(numpy.reshape(my_array,(3,2)))\n",
    "\n"
   ],
   "id": "6d766d66b41d7230",
   "outputs": [
    {
     "name": "stdout",
     "output_type": "stream",
     "text": [
      "[[1 2]\n",
      " [3 4]\n",
      " [5 6]]\n"
     ]
    }
   ],
   "execution_count": 12
  },
  {
   "metadata": {},
   "cell_type": "markdown",
   "source": [
    "# Task\n",
    "\n",
    "You are given a space separated list of nine integers. Your task is to convert this list into a X NumPy array.\n",
    "\n",
    "### Input Format\n",
    "\n",
    "A single line of input containing  space separated integers.\n",
    "\n",
    "### Output Format\n",
    "\n",
    "Print the X NumPy array.\n",
    "\n"
   ],
   "id": "72eade3e163c715e"
  },
  {
   "metadata": {
    "ExecuteTime": {
     "end_time": "2025-07-28T12:52:36.506126Z",
     "start_time": "2025-07-28T12:52:30.768852Z"
    }
   },
   "cell_type": "code",
   "source": [
    "import numpy as np\n",
    "\n",
    "print(np.reshape(np.array([input().split(\" \")]).astype(np.int32),(3,3)))"
   ],
   "id": "d61666d209440df2",
   "outputs": [
    {
     "name": "stdout",
     "output_type": "stream",
     "text": [
      "[[1 2 3]\n",
      " [4 5 6]\n",
      " [7 8 9]]\n"
     ]
    }
   ],
   "execution_count": 35
  },
  {
   "metadata": {
    "ExecuteTime": {
     "end_time": "2025-07-28T12:52:22.337654Z",
     "start_time": "2025-07-28T12:52:22.334045Z"
    }
   },
   "cell_type": "code",
   "source": "types.dtype",
   "id": "11e43e00e6208091",
   "outputs": [
    {
     "data": {
      "text/plain": [
       "dtype('int32')"
      ]
     },
     "execution_count": 34,
     "metadata": {},
     "output_type": "execute_result"
    }
   ],
   "execution_count": 34
  }
 ],
 "metadata": {
  "kernelspec": {
   "display_name": "Python [conda env:base] *",
   "language": "python",
   "name": "conda-base-py"
  },
  "language_info": {
   "codemirror_mode": {
    "name": "ipython",
    "version": 3
   },
   "file_extension": ".py",
   "mimetype": "text/x-python",
   "name": "python",
   "nbconvert_exporter": "python",
   "pygments_lexer": "ipython3",
   "version": "3.13.5"
  }
 },
 "nbformat": 4,
 "nbformat_minor": 5
}
